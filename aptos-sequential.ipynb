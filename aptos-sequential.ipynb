{
 "cells": [
  {
   "cell_type": "code",
   "execution_count": 1,
   "id": "d317a355",
   "metadata": {
    "_cell_guid": "b1076dfc-b9ad-4769-8c92-a6c4dae69d19",
    "_uuid": "8f2839f25d086af736a60e9eeb907d3b93b6e0e5",
    "execution": {
     "iopub.execute_input": "2021-09-30T08:25:40.154125Z",
     "iopub.status.busy": "2021-09-30T08:25:40.152373Z",
     "iopub.status.idle": "2021-09-30T08:25:44.833283Z",
     "shell.execute_reply": "2021-09-30T08:25:44.832711Z",
     "shell.execute_reply.started": "2021-09-30T00:08:35.494346Z"
    },
    "papermill": {
     "duration": 4.697985,
     "end_time": "2021-09-30T08:25:44.833464",
     "exception": false,
     "start_time": "2021-09-30T08:25:40.135479",
     "status": "completed"
    },
    "tags": []
   },
   "outputs": [
    {
     "name": "stderr",
     "output_type": "stream",
     "text": [
      "2021-09-30 08:25:40.872424: I tensorflow/stream_executor/platform/default/dso_loader.cc:49] Successfully opened dynamic library libcudart.so.11.0\n"
     ]
    }
   ],
   "source": [
    "# This Python 3 environment comes with many helpful analytics libraries installed\n",
    "# It is defined by the kaggle/python Docker image: https://github.com/kaggle/docker-python\n",
    "# For example, here's several helpful packages to load\n",
    "import numpy as np # linear algebra\n",
    "import pandas as pd # data processing, CSV file I/O (e.g. pd.read_csv)\n",
    "from PIL import Image\n",
    "import glob\n",
    "import matplotlib.pyplot as plt\n",
    "import matplotlib.image as mpimg\n",
    "import cv2\n",
    "import csv\n",
    "import os\n",
    "import tensorflow as tf\n",
    "import scipy.misc\n",
    "from tensorflow.keras.applications.resnet_v2 import ResNet50V2\n",
    "from tensorflow.keras.preprocessing import image\n",
    "from tensorflow.keras.applications.resnet_v2 import preprocess_input, decode_predictions\n",
    "from tensorflow.keras import layers\n",
    "from tensorflow.keras.layers import Input, Add, Dense, Activation, ZeroPadding2D, BatchNormalization, Flatten, Conv2D, AveragePooling2D, MaxPooling2D, GlobalMaxPooling2D\n",
    "from tensorflow.keras.models import Model, load_model\n",
    "# from resnets_utils import *\n",
    "from tensorflow.keras.initializers import random_uniform, glorot_uniform, constant, identity\n",
    "from tensorflow.python.framework.ops import EagerTensor\n",
    "from matplotlib.pyplot import imshow\n",
    "from tensorflow.keras.preprocessing.image import ImageDataGenerator\n",
    "# from test_utils import summary, comparator\n",
    "# import public_tests\n",
    "\n",
    "# Input data files are available in the read-only \"../input/\" directory\n",
    "# For example, running this (by clicking run or pressing Shift+Enter) will list all files under the input directory\n",
    "#path='/kaggle/input/aptos2019-blindness-detection/train_images'\n",
    "\n",
    "\n",
    "# You can write up to 20GB to the current directory (/kaggle/working/) that gets preserved as output when you create a version using \"Save & Run All\" \n",
    "# You can also write temporary files to /kaggle/temp/, but they won't be saved outside of the current session"
   ]
  },
  {
   "cell_type": "code",
   "execution_count": 2,
   "id": "0feaea9e",
   "metadata": {
    "execution": {
     "iopub.execute_input": "2021-09-30T08:25:44.864190Z",
     "iopub.status.busy": "2021-09-30T08:25:44.863670Z",
     "iopub.status.idle": "2021-09-30T08:25:44.867217Z",
     "shell.execute_reply": "2021-09-30T08:25:44.866818Z",
     "shell.execute_reply.started": "2021-09-30T00:08:40.174832Z"
    },
    "papermill": {
     "duration": 0.022595,
     "end_time": "2021-09-30T08:25:44.867333",
     "exception": false,
     "start_time": "2021-09-30T08:25:44.844738",
     "status": "completed"
    },
    "tags": []
   },
   "outputs": [],
   "source": [
    "def Read_training_data():\n",
    "    path_training_imgs='/kaggle/input/aptos2019-blindness-detection/train_images'\n",
    "    path_training_lbls='/kaggle/input/aptos2019-blindness-detection/train.csv'\n",
    "    train_image_list=np.zeros((3662,256,256,3))\n",
    "    train_lbls_list=np.zeros((1,3662))\n",
    "    i=0\n",
    "    j=0\n",
    "\n",
    "    with open(path_training_lbls, 'r') as file:\n",
    "                reader = csv.reader(file)\n",
    "                for row in reader:\n",
    "                    if(row[1]=='diagnosis'):\n",
    "                        continue\n",
    "                    train_lbls_list[0][j]=int(row[1])\n",
    "                    j=j+1\n",
    "    Y_train =tf.keras.utils.to_categorical(train_lbls_list, num_classes=5, dtype=\"float32\")\n",
    "    print(Y_train.shape)\n",
    "    for dirname, _, filenames in os.walk(path_training_imgs):\n",
    "        for filename in filenames:\n",
    "            image_path=os.path.join(dirname, filename)\n",
    "            img = cv2.imread(image_path)\n",
    "            img = cv2.cvtColor(img, cv2.COLOR_BGR2RGB)\n",
    "            img = cv2.resize(img,(256,256))\n",
    "#             img=np.asarray(img)\n",
    "#             img=img.reshape(224,224,3)\n",
    "            train_image_list[i]=img\n",
    "            i=i+1\n",
    "\n",
    "#     print(training_image_list.shape)\n",
    "#     for dirname, _, filenames in os.walk(path_training_lbls):\n",
    "    return train_image_list , Y_train"
   ]
  },
  {
   "cell_type": "code",
   "execution_count": 3,
   "id": "eb912677",
   "metadata": {
    "execution": {
     "iopub.execute_input": "2021-09-30T08:25:44.891270Z",
     "iopub.status.busy": "2021-09-30T08:25:44.890788Z",
     "iopub.status.idle": "2021-09-30T08:32:12.597250Z",
     "shell.execute_reply": "2021-09-30T08:32:12.597859Z",
     "shell.execute_reply.started": "2021-09-30T00:08:40.188683Z"
    },
    "papermill": {
     "duration": 387.720377,
     "end_time": "2021-09-30T08:32:12.598047",
     "exception": false,
     "start_time": "2021-09-30T08:25:44.877670",
     "status": "completed"
    },
    "tags": []
   },
   "outputs": [
    {
     "name": "stdout",
     "output_type": "stream",
     "text": [
      "(1, 3662, 5)\n",
      "(3662, 256, 256, 3) (1, 3662, 5)\n"
     ]
    }
   ],
   "source": [
    "X, X_lbls=Read_training_data()\n",
    "print(X.shape, X_lbls.shape)"
   ]
  },
  {
   "cell_type": "code",
   "execution_count": 4,
   "id": "a474fb43",
   "metadata": {
    "execution": {
     "iopub.execute_input": "2021-09-30T08:32:12.631047Z",
     "iopub.status.busy": "2021-09-30T08:32:12.629162Z",
     "iopub.status.idle": "2021-09-30T08:32:14.850089Z",
     "shell.execute_reply": "2021-09-30T08:32:14.849471Z",
     "shell.execute_reply.started": "2021-09-30T00:15:02.482156Z"
    },
    "papermill": {
     "duration": 2.240161,
     "end_time": "2021-09-30T08:32:14.850220",
     "exception": false,
     "start_time": "2021-09-30T08:32:12.610059",
     "status": "completed"
    },
    "tags": []
   },
   "outputs": [
    {
     "name": "stderr",
     "output_type": "stream",
     "text": [
      "2021-09-30 08:32:12.649626: I tensorflow/compiler/jit/xla_cpu_device.cc:41] Not creating XLA devices, tf_xla_enable_xla_devices not set\n",
      "2021-09-30 08:32:12.655114: I tensorflow/stream_executor/platform/default/dso_loader.cc:49] Successfully opened dynamic library libcuda.so.1\n",
      "2021-09-30 08:32:12.699476: I tensorflow/stream_executor/cuda/cuda_gpu_executor.cc:941] successful NUMA node read from SysFS had negative value (-1), but there must be at least one NUMA node, so returning NUMA node zero\n",
      "2021-09-30 08:32:12.700129: I tensorflow/core/common_runtime/gpu/gpu_device.cc:1720] Found device 0 with properties: \n",
      "pciBusID: 0000:00:04.0 name: Tesla P100-PCIE-16GB computeCapability: 6.0\n",
      "coreClock: 1.3285GHz coreCount: 56 deviceMemorySize: 15.90GiB deviceMemoryBandwidth: 681.88GiB/s\n",
      "2021-09-30 08:32:12.700185: I tensorflow/stream_executor/platform/default/dso_loader.cc:49] Successfully opened dynamic library libcudart.so.11.0\n",
      "2021-09-30 08:32:12.725951: I tensorflow/stream_executor/platform/default/dso_loader.cc:49] Successfully opened dynamic library libcublas.so.11\n",
      "2021-09-30 08:32:12.726024: I tensorflow/stream_executor/platform/default/dso_loader.cc:49] Successfully opened dynamic library libcublasLt.so.11\n",
      "2021-09-30 08:32:12.761762: I tensorflow/stream_executor/platform/default/dso_loader.cc:49] Successfully opened dynamic library libcufft.so.10\n",
      "2021-09-30 08:32:12.779286: I tensorflow/stream_executor/platform/default/dso_loader.cc:49] Successfully opened dynamic library libcurand.so.10\n",
      "2021-09-30 08:32:12.804519: I tensorflow/stream_executor/platform/default/dso_loader.cc:49] Successfully opened dynamic library libcusolver.so.10\n",
      "2021-09-30 08:32:12.817032: I tensorflow/stream_executor/platform/default/dso_loader.cc:49] Successfully opened dynamic library libcusparse.so.11\n",
      "2021-09-30 08:32:12.820258: I tensorflow/stream_executor/platform/default/dso_loader.cc:49] Successfully opened dynamic library libcudnn.so.8\n",
      "2021-09-30 08:32:12.820444: I tensorflow/stream_executor/cuda/cuda_gpu_executor.cc:941] successful NUMA node read from SysFS had negative value (-1), but there must be at least one NUMA node, so returning NUMA node zero\n",
      "2021-09-30 08:32:12.821141: I tensorflow/stream_executor/cuda/cuda_gpu_executor.cc:941] successful NUMA node read from SysFS had negative value (-1), but there must be at least one NUMA node, so returning NUMA node zero\n",
      "2021-09-30 08:32:12.823008: I tensorflow/core/common_runtime/gpu/gpu_device.cc:1862] Adding visible gpu devices: 0\n",
      "2021-09-30 08:32:12.826264: I tensorflow/core/platform/cpu_feature_guard.cc:142] This TensorFlow binary is optimized with oneAPI Deep Neural Network Library (oneDNN) to use the following CPU instructions in performance-critical operations:  AVX2 AVX512F FMA\n",
      "To enable them in other operations, rebuild TensorFlow with the appropriate compiler flags.\n",
      "2021-09-30 08:32:12.826427: I tensorflow/compiler/jit/xla_gpu_device.cc:99] Not creating XLA devices, tf_xla_enable_xla_devices not set\n",
      "2021-09-30 08:32:12.826605: I tensorflow/stream_executor/cuda/cuda_gpu_executor.cc:941] successful NUMA node read from SysFS had negative value (-1), but there must be at least one NUMA node, so returning NUMA node zero\n",
      "2021-09-30 08:32:12.827422: I tensorflow/core/common_runtime/gpu/gpu_device.cc:1720] Found device 0 with properties: \n",
      "pciBusID: 0000:00:04.0 name: Tesla P100-PCIE-16GB computeCapability: 6.0\n",
      "coreClock: 1.3285GHz coreCount: 56 deviceMemorySize: 15.90GiB deviceMemoryBandwidth: 681.88GiB/s\n",
      "2021-09-30 08:32:12.827478: I tensorflow/stream_executor/platform/default/dso_loader.cc:49] Successfully opened dynamic library libcudart.so.11.0\n",
      "2021-09-30 08:32:12.827509: I tensorflow/stream_executor/platform/default/dso_loader.cc:49] Successfully opened dynamic library libcublas.so.11\n",
      "2021-09-30 08:32:12.827529: I tensorflow/stream_executor/platform/default/dso_loader.cc:49] Successfully opened dynamic library libcublasLt.so.11\n",
      "2021-09-30 08:32:12.827553: I tensorflow/stream_executor/platform/default/dso_loader.cc:49] Successfully opened dynamic library libcufft.so.10\n",
      "2021-09-30 08:32:12.827576: I tensorflow/stream_executor/platform/default/dso_loader.cc:49] Successfully opened dynamic library libcurand.so.10\n",
      "2021-09-30 08:32:12.827596: I tensorflow/stream_executor/platform/default/dso_loader.cc:49] Successfully opened dynamic library libcusolver.so.10\n",
      "2021-09-30 08:32:12.827616: I tensorflow/stream_executor/platform/default/dso_loader.cc:49] Successfully opened dynamic library libcusparse.so.11\n",
      "2021-09-30 08:32:12.827638: I tensorflow/stream_executor/platform/default/dso_loader.cc:49] Successfully opened dynamic library libcudnn.so.8\n",
      "2021-09-30 08:32:12.827748: I tensorflow/stream_executor/cuda/cuda_gpu_executor.cc:941] successful NUMA node read from SysFS had negative value (-1), but there must be at least one NUMA node, so returning NUMA node zero\n",
      "2021-09-30 08:32:12.828486: I tensorflow/stream_executor/cuda/cuda_gpu_executor.cc:941] successful NUMA node read from SysFS had negative value (-1), but there must be at least one NUMA node, so returning NUMA node zero\n",
      "2021-09-30 08:32:12.829100: I tensorflow/core/common_runtime/gpu/gpu_device.cc:1862] Adding visible gpu devices: 0\n",
      "2021-09-30 08:32:12.829974: I tensorflow/stream_executor/platform/default/dso_loader.cc:49] Successfully opened dynamic library libcudart.so.11.0\n",
      "2021-09-30 08:32:14.389257: I tensorflow/core/common_runtime/gpu/gpu_device.cc:1261] Device interconnect StreamExecutor with strength 1 edge matrix:\n",
      "2021-09-30 08:32:14.389301: I tensorflow/core/common_runtime/gpu/gpu_device.cc:1267]      0 \n",
      "2021-09-30 08:32:14.389311: I tensorflow/core/common_runtime/gpu/gpu_device.cc:1280] 0:   N \n",
      "2021-09-30 08:32:14.391313: I tensorflow/stream_executor/cuda/cuda_gpu_executor.cc:941] successful NUMA node read from SysFS had negative value (-1), but there must be at least one NUMA node, so returning NUMA node zero\n",
      "2021-09-30 08:32:14.392060: I tensorflow/stream_executor/cuda/cuda_gpu_executor.cc:941] successful NUMA node read from SysFS had negative value (-1), but there must be at least one NUMA node, so returning NUMA node zero\n",
      "2021-09-30 08:32:14.392705: I tensorflow/stream_executor/cuda/cuda_gpu_executor.cc:941] successful NUMA node read from SysFS had negative value (-1), but there must be at least one NUMA node, so returning NUMA node zero\n",
      "2021-09-30 08:32:14.393274: I tensorflow/core/common_runtime/gpu/gpu_device.cc:1406] Created TensorFlow device (/job:localhost/replica:0/task:0/device:GPU:0 with 14957 MB memory) -> physical GPU (device: 0, name: Tesla P100-PCIE-16GB, pci bus id: 0000:00:04.0, compute capability: 6.0)\n"
     ]
    }
   ],
   "source": [
    "from tensorflow.keras.models import Sequential\n",
    "from tensorflow.keras.layers import Dense, Dropout, Flatten, Conv2D, MaxPool2D , GaussianDropout\n",
    "from tensorflow.keras import regularizers, optimizers\n",
    "k=4\n",
    "s=2\n",
    "model = Sequential()\n",
    "model.add(Conv2D(input_shape=(256,256,3),filters=16,kernel_size=(k,k),padding=\"valid\"))\n",
    "model.add(Conv2D(filters = 16,kernel_size=(k,k),strides=(s,s),padding = 'valid', activation ='relu', input_shape = (224,224,3)))\n",
    "model.add(BatchNormalization())\n",
    "model.add(MaxPool2D(pool_size=(2,2),strides=(s,s)))\n",
    "model.add(Conv2D(filters = 64, kernel_size=(k,k),strides=(s,s),padding = 'Same'))\n",
    "model.add(Conv2D(filters = 64, kernel_size=(k,k),strides=(s,s),padding = 'Same' ))\n",
    "model.add(Conv2D(filters = 64, kernel_size=(k,k),strides=(s,s),padding = 'Same', activation ='relu'))\n",
    "model.add(BatchNormalization())\n",
    "model.add(MaxPool2D(pool_size=(2,2), strides=(s,s)))\n",
    "model.add(Flatten())\n",
    "model.add(Dense(256, activation='relu', kernel_initializer='he_normal'))\n",
    "model.add(BatchNormalization())\n",
    "model.add(Dense(5, activation = \"softmax\"))"
   ]
  },
  {
   "cell_type": "code",
   "execution_count": 5,
   "id": "2c8a9fae",
   "metadata": {
    "execution": {
     "iopub.execute_input": "2021-09-30T08:32:14.878212Z",
     "iopub.status.busy": "2021-09-30T08:32:14.877718Z",
     "iopub.status.idle": "2021-09-30T08:32:14.881029Z",
     "shell.execute_reply": "2021-09-30T08:32:14.880588Z",
     "shell.execute_reply.started": "2021-09-30T00:15:04.678729Z"
    },
    "papermill": {
     "duration": 0.019047,
     "end_time": "2021-09-30T08:32:14.881136",
     "exception": false,
     "start_time": "2021-09-30T08:32:14.862089",
     "status": "completed"
    },
    "tags": []
   },
   "outputs": [],
   "source": [
    "from tensorflow.keras.optimizers import RMSprop,Adam\n",
    "optimizer = Adam(lr=0.001, beta_1=0.9, beta_2=0.999,amsgrad=True,clipnorm=1.,clipvalue=0.5)"
   ]
  },
  {
   "cell_type": "code",
   "execution_count": 6,
   "id": "59b44de2",
   "metadata": {
    "execution": {
     "iopub.execute_input": "2021-09-30T08:32:14.913641Z",
     "iopub.status.busy": "2021-09-30T08:32:14.912853Z",
     "iopub.status.idle": "2021-09-30T08:32:14.918151Z",
     "shell.execute_reply": "2021-09-30T08:32:14.918599Z",
     "shell.execute_reply.started": "2021-09-30T00:15:04.687061Z"
    },
    "papermill": {
     "duration": 0.026413,
     "end_time": "2021-09-30T08:32:14.918720",
     "exception": false,
     "start_time": "2021-09-30T08:32:14.892307",
     "status": "completed"
    },
    "tags": []
   },
   "outputs": [],
   "source": [
    "model.compile(optimizer = optimizer , loss = \"categorical_crossentropy\", metrics=[\"accuracy\"])"
   ]
  },
  {
   "cell_type": "code",
   "execution_count": 7,
   "id": "482c00c9",
   "metadata": {
    "execution": {
     "iopub.execute_input": "2021-09-30T08:32:14.946564Z",
     "iopub.status.busy": "2021-09-30T08:32:14.945658Z",
     "iopub.status.idle": "2021-09-30T08:32:14.955439Z",
     "shell.execute_reply": "2021-09-30T08:32:14.954832Z",
     "shell.execute_reply.started": "2021-09-30T00:15:04.706549Z"
    },
    "papermill": {
     "duration": 0.025639,
     "end_time": "2021-09-30T08:32:14.955582",
     "exception": false,
     "start_time": "2021-09-30T08:32:14.929943",
     "status": "completed"
    },
    "tags": []
   },
   "outputs": [
    {
     "name": "stdout",
     "output_type": "stream",
     "text": [
      "Model: \"sequential\"\n",
      "_________________________________________________________________\n",
      "Layer (type)                 Output Shape              Param #   \n",
      "=================================================================\n",
      "conv2d (Conv2D)              (None, 253, 253, 16)      784       \n",
      "_________________________________________________________________\n",
      "conv2d_1 (Conv2D)            (None, 125, 125, 16)      4112      \n",
      "_________________________________________________________________\n",
      "batch_normalization (BatchNo (None, 125, 125, 16)      64        \n",
      "_________________________________________________________________\n",
      "max_pooling2d (MaxPooling2D) (None, 62, 62, 16)        0         \n",
      "_________________________________________________________________\n",
      "conv2d_2 (Conv2D)            (None, 31, 31, 64)        16448     \n",
      "_________________________________________________________________\n",
      "conv2d_3 (Conv2D)            (None, 16, 16, 64)        65600     \n",
      "_________________________________________________________________\n",
      "conv2d_4 (Conv2D)            (None, 8, 8, 64)          65600     \n",
      "_________________________________________________________________\n",
      "batch_normalization_1 (Batch (None, 8, 8, 64)          256       \n",
      "_________________________________________________________________\n",
      "max_pooling2d_1 (MaxPooling2 (None, 4, 4, 64)          0         \n",
      "_________________________________________________________________\n",
      "flatten (Flatten)            (None, 1024)              0         \n",
      "_________________________________________________________________\n",
      "dense (Dense)                (None, 256)               262400    \n",
      "_________________________________________________________________\n",
      "batch_normalization_2 (Batch (None, 256)               1024      \n",
      "_________________________________________________________________\n",
      "dense_1 (Dense)              (None, 5)                 1285      \n",
      "=================================================================\n",
      "Total params: 417,573\n",
      "Trainable params: 416,901\n",
      "Non-trainable params: 672\n",
      "_________________________________________________________________\n"
     ]
    }
   ],
   "source": [
    "model.summary()"
   ]
  },
  {
   "cell_type": "code",
   "execution_count": 8,
   "id": "541e1788",
   "metadata": {
    "execution": {
     "iopub.execute_input": "2021-09-30T08:32:14.984651Z",
     "iopub.status.busy": "2021-09-30T08:32:14.983276Z",
     "iopub.status.idle": "2021-09-30T08:32:14.985754Z",
     "shell.execute_reply": "2021-09-30T08:32:14.986164Z",
     "shell.execute_reply.started": "2021-09-30T00:15:04.722157Z"
    },
    "papermill": {
     "duration": 0.018364,
     "end_time": "2021-09-30T08:32:14.986284",
     "exception": false,
     "start_time": "2021-09-30T08:32:14.967920",
     "status": "completed"
    },
    "tags": []
   },
   "outputs": [],
   "source": [
    "epochs = 20  # for better result increase the epochs\n",
    "batch_size = 20"
   ]
  },
  {
   "cell_type": "code",
   "execution_count": 9,
   "id": "84d80c91",
   "metadata": {
    "execution": {
     "iopub.execute_input": "2021-09-30T08:32:15.013991Z",
     "iopub.status.busy": "2021-09-30T08:32:15.013352Z",
     "iopub.status.idle": "2021-09-30T08:36:07.584227Z",
     "shell.execute_reply": "2021-09-30T08:36:07.584640Z",
     "shell.execute_reply.started": "2021-09-30T00:15:04.731510Z"
    },
    "papermill": {
     "duration": 232.58665,
     "end_time": "2021-09-30T08:36:07.584801",
     "exception": false,
     "start_time": "2021-09-30T08:32:14.998151",
     "status": "completed"
    },
    "tags": []
   },
   "outputs": [
    {
     "name": "stderr",
     "output_type": "stream",
     "text": [
      "2021-09-30 08:32:17.339886: W tensorflow/core/framework/cpu_allocator_impl.cc:80] Allocation of 2879913984 exceeds 10% of free system memory.\n",
      "2021-09-30 08:32:19.833323: I tensorflow/compiler/mlir/mlir_graph_optimization_pass.cc:116] None of the MLIR optimization passes are enabled (registered 2)\n",
      "2021-09-30 08:32:19.846483: I tensorflow/core/platform/profile_utils/cpu_utils.cc:112] CPU Frequency: 2000160000 Hz\n"
     ]
    },
    {
     "name": "stdout",
     "output_type": "stream",
     "text": [
      "Epoch 1/50\n"
     ]
    },
    {
     "name": "stderr",
     "output_type": "stream",
     "text": [
      "2021-09-30 08:32:21.465752: I tensorflow/stream_executor/platform/default/dso_loader.cc:49] Successfully opened dynamic library libcublas.so.11\n",
      "2021-09-30 08:32:22.320558: I tensorflow/stream_executor/platform/default/dso_loader.cc:49] Successfully opened dynamic library libcublasLt.so.11\n",
      "2021-09-30 08:32:22.360831: I tensorflow/stream_executor/platform/default/dso_loader.cc:49] Successfully opened dynamic library libcudnn.so.8\n"
     ]
    },
    {
     "name": "stdout",
     "output_type": "stream",
     "text": [
      "184/184 [==============================] - 13s 24ms/step - loss: 1.8336 - accuracy: 0.3272\n",
      "Epoch 2/50\n",
      "184/184 [==============================] - 4s 24ms/step - loss: 1.3588 - accuracy: 0.4590\n",
      "Epoch 3/50\n",
      "184/184 [==============================] - 4s 24ms/step - loss: 1.3301 - accuracy: 0.4715\n",
      "Epoch 4/50\n",
      "184/184 [==============================] - 4s 24ms/step - loss: 1.3416 - accuracy: 0.4646\n",
      "Epoch 5/50\n",
      "184/184 [==============================] - 4s 24ms/step - loss: 1.3169 - accuracy: 0.4882\n",
      "Epoch 6/50\n",
      "184/184 [==============================] - 4s 24ms/step - loss: 1.3424 - accuracy: 0.4799\n",
      "Epoch 7/50\n",
      "184/184 [==============================] - 4s 23ms/step - loss: 1.3206 - accuracy: 0.4812\n",
      "Epoch 8/50\n",
      "184/184 [==============================] - 4s 23ms/step - loss: 1.3128 - accuracy: 0.4858\n",
      "Epoch 9/50\n",
      "184/184 [==============================] - 4s 24ms/step - loss: 1.3095 - accuracy: 0.4904\n",
      "Epoch 10/50\n",
      "184/184 [==============================] - 4s 23ms/step - loss: 1.3263 - accuracy: 0.4768\n",
      "Epoch 11/50\n",
      "184/184 [==============================] - 4s 24ms/step - loss: 1.3135 - accuracy: 0.4803\n",
      "Epoch 12/50\n",
      "184/184 [==============================] - 4s 24ms/step - loss: 1.3068 - accuracy: 0.4866\n",
      "Epoch 13/50\n",
      "184/184 [==============================] - 4s 24ms/step - loss: 1.2955 - accuracy: 0.4958\n",
      "Epoch 14/50\n",
      "184/184 [==============================] - 4s 24ms/step - loss: 1.2970 - accuracy: 0.4901\n",
      "Epoch 15/50\n",
      "184/184 [==============================] - 4s 24ms/step - loss: 1.2923 - accuracy: 0.4769\n",
      "Epoch 16/50\n",
      "184/184 [==============================] - 4s 24ms/step - loss: 1.2755 - accuracy: 0.4910\n",
      "Epoch 17/50\n",
      "184/184 [==============================] - 4s 24ms/step - loss: 1.3009 - accuracy: 0.4745\n",
      "Epoch 18/50\n",
      "184/184 [==============================] - 4s 24ms/step - loss: 1.2792 - accuracy: 0.4950\n",
      "Epoch 19/50\n",
      "184/184 [==============================] - 4s 24ms/step - loss: 1.2926 - accuracy: 0.4864\n",
      "Epoch 20/50\n",
      "184/184 [==============================] - 4s 24ms/step - loss: 1.2829 - accuracy: 0.4851\n",
      "Epoch 21/50\n",
      "184/184 [==============================] - 4s 24ms/step - loss: 1.2637 - accuracy: 0.4962\n",
      "Epoch 22/50\n",
      "184/184 [==============================] - 4s 23ms/step - loss: 1.2705 - accuracy: 0.4914\n",
      "Epoch 23/50\n",
      "184/184 [==============================] - 4s 23ms/step - loss: 1.2619 - accuracy: 0.5000\n",
      "Epoch 24/50\n",
      "184/184 [==============================] - 4s 24ms/step - loss: 1.2575 - accuracy: 0.4993\n",
      "Epoch 25/50\n",
      "184/184 [==============================] - 4s 24ms/step - loss: 1.2483 - accuracy: 0.4993\n",
      "Epoch 26/50\n",
      "184/184 [==============================] - 4s 24ms/step - loss: 1.2528 - accuracy: 0.4883\n",
      "Epoch 27/50\n",
      "184/184 [==============================] - 5s 25ms/step - loss: 1.2444 - accuracy: 0.5115\n",
      "Epoch 28/50\n",
      "184/184 [==============================] - 4s 24ms/step - loss: 1.2279 - accuracy: 0.5001\n",
      "Epoch 29/50\n",
      "184/184 [==============================] - 4s 24ms/step - loss: 1.2220 - accuracy: 0.5064\n",
      "Epoch 30/50\n",
      "184/184 [==============================] - 4s 24ms/step - loss: 1.2203 - accuracy: 0.5079\n",
      "Epoch 31/50\n",
      "184/184 [==============================] - 4s 24ms/step - loss: 1.2132 - accuracy: 0.5157\n",
      "Epoch 32/50\n",
      "184/184 [==============================] - 4s 24ms/step - loss: 1.2055 - accuracy: 0.5000\n",
      "Epoch 33/50\n",
      "184/184 [==============================] - 4s 24ms/step - loss: 1.1697 - accuracy: 0.5220\n",
      "Epoch 34/50\n",
      "184/184 [==============================] - 4s 23ms/step - loss: 1.1673 - accuracy: 0.5196\n",
      "Epoch 35/50\n",
      "184/184 [==============================] - 4s 24ms/step - loss: 1.1623 - accuracy: 0.5463\n",
      "Epoch 36/50\n",
      "184/184 [==============================] - 4s 24ms/step - loss: 1.1503 - accuracy: 0.5315\n",
      "Epoch 37/50\n",
      "184/184 [==============================] - 4s 23ms/step - loss: 1.1547 - accuracy: 0.5267\n",
      "Epoch 38/50\n",
      "184/184 [==============================] - 4s 23ms/step - loss: 1.1228 - accuracy: 0.5498\n",
      "Epoch 39/50\n",
      "184/184 [==============================] - 4s 23ms/step - loss: 1.1333 - accuracy: 0.5425\n",
      "Epoch 40/50\n",
      "184/184 [==============================] - 4s 24ms/step - loss: 1.1119 - accuracy: 0.5455\n",
      "Epoch 41/50\n",
      "184/184 [==============================] - 4s 24ms/step - loss: 1.0729 - accuracy: 0.5637\n",
      "Epoch 42/50\n",
      "184/184 [==============================] - 5s 25ms/step - loss: 1.1078 - accuracy: 0.5456\n",
      "Epoch 43/50\n",
      "184/184 [==============================] - 4s 23ms/step - loss: 1.0994 - accuracy: 0.5471\n",
      "Epoch 44/50\n",
      "184/184 [==============================] - 4s 24ms/step - loss: 1.0409 - accuracy: 0.5775\n",
      "Epoch 45/50\n",
      "184/184 [==============================] - 4s 23ms/step - loss: 1.0048 - accuracy: 0.5883\n",
      "Epoch 46/50\n",
      "184/184 [==============================] - 4s 24ms/step - loss: 1.0163 - accuracy: 0.5972\n",
      "Epoch 47/50\n",
      "184/184 [==============================] - 4s 24ms/step - loss: 1.0195 - accuracy: 0.5809\n",
      "Epoch 48/50\n",
      "184/184 [==============================] - 4s 24ms/step - loss: 0.9736 - accuracy: 0.6205\n",
      "Epoch 49/50\n",
      "184/184 [==============================] - 4s 24ms/step - loss: 0.9747 - accuracy: 0.6023\n",
      "Epoch 50/50\n",
      "184/184 [==============================] - 5s 25ms/step - loss: 0.9497 - accuracy: 0.6244\n"
     ]
    },
    {
     "data": {
      "text/plain": [
       "<tensorflow.python.keras.callbacks.History at 0x7fab500e9850>"
      ]
     },
     "execution_count": 9,
     "metadata": {},
     "output_type": "execute_result"
    }
   ],
   "source": [
    "model.fit(X,X_lbls[0],batch_size=20, epochs=50)"
   ]
  },
  {
   "cell_type": "code",
   "execution_count": 10,
   "id": "4e42f00c",
   "metadata": {
    "execution": {
     "iopub.execute_input": "2021-09-30T08:36:09.423415Z",
     "iopub.status.busy": "2021-09-30T08:36:09.422889Z",
     "iopub.status.idle": "2021-09-30T08:36:09.450190Z",
     "shell.execute_reply": "2021-09-30T08:36:09.449771Z",
     "shell.execute_reply.started": "2021-09-30T00:19:19.598286Z"
    },
    "papermill": {
     "duration": 0.932297,
     "end_time": "2021-09-30T08:36:09.450306",
     "exception": false,
     "start_time": "2021-09-30T08:36:08.518009",
     "status": "completed"
    },
    "tags": []
   },
   "outputs": [],
   "source": [
    "submit = pd.read_csv('/kaggle/input/aptos2019-blindness-detection/sample_submission.csv')\n",
    "predicted = []"
   ]
  },
  {
   "cell_type": "code",
   "execution_count": 11,
   "id": "f5fee858",
   "metadata": {
    "_kg_hide-output": true,
    "execution": {
     "iopub.execute_input": "2021-09-30T08:36:11.399639Z",
     "iopub.status.busy": "2021-09-30T08:36:11.391290Z",
     "iopub.status.idle": "2021-09-30T08:38:41.758995Z",
     "shell.execute_reply": "2021-09-30T08:38:41.758521Z",
     "shell.execute_reply.started": "2021-09-30T00:19:57.780992Z"
    },
    "papermill": {
     "duration": 151.404432,
     "end_time": "2021-09-30T08:38:41.759123",
     "exception": false,
     "start_time": "2021-09-30T08:36:10.354691",
     "status": "completed"
    },
    "tags": []
   },
   "outputs": [
    {
     "name": "stderr",
     "output_type": "stream",
     "text": [
      "3it [00:00,  6.40it/s]"
     ]
    },
    {
     "name": "stdout",
     "output_type": "stream",
     "text": [
      "[[0.84589154 0.08588351 0.05565479 0.00843078 0.00413938]]\n",
      "[[0.84401673 0.08853997 0.05397263 0.00883671 0.004634  ]]\n",
      "[[0.8381257  0.09218507 0.05545624 0.00947387 0.00475913]]\n",
      "[[0.8420061  0.08994204 0.05504293 0.00897621 0.00403267]]\n"
     ]
    },
    {
     "name": "stderr",
     "output_type": "stream",
     "text": [
      "5it [00:00,  9.60it/s]"
     ]
    },
    {
     "name": "stdout",
     "output_type": "stream",
     "text": [
      "[[0.84595454 0.08540946 0.05500462 0.00898303 0.00464826]]\n",
      "[[0.85413027 0.08051842 0.05269084 0.00830717 0.00435336]]\n"
     ]
    },
    {
     "name": "stderr",
     "output_type": "stream",
     "text": [
      "9it [00:00, 11.46it/s]"
     ]
    },
    {
     "name": "stdout",
     "output_type": "stream",
     "text": [
      "[[0.8395113  0.08405603 0.06135006 0.00993341 0.00514928]]\n",
      "[[0.83008283 0.0935655  0.062397   0.009468   0.00448673]]\n",
      "[[0.85470843 0.08321349 0.05029293 0.00756831 0.00421683]]\n",
      "[[0.86233574 0.08078615 0.0459295  0.00751577 0.00343278]]\n"
     ]
    },
    {
     "name": "stderr",
     "output_type": "stream",
     "text": [
      "13it [00:01, 12.82it/s]"
     ]
    },
    {
     "name": "stdout",
     "output_type": "stream",
     "text": [
      "[[0.844791   0.08040029 0.05992079 0.01031544 0.00457251]]\n",
      "[[0.8499611  0.08333369 0.05321865 0.00899174 0.00449481]]\n",
      "[[0.84972495 0.08619378 0.04987909 0.00967944 0.00452279]]\n",
      "[[0.84733295 0.08708868 0.05253129 0.00888671 0.00416043]]\n"
     ]
    },
    {
     "name": "stderr",
     "output_type": "stream",
     "text": [
      "15it [00:01, 11.87it/s]"
     ]
    },
    {
     "name": "stdout",
     "output_type": "stream",
     "text": [
      "[[0.83411884 0.08966652 0.06146935 0.01007117 0.00467408]]\n"
     ]
    },
    {
     "name": "stderr",
     "output_type": "stream",
     "text": [
      "19it [00:01, 11.76it/s]"
     ]
    },
    {
     "name": "stdout",
     "output_type": "stream",
     "text": [
      "[[0.8613503  0.0795911  0.04803129 0.00785842 0.00316899]]\n",
      "[[0.8379909  0.08950523 0.0574237  0.01009645 0.00498376]]\n",
      "[[0.8426344  0.08790547 0.05593013 0.00915113 0.00437888]]\n",
      "[[0.8521195  0.07997064 0.05436302 0.00879273 0.00475408]]\n"
     ]
    },
    {
     "name": "stderr",
     "output_type": "stream",
     "text": [
      "24it [00:02, 15.07it/s]"
     ]
    },
    {
     "name": "stdout",
     "output_type": "stream",
     "text": [
      "[[0.83888847 0.08790327 0.06022767 0.00867361 0.00430693]]\n",
      "[[0.8400541  0.0917798  0.05418351 0.00944782 0.00453486]]\n",
      "[[0.8477021  0.08319976 0.05570086 0.00907871 0.00431868]]\n",
      "[[0.85281914 0.0822465  0.0527023  0.00843014 0.00380188]]\n",
      "[[0.8525268  0.08318152 0.05116059 0.00882634 0.00430481]]\n"
     ]
    },
    {
     "name": "stderr",
     "output_type": "stream",
     "text": [
      "27it [00:02, 16.84it/s]"
     ]
    },
    {
     "name": "stdout",
     "output_type": "stream",
     "text": [
      "[[0.84876513 0.0852526  0.05298707 0.00886254 0.00413265]]\n",
      "[[0.8450354  0.08649337 0.05368419 0.00987756 0.00490943]]\n",
      "[[0.84720707 0.08562587 0.05415922 0.00875094 0.00425695]]\n"
     ]
    },
    {
     "name": "stderr",
     "output_type": "stream",
     "text": [
      "32it [00:02, 16.43it/s]"
     ]
    },
    {
     "name": "stdout",
     "output_type": "stream",
     "text": [
      "[[0.84911996 0.08509517 0.05170431 0.00939029 0.00469039]]\n",
      "[[0.83668995 0.09214051 0.05732468 0.00930841 0.00453639]]\n",
      "[[0.8364201  0.09156828 0.05776026 0.00973789 0.00451345]]\n",
      "[[0.8483427  0.08530542 0.05236446 0.00897819 0.00500919]]\n",
      "[[0.85202736 0.08201305 0.05349913 0.00820688 0.0042535 ]]\n"
     ]
    },
    {
     "name": "stderr",
     "output_type": "stream",
     "text": [
      "37it [00:02, 18.19it/s]"
     ]
    },
    {
     "name": "stdout",
     "output_type": "stream",
     "text": [
      "[[0.8520339  0.08269954 0.05174909 0.00927294 0.00424451]]\n",
      "[[0.82265437 0.08955396 0.07049433 0.01172852 0.00556886]]\n",
      "[[0.8493078  0.0856107  0.05080122 0.0093886  0.00489174]]\n",
      "[[0.84147173 0.08791773 0.05668108 0.00944045 0.00448898]]\n",
      "[[0.8415406  0.08840465 0.05705593 0.00856047 0.00443833]]\n"
     ]
    },
    {
     "name": "stderr",
     "output_type": "stream",
     "text": [
      "40it [00:02, 19.04it/s]"
     ]
    },
    {
     "name": "stdout",
     "output_type": "stream",
     "text": [
      "[[0.84723246 0.08700761 0.05159069 0.00935278 0.00481643]]\n",
      "[[0.84282917 0.0847595  0.05794727 0.00927568 0.0051884 ]]\n",
      "[[0.8379607  0.08747746 0.05996622 0.00975744 0.00483809]]\n"
     ]
    },
    {
     "name": "stderr",
     "output_type": "stream",
     "text": [
      "42it [00:03, 14.61it/s]"
     ]
    },
    {
     "name": "stdout",
     "output_type": "stream",
     "text": [
      "[[0.84431773 0.08677931 0.05524807 0.00932699 0.00432799]]\n",
      "[[0.84043896 0.08902891 0.05573582 0.00964946 0.00514687]]\n"
     ]
    },
    {
     "name": "stderr",
     "output_type": "stream",
     "text": [
      "44it [00:03, 11.94it/s]"
     ]
    },
    {
     "name": "stdout",
     "output_type": "stream",
     "text": [
      "[[0.8484996  0.08503846 0.05205861 0.00959445 0.00480895]]\n",
      "[[0.8472062  0.08509969 0.05421492 0.00914116 0.00433808]]\n",
      "[[0.8426645  0.08458872 0.05818627 0.00970791 0.00485262]]\n"
     ]
    },
    {
     "name": "stderr",
     "output_type": "stream",
     "text": [
      "46it [00:03, 11.31it/s]"
     ]
    },
    {
     "name": "stdout",
     "output_type": "stream",
     "text": [
      "[[0.85119104 0.08216394 0.05344753 0.00890852 0.00428889]]\n",
      "[[0.8443766  0.08316199 0.05882552 0.00925761 0.00437828]]\n"
     ]
    },
    {
     "name": "stderr",
     "output_type": "stream",
     "text": [
      "48it [00:03, 10.80it/s]"
     ]
    },
    {
     "name": "stdout",
     "output_type": "stream",
     "text": [
      "[[0.8526963  0.0820204  0.05194904 0.00874412 0.00459006]]\n",
      "[[0.8406221  0.09014776 0.05497428 0.00938251 0.00487329]]\n"
     ]
    },
    {
     "name": "stderr",
     "output_type": "stream",
     "text": [
      "53it [00:04, 12.86it/s]"
     ]
    },
    {
     "name": "stdout",
     "output_type": "stream",
     "text": [
      "[[0.84336954 0.08382373 0.05856862 0.0096873  0.00455079]]\n",
      "[[0.846694   0.08879182 0.05123563 0.00865108 0.0046274 ]]\n",
      "[[0.8397126  0.08903251 0.0561028  0.00977716 0.00537494]]\n",
      "[[0.85410863 0.08314025 0.05017266 0.0086146  0.00396391]]\n",
      "[[0.85120547 0.08321755 0.05258636 0.00850559 0.00448508]]\n"
     ]
    },
    {
     "name": "stderr",
     "output_type": "stream",
     "text": [
      "58it [00:04, 15.18it/s]"
     ]
    },
    {
     "name": "stdout",
     "output_type": "stream",
     "text": [
      "[[0.8444294  0.08718171 0.05493261 0.00884073 0.00461552]]\n",
      "[[0.8508152  0.08256889 0.0523757  0.009465   0.00477517]]\n",
      "[[0.8498671  0.08575711 0.051856   0.00836983 0.0041499 ]]\n",
      "[[0.83691555 0.09302553 0.05801833 0.0079455  0.00409521]]\n"
     ]
    },
    {
     "name": "stderr",
     "output_type": "stream",
     "text": [
      "60it [00:04, 15.15it/s]"
     ]
    },
    {
     "name": "stdout",
     "output_type": "stream",
     "text": [
      "[[0.83857423 0.08698294 0.06177689 0.00844492 0.00422091]]\n",
      "[[0.84666425 0.08653358 0.05335187 0.0089396  0.00451064]]\n",
      "[[0.8408078  0.09104151 0.05374572 0.00956853 0.00483652]]\n",
      "[[0.83754253 0.08870894 0.05869339 0.01031429 0.00474079]]\n"
     ]
    },
    {
     "name": "stderr",
     "output_type": "stream",
     "text": [
      "66it [00:05, 15.81it/s]"
     ]
    },
    {
     "name": "stdout",
     "output_type": "stream",
     "text": [
      "[[0.8474888  0.08322112 0.05443734 0.01008651 0.00476627]]\n",
      "[[0.85007095 0.08457345 0.05256595 0.00872163 0.00406796]]\n",
      "[[0.8507682  0.08297864 0.05338784 0.00880131 0.00406402]]\n",
      "[[0.84667945 0.08928648 0.05053363 0.00907468 0.00442564]]\n",
      "[[0.84670234 0.08348127 0.05578078 0.00948671 0.0045489 ]]\n"
     ]
    },
    {
     "name": "stderr",
     "output_type": "stream",
     "text": [
      "68it [00:05, 16.59it/s]"
     ]
    },
    {
     "name": "stdout",
     "output_type": "stream",
     "text": [
      "[[0.8369672  0.09024456 0.05925819 0.00881515 0.0047149 ]]\n",
      "[[0.84616786 0.08777588 0.05275409 0.00907317 0.00422896]]\n",
      "[[0.8468389  0.08811172 0.05230514 0.00866577 0.00407851]]\n"
     ]
    },
    {
     "name": "stderr",
     "output_type": "stream",
     "text": [
      "73it [00:05, 15.20it/s]"
     ]
    },
    {
     "name": "stdout",
     "output_type": "stream",
     "text": [
      "[[0.85038453 0.08538356 0.05067994 0.00904683 0.00450512]]\n",
      "[[0.84965247 0.08628836 0.05043226 0.00925907 0.00436776]]\n",
      "[[0.8427434  0.08785684 0.05532495 0.00942916 0.00464556]]\n"
     ]
    },
    {
     "name": "stderr",
     "output_type": "stream",
     "text": [
      "78it [00:05, 14.57it/s]"
     ]
    },
    {
     "name": "stdout",
     "output_type": "stream",
     "text": [
      "[[0.84319496 0.08768735 0.05434988 0.00995068 0.00481721]]\n",
      "[[0.8514695  0.08124814 0.05419115 0.0089581  0.00413314]]\n",
      "[[0.8465081  0.0850976  0.05540676 0.00836556 0.0046221 ]]\n",
      "[[0.83914524 0.08954729 0.05699291 0.00969206 0.00462246]]\n",
      "[[0.8462146  0.08767033 0.05283931 0.0088086  0.00446711]]\n"
     ]
    },
    {
     "name": "stderr",
     "output_type": "stream",
     "text": [
      "80it [00:06, 15.48it/s]"
     ]
    },
    {
     "name": "stdout",
     "output_type": "stream",
     "text": [
      "[[0.8529661  0.08502932 0.04895554 0.00895569 0.00409332]]\n",
      "[[0.83017486 0.08537021 0.06725946 0.01195549 0.00523994]]\n",
      "[[0.8494555  0.08358617 0.05263444 0.00945673 0.00486715]]\n",
      "[[0.8416597  0.08735535 0.05688639 0.00945218 0.00464638]]\n"
     ]
    },
    {
     "name": "stderr",
     "output_type": "stream",
     "text": [
      "85it [00:06, 14.73it/s]"
     ]
    },
    {
     "name": "stdout",
     "output_type": "stream",
     "text": [
      "[[0.84761083 0.08679493 0.05382532 0.00804789 0.00372103]]\n",
      "[[0.8473552  0.08018743 0.05792817 0.0098405  0.00468866]]\n",
      "[[0.8612983  0.07500254 0.05164731 0.00799598 0.0040559 ]]\n"
     ]
    },
    {
     "name": "stderr",
     "output_type": "stream",
     "text": [
      "87it [00:06, 15.81it/s]"
     ]
    },
    {
     "name": "stdout",
     "output_type": "stream",
     "text": [
      "[[0.8479937  0.08584942 0.05330012 0.00867004 0.00418679]]\n",
      "[[0.8406173  0.08865187 0.05605887 0.00971548 0.00495655]]\n",
      "[[0.8466247  0.08324043 0.05574629 0.0097456  0.00464295]]\n"
     ]
    },
    {
     "name": "stderr",
     "output_type": "stream",
     "text": [
      "91it [00:06, 12.37it/s]"
     ]
    },
    {
     "name": "stdout",
     "output_type": "stream",
     "text": [
      "[[0.84682083 0.0873023  0.05297369 0.00897085 0.00393227]]\n",
      "[[0.82758856 0.10026543 0.05536005 0.01207525 0.00471075]]\n",
      "[[0.8475396  0.0842925  0.05415997 0.00935431 0.00465363]]\n"
     ]
    },
    {
     "name": "stderr",
     "output_type": "stream",
     "text": [
      "93it [00:07, 10.12it/s]"
     ]
    },
    {
     "name": "stdout",
     "output_type": "stream",
     "text": [
      "[[0.8355844  0.08960249 0.05982294 0.01036733 0.0046229 ]]\n",
      "[[0.85290205 0.0823998  0.05122226 0.00889999 0.00457587]]\n"
     ]
    },
    {
     "name": "stderr",
     "output_type": "stream",
     "text": [
      "95it [00:07, 11.33it/s]"
     ]
    },
    {
     "name": "stdout",
     "output_type": "stream",
     "text": [
      "[[0.845938   0.07679176 0.06438295 0.00840368 0.0044836 ]]\n",
      "[[0.8451128  0.08435354 0.05722465 0.00880006 0.00450899]]\n",
      "[[0.8550688  0.07776036 0.05407123 0.00861122 0.00448833]]\n",
      "[[0.85692436 0.07791179 0.05256853 0.00864843 0.00394696]]\n"
     ]
    },
    {
     "name": "stderr",
     "output_type": "stream",
     "text": [
      "100it [00:07, 13.00it/s]"
     ]
    },
    {
     "name": "stdout",
     "output_type": "stream",
     "text": [
      "[[0.8356618  0.08798977 0.06053815 0.01094771 0.00486261]]\n",
      "[[0.82635987 0.10015383 0.05809094 0.01001247 0.00538282]]\n",
      "[[0.8527121  0.08444316 0.05057324 0.00817428 0.00409722]]\n",
      "[[0.84662324 0.08748869 0.05289661 0.00874404 0.00424748]]\n",
      "[[0.8509204  0.0819438  0.05461567 0.00850292 0.00401712]]\n"
     ]
    },
    {
     "name": "stderr",
     "output_type": "stream",
     "text": [
      "106it [00:07, 16.74it/s]"
     ]
    },
    {
     "name": "stdout",
     "output_type": "stream",
     "text": [
      "[[0.8352406  0.08219899 0.06781227 0.01008222 0.00466592]]\n",
      "[[0.8555279  0.08136719 0.05122228 0.00788092 0.00400172]]\n",
      "[[0.84056246 0.09079641 0.05312254 0.01021599 0.00530266]]\n",
      "[[0.8559509  0.08039495 0.05083989 0.00840232 0.00441189]]\n"
     ]
    },
    {
     "name": "stderr",
     "output_type": "stream",
     "text": [
      "111it [00:08, 15.92it/s]"
     ]
    },
    {
     "name": "stdout",
     "output_type": "stream",
     "text": [
      "[[0.83638686 0.10125494 0.0471654  0.01019923 0.00499358]]\n",
      "[[0.8377297  0.09147401 0.05570617 0.01003326 0.00505691]]\n",
      "[[0.84423375 0.08713233 0.05502842 0.00896393 0.00464152]]\n",
      "[[0.8482769  0.08415519 0.05417056 0.0089567  0.00444065]]\n",
      "[[0.8539692  0.08551709 0.04852768 0.00773256 0.00425343]]\n",
      "[[0.84753    0.08629756 0.05120629 0.00997045 0.00499573]]\n",
      "[[0.85431117 0.08046609 0.05228975 0.00847468 0.00445829]]\n"
     ]
    },
    {
     "name": "stderr",
     "output_type": "stream",
     "text": [
      "116it [00:08, 12.85it/s]"
     ]
    },
    {
     "name": "stdout",
     "output_type": "stream",
     "text": [
      "[[0.8369463  0.0884366  0.06155564 0.00899308 0.00406844]]\n",
      "[[0.83784837 0.08596495 0.06074065 0.01041709 0.00502907]]\n",
      "[[0.8489583  0.08181491 0.05641315 0.00849212 0.00432146]]\n"
     ]
    },
    {
     "name": "stderr",
     "output_type": "stream",
     "text": [
      "118it [00:08, 14.13it/s]"
     ]
    },
    {
     "name": "stdout",
     "output_type": "stream",
     "text": [
      "[[0.85226125 0.08452793 0.05045561 0.00852212 0.0042331 ]]\n",
      "[[0.84842116 0.08071107 0.05654078 0.00916574 0.00516131]]\n",
      "[[0.8603997  0.07855867 0.04913133 0.00782425 0.004086  ]]\n",
      "[[0.8336288  0.0964752  0.05582416 0.0097061  0.00436581]]\n"
     ]
    },
    {
     "name": "stderr",
     "output_type": "stream",
     "text": [
      "123it [00:09, 13.72it/s]"
     ]
    },
    {
     "name": "stdout",
     "output_type": "stream",
     "text": [
      "[[0.81605357 0.09908222 0.06653109 0.01280018 0.00553293]]\n",
      "[[0.832836   0.07972657 0.07293149 0.01032241 0.00418349]]\n",
      "[[0.8425871  0.0917493  0.05281074 0.00857274 0.00428015]]\n"
     ]
    },
    {
     "name": "stderr",
     "output_type": "stream",
     "text": [
      "125it [00:09, 10.61it/s]"
     ]
    },
    {
     "name": "stdout",
     "output_type": "stream",
     "text": [
      "[[0.85106725 0.08132942 0.05416932 0.00892412 0.00450993]]\n",
      "[[0.82516944 0.09023175 0.06974218 0.0101248  0.00473191]]\n"
     ]
    },
    {
     "name": "stderr",
     "output_type": "stream",
     "text": [
      "127it [00:09, 10.00it/s]"
     ]
    },
    {
     "name": "stdout",
     "output_type": "stream",
     "text": [
      "[[0.8406632  0.08777276 0.05781175 0.00938002 0.00437231]]\n",
      "[[0.8421283  0.08965932 0.05383207 0.00961508 0.0047653 ]]\n"
     ]
    },
    {
     "name": "stderr",
     "output_type": "stream",
     "text": [
      "129it [00:09, 10.19it/s]"
     ]
    },
    {
     "name": "stdout",
     "output_type": "stream",
     "text": [
      "[[0.83831227 0.08505772 0.06169689 0.01015064 0.00478241]]\n",
      "[[0.85588056 0.08013169 0.05124427 0.00847609 0.00426734]]\n",
      "[[0.8425721  0.08381436 0.05943596 0.00974603 0.00443153]]\n"
     ]
    },
    {
     "name": "stderr",
     "output_type": "stream",
     "text": [
      "134it [00:10, 12.07it/s]"
     ]
    },
    {
     "name": "stdout",
     "output_type": "stream",
     "text": [
      "[[0.8323914  0.09121668 0.06209661 0.00969154 0.00460383]]\n",
      "[[0.85092497 0.08287386 0.05350575 0.00860929 0.00408609]]\n",
      "[[0.8386181  0.08952268 0.0585403  0.00864849 0.00467043]]\n",
      "[[0.8197448  0.09832611 0.06684829 0.01007431 0.00500645]]\n"
     ]
    },
    {
     "name": "stderr",
     "output_type": "stream",
     "text": [
      "138it [00:10, 14.29it/s]"
     ]
    },
    {
     "name": "stdout",
     "output_type": "stream",
     "text": [
      "[[0.8387546  0.09124903 0.05516594 0.01042338 0.00440705]]\n",
      "[[0.847044   0.08493636 0.05477456 0.00898286 0.00426217]]\n",
      "[[0.8539912  0.08057384 0.05394995 0.00768498 0.0038    ]]\n",
      "[[0.8467309  0.08751794 0.05301823 0.00843978 0.00429311]]\n"
     ]
    },
    {
     "name": "stderr",
     "output_type": "stream",
     "text": [
      "140it [00:10, 15.34it/s]"
     ]
    },
    {
     "name": "stdout",
     "output_type": "stream",
     "text": [
      "[[0.83191794 0.08522203 0.06781849 0.01030499 0.00473648]]\n",
      "[[0.83932394 0.08986317 0.05620914 0.00969273 0.00491099]]\n"
     ]
    },
    {
     "name": "stderr",
     "output_type": "stream",
     "text": [
      "142it [00:10, 10.43it/s]"
     ]
    },
    {
     "name": "stdout",
     "output_type": "stream",
     "text": [
      "[[0.8562551  0.08062643 0.04972008 0.00881959 0.00457874]]\n",
      "[[0.8541938  0.08048005 0.0526263  0.00845    0.00424975]]\n",
      "[[0.8448551  0.08966541 0.05281731 0.00840737 0.00425476]]\n"
     ]
    },
    {
     "name": "stderr",
     "output_type": "stream",
     "text": [
      "146it [00:11, 12.49it/s]"
     ]
    },
    {
     "name": "stdout",
     "output_type": "stream",
     "text": [
      "[[0.8531726  0.08203159 0.05188921 0.0086885  0.00421817]]\n",
      "[[0.8438193  0.08990201 0.05234698 0.00931909 0.00461259]]\n",
      "[[0.85348165 0.08004481 0.05393475 0.0082768  0.00426199]]\n"
     ]
    },
    {
     "name": "stderr",
     "output_type": "stream",
     "text": [
      "148it [00:11, 10.71it/s]"
     ]
    },
    {
     "name": "stdout",
     "output_type": "stream",
     "text": [
      "[[0.8228519  0.08521783 0.07731891 0.01062989 0.00398143]]\n",
      "[[0.8301861  0.0884263  0.06582245 0.0105629  0.00500221]]\n"
     ]
    },
    {
     "name": "stderr",
     "output_type": "stream",
     "text": [
      "150it [00:11, 10.91it/s]"
     ]
    },
    {
     "name": "stdout",
     "output_type": "stream",
     "text": [
      "[[0.8194727  0.09509118 0.0682359  0.01177463 0.00542563]]\n",
      "[[0.84437084 0.08596582 0.0562175  0.00896685 0.004479  ]]\n"
     ]
    },
    {
     "name": "stderr",
     "output_type": "stream",
     "text": [
      "154it [00:11, 11.80it/s]"
     ]
    },
    {
     "name": "stdout",
     "output_type": "stream",
     "text": [
      "[[0.824787   0.09291699 0.06786115 0.01006195 0.00437287]]\n",
      "[[0.84716636 0.08754677 0.05221261 0.00854925 0.00452493]]\n",
      "[[0.8510934  0.08239083 0.054482   0.00801977 0.00401409]]\n",
      "[[0.834083   0.08666784 0.06356192 0.01069724 0.00499001]]\n"
     ]
    },
    {
     "name": "stderr",
     "output_type": "stream",
     "text": [
      "156it [00:12, 11.25it/s]"
     ]
    },
    {
     "name": "stdout",
     "output_type": "stream",
     "text": [
      "[[0.8482578  0.08543141 0.05228624 0.00947209 0.00455243]]\n",
      "[[0.8413651  0.08755839 0.05687708 0.00962156 0.00457781]]\n",
      "[[0.84448326 0.08648997 0.05449644 0.00967147 0.00485884]]\n"
     ]
    },
    {
     "name": "stderr",
     "output_type": "stream",
     "text": [
      "161it [00:12, 15.17it/s]"
     ]
    },
    {
     "name": "stdout",
     "output_type": "stream",
     "text": [
      "[[0.85245574 0.08171518 0.05369633 0.00799    0.0041427 ]]\n",
      "[[0.837575   0.09464417 0.05359657 0.00987665 0.00430747]]\n",
      "[[0.85060763 0.08232398 0.05275997 0.00976321 0.00454524]]\n",
      "[[0.8484481  0.08180845 0.05572683 0.00943817 0.00457856]]\n",
      "[[0.8419566  0.09054333 0.05265971 0.00983233 0.005008  ]]\n"
     ]
    },
    {
     "name": "stderr",
     "output_type": "stream",
     "text": [
      "166it [00:12, 17.64it/s]"
     ]
    },
    {
     "name": "stdout",
     "output_type": "stream",
     "text": [
      "[[0.85377574 0.07873302 0.05514399 0.00822924 0.004118  ]]\n",
      "[[0.86337274 0.07639515 0.04859921 0.00764036 0.00399256]]\n",
      "[[0.84720767 0.08283326 0.05602027 0.00956151 0.0043772 ]]\n",
      "[[0.8481118  0.08482364 0.05324433 0.00927329 0.0045469 ]]\n",
      "[[0.845833   0.08774909 0.0533809  0.00861242 0.00442453]]\n"
     ]
    },
    {
     "name": "stderr",
     "output_type": "stream",
     "text": [
      "171it [00:12, 16.90it/s]"
     ]
    },
    {
     "name": "stdout",
     "output_type": "stream",
     "text": [
      "[[0.84261644 0.08160982 0.06070167 0.0104078  0.00466433]]\n",
      "[[0.8438003  0.0820365  0.05862249 0.01060184 0.00493877]]\n",
      "[[0.82475036 0.09193898 0.06715162 0.01058493 0.00557409]]\n",
      "[[0.8528491  0.08295397 0.05125055 0.00839891 0.00454741]]\n",
      "[[0.84629565 0.0870121  0.05238003 0.00961275 0.00469939]]\n"
     ]
    },
    {
     "name": "stderr",
     "output_type": "stream",
     "text": [
      "176it [00:13, 17.90it/s]"
     ]
    },
    {
     "name": "stdout",
     "output_type": "stream",
     "text": [
      "[[0.84246683 0.09019361 0.05356129 0.0093015  0.00447674]]\n",
      "[[0.84215194 0.09008259 0.05452811 0.00873026 0.00450709]]\n",
      "[[0.8472531  0.08498779 0.05418295 0.0091674  0.00440879]]\n",
      "[[0.8494613  0.08084132 0.05532175 0.00980549 0.00457016]]\n",
      "[[0.8405018  0.09003347 0.05539063 0.0092437  0.00483045]]\n"
     ]
    },
    {
     "name": "stderr",
     "output_type": "stream",
     "text": [
      "181it [00:13, 16.30it/s]"
     ]
    },
    {
     "name": "stdout",
     "output_type": "stream",
     "text": [
      "[[0.8403697  0.08576553 0.05936985 0.00973794 0.00475702]]\n",
      "[[0.84897995 0.07945438 0.05756049 0.00943574 0.00456951]]\n",
      "[[0.8589634  0.08164994 0.04714505 0.00817996 0.00406168]]\n",
      "[[0.8543983  0.07798526 0.05442986 0.00893238 0.0042542 ]]\n"
     ]
    },
    {
     "name": "stderr",
     "output_type": "stream",
     "text": [
      "183it [00:13, 16.95it/s]"
     ]
    },
    {
     "name": "stdout",
     "output_type": "stream",
     "text": [
      "[[0.84662855 0.08405557 0.05563071 0.00879147 0.00489367]]\n",
      "[[0.8552936  0.08368682 0.04915036 0.00806058 0.00380876]]\n",
      "[[0.8510692  0.08171932 0.05433596 0.00861616 0.00425933]]\n"
     ]
    },
    {
     "name": "stderr",
     "output_type": "stream",
     "text": [
      "188it [00:14, 16.30it/s]"
     ]
    },
    {
     "name": "stdout",
     "output_type": "stream",
     "text": [
      "[[0.84660393 0.08246407 0.05721532 0.00899345 0.00472334]]\n",
      "[[0.83655626 0.09274345 0.05600912 0.00940797 0.00528324]]\n",
      "[[0.85247034 0.08116671 0.05240652 0.00942721 0.00452921]]\n",
      "[[0.8395804  0.08484169 0.06051094 0.01061713 0.00444985]]\n",
      "[[0.8347956  0.09250348 0.05814292 0.00975075 0.00480729]]\n"
     ]
    },
    {
     "name": "stderr",
     "output_type": "stream",
     "text": [
      "192it [00:14, 11.99it/s]"
     ]
    },
    {
     "name": "stdout",
     "output_type": "stream",
     "text": [
      "[[0.8483542  0.08544394 0.05200981 0.00942547 0.00476651]]\n",
      "[[0.8410951  0.09088121 0.05411627 0.00943496 0.00447245]]\n",
      "[[0.84799826 0.08158974 0.05565743 0.01003642 0.00471815]]\n"
     ]
    },
    {
     "name": "stderr",
     "output_type": "stream",
     "text": [
      "194it [00:14, 10.88it/s]"
     ]
    },
    {
     "name": "stdout",
     "output_type": "stream",
     "text": [
      "[[0.86036104 0.07968061 0.04775737 0.00764458 0.00455635]]\n",
      "[[0.8460451  0.08523989 0.05460126 0.00937991 0.00473377]]\n"
     ]
    },
    {
     "name": "stderr",
     "output_type": "stream",
     "text": [
      "197it [00:14, 13.27it/s]"
     ]
    },
    {
     "name": "stdout",
     "output_type": "stream",
     "text": [
      "[[0.846162   0.08818725 0.0531651  0.00841078 0.00407489]]\n",
      "[[0.8566571  0.08156143 0.04867036 0.00896065 0.00415039]]\n",
      "[[0.8534994  0.0794478  0.05356373 0.0089309  0.00455804]]\n",
      "[[0.8192096  0.10068424 0.06458452 0.01059706 0.00492462]]\n"
     ]
    },
    {
     "name": "stderr",
     "output_type": "stream",
     "text": [
      "202it [00:15, 15.79it/s]"
     ]
    },
    {
     "name": "stdout",
     "output_type": "stream",
     "text": [
      "[[0.8444828  0.08376122 0.05721537 0.00987574 0.00466487]]\n",
      "[[0.84765154 0.0867731  0.05181995 0.00910744 0.00464804]]\n",
      "[[0.84177804 0.08797063 0.05663387 0.00922324 0.00439413]]\n",
      "[[0.84592044 0.08802014 0.05325561 0.00859172 0.00421205]]\n"
     ]
    },
    {
     "name": "stderr",
     "output_type": "stream",
     "text": [
      "206it [00:15, 13.24it/s]"
     ]
    },
    {
     "name": "stdout",
     "output_type": "stream",
     "text": [
      "[[0.8402631  0.09102786 0.05402022 0.00980238 0.00488633]]\n",
      "[[0.8413092  0.08742556 0.05728767 0.00923978 0.00473778]]\n",
      "[[0.82374895 0.08899938 0.07171828 0.01084843 0.00468493]]\n",
      "[[0.84209174 0.09168822 0.05227432 0.00925732 0.0046884 ]]\n"
     ]
    },
    {
     "name": "stderr",
     "output_type": "stream",
     "text": [
      "210it [00:15, 13.59it/s]"
     ]
    },
    {
     "name": "stdout",
     "output_type": "stream",
     "text": [
      "[[0.83784556 0.08936533 0.05748353 0.01045914 0.00484643]]\n",
      "[[0.857462   0.07925051 0.050078   0.00861138 0.00459812]]\n",
      "[[0.8481403  0.085025   0.05339845 0.00897213 0.00446416]]\n",
      "[[0.8583735  0.07964572 0.0494729  0.00850925 0.00399858]]\n"
     ]
    },
    {
     "name": "stderr",
     "output_type": "stream",
     "text": [
      "212it [00:16, 12.51it/s]"
     ]
    },
    {
     "name": "stdout",
     "output_type": "stream",
     "text": [
      "[[0.8638064  0.07568496 0.04891752 0.00786135 0.00372973]]\n",
      "[[0.84315103 0.08467832 0.05711896 0.01048335 0.00456839]]\n",
      "[[0.8487868  0.08312383 0.05454768 0.00887948 0.00466223]]\n"
     ]
    },
    {
     "name": "stderr",
     "output_type": "stream",
     "text": [
      "214it [00:16, 13.88it/s]"
     ]
    },
    {
     "name": "stdout",
     "output_type": "stream",
     "text": [
      "[[0.848551   0.08267055 0.0545729  0.00927649 0.00492898]]\n",
      "[[0.8423363  0.09070597 0.05188238 0.01028351 0.0047919 ]]\n",
      "[[0.84731144 0.08450958 0.05464028 0.0093116  0.00422704]]\n"
     ]
    },
    {
     "name": "stderr",
     "output_type": "stream",
     "text": [
      "220it [00:16, 14.63it/s]"
     ]
    },
    {
     "name": "stdout",
     "output_type": "stream",
     "text": [
      "[[0.8469035  0.08635188 0.05235967 0.00962877 0.00475617]]\n",
      "[[0.8443192  0.08728459 0.05507136 0.00899164 0.00433324]]\n",
      "[[0.82877314 0.09438363 0.06197666 0.00994126 0.00492535]]\n",
      "[[0.8508069  0.08231555 0.0534908  0.00906108 0.00432566]]\n",
      "[[0.84825873 0.08750714 0.05117997 0.00884042 0.00421375]]\n"
     ]
    },
    {
     "name": "stderr",
     "output_type": "stream",
     "text": [
      "224it [00:16, 15.59it/s]"
     ]
    },
    {
     "name": "stdout",
     "output_type": "stream",
     "text": [
      "[[0.8331609  0.08339036 0.06858453 0.01019677 0.00466743]]\n",
      "[[0.8252773  0.0974999  0.06342174 0.0093293  0.00447168]]\n",
      "[[0.8411476  0.08833598 0.05691236 0.00910886 0.00449518]]\n",
      "[[0.8445623  0.0854072  0.05654788 0.00900837 0.00447434]]\n"
     ]
    },
    {
     "name": "stderr",
     "output_type": "stream",
     "text": [
      "227it [00:16, 17.14it/s]"
     ]
    },
    {
     "name": "stdout",
     "output_type": "stream",
     "text": [
      "[[0.8422101  0.08664516 0.05777146 0.00875854 0.00461471]]\n",
      "[[0.8521317  0.08258699 0.0522787  0.00855853 0.004444  ]]\n",
      "[[0.8467525  0.08701249 0.05172415 0.00959953 0.00491136]]\n",
      "[[0.84998083 0.08464265 0.0514944  0.00923837 0.00464379]]\n"
     ]
    },
    {
     "name": "stderr",
     "output_type": "stream",
     "text": [
      "230it [00:17, 14.54it/s]"
     ]
    },
    {
     "name": "stdout",
     "output_type": "stream",
     "text": [
      "[[0.8547379  0.07960397 0.05202131 0.00909901 0.00453778]]\n",
      "[[0.8575995  0.07899099 0.05109584 0.00823162 0.00408208]]\n",
      "[[0.84676945 0.08887004 0.05091453 0.00914538 0.00430058]]\n"
     ]
    },
    {
     "name": "stderr",
     "output_type": "stream",
     "text": [
      "233it [00:17, 13.83it/s]"
     ]
    },
    {
     "name": "stdout",
     "output_type": "stream",
     "text": [
      "[[0.84559906 0.08180646 0.05734783 0.01032616 0.00492055]]\n",
      "[[0.8419217  0.08562426 0.0578639  0.01025414 0.00433595]]\n"
     ]
    },
    {
     "name": "stderr",
     "output_type": "stream",
     "text": [
      "238it [00:17, 13.17it/s]"
     ]
    },
    {
     "name": "stdout",
     "output_type": "stream",
     "text": [
      "[[0.84631497 0.08495935 0.05348354 0.01001849 0.00522372]]\n",
      "[[0.8568723  0.07857212 0.05235448 0.00814016 0.00406091]]\n",
      "[[0.8467309  0.08751794 0.05301823 0.00843978 0.00429311]]\n",
      "[[0.84962803 0.08336764 0.05441242 0.00853545 0.00405647]]\n"
     ]
    },
    {
     "name": "stderr",
     "output_type": "stream",
     "text": [
      "243it [00:18, 14.53it/s]"
     ]
    },
    {
     "name": "stdout",
     "output_type": "stream",
     "text": [
      "[[0.843171   0.08384185 0.05982579 0.00901585 0.0041455 ]]\n",
      "[[0.8482767  0.08376092 0.05425308 0.00909952 0.00460979]]\n",
      "[[0.84429944 0.08930209 0.05230876 0.00909255 0.00499715]]\n",
      "[[0.8387348  0.09060013 0.05619143 0.00964574 0.00482783]]\n",
      "[[0.84387296 0.08556495 0.05648487 0.00942506 0.00465218]]\n"
     ]
    },
    {
     "name": "stderr",
     "output_type": "stream",
     "text": [
      "245it [00:18, 15.48it/s]"
     ]
    },
    {
     "name": "stdout",
     "output_type": "stream",
     "text": [
      "[[0.84440136 0.09196716 0.04928831 0.00993963 0.00440359]]\n",
      "[[0.8461966  0.08615035 0.05362269 0.00901352 0.00501689]]\n",
      "[[0.8360687  0.09200022 0.05870191 0.00896357 0.00426555]]\n"
     ]
    },
    {
     "name": "stderr",
     "output_type": "stream",
     "text": [
      "250it [00:18, 15.69it/s]"
     ]
    },
    {
     "name": "stdout",
     "output_type": "stream",
     "text": [
      "[[0.84301096 0.08571484 0.05740948 0.00955102 0.0043136 ]]\n",
      "[[0.8331383  0.09314932 0.0592102  0.00982073 0.00468148]]\n",
      "[[0.85311073 0.0855979  0.04843779 0.0084846  0.00436896]]\n",
      "[[0.8455487  0.07884493 0.06013991 0.0105124  0.00495405]]\n",
      "[[0.8365882  0.0837928  0.06448655 0.01051462 0.0046179 ]]\n"
     ]
    },
    {
     "name": "stderr",
     "output_type": "stream",
     "text": [
      "256it [00:18, 18.41it/s]"
     ]
    },
    {
     "name": "stdout",
     "output_type": "stream",
     "text": [
      "[[0.8466093  0.08495785 0.05466094 0.00924473 0.00452718]]\n",
      "[[0.8458192  0.08716299 0.05300293 0.00923286 0.00478204]]\n",
      "[[0.84669614 0.08786963 0.05199224 0.00880233 0.00463963]]\n",
      "[[0.84980404 0.08560294 0.05045305 0.00945059 0.00468934]]\n",
      "[[0.85596764 0.08080364 0.05133639 0.00800661 0.0038858 ]]\n"
     ]
    },
    {
     "name": "stderr",
     "output_type": "stream",
     "text": [
      "258it [00:19, 15.59it/s]"
     ]
    },
    {
     "name": "stdout",
     "output_type": "stream",
     "text": [
      "[[0.85609984 0.07691218 0.05317875 0.00913109 0.00467823]]\n",
      "[[0.8371404  0.08860809 0.05918941 0.01005488 0.00500725]]\n"
     ]
    },
    {
     "name": "stderr",
     "output_type": "stream",
     "text": [
      "260it [00:19, 11.81it/s]"
     ]
    },
    {
     "name": "stdout",
     "output_type": "stream",
     "text": [
      "[[0.84682184 0.07873957 0.06068584 0.00952789 0.00422495]]\n",
      "[[0.84889466 0.07779043 0.05815296 0.01020206 0.00495986]]\n",
      "[[0.8333901  0.09565412 0.05642887 0.00948813 0.00503881]]\n"
     ]
    },
    {
     "name": "stderr",
     "output_type": "stream",
     "text": [
      "265it [00:19, 15.29it/s]"
     ]
    },
    {
     "name": "stdout",
     "output_type": "stream",
     "text": [
      "[[0.8478829  0.08571374 0.05304202 0.00895168 0.00440962]]\n",
      "[[0.8606587  0.07645001 0.04999407 0.00876717 0.00412999]]\n",
      "[[0.8621918  0.07678123 0.04898646 0.00798415 0.0040564 ]]\n",
      "[[0.8546125  0.08093479 0.05189563 0.00867521 0.00388198]]\n",
      "[[0.84361356 0.08742965 0.05468258 0.00942455 0.00484959]]\n"
     ]
    },
    {
     "name": "stderr",
     "output_type": "stream",
     "text": [
      "268it [00:19, 17.02it/s]"
     ]
    },
    {
     "name": "stdout",
     "output_type": "stream",
     "text": [
      "[[0.8356373  0.08882496 0.06006358 0.01020013 0.00527406]]\n",
      "[[0.84589076 0.08954342 0.05083356 0.00892456 0.00480762]]\n"
     ]
    },
    {
     "name": "stderr",
     "output_type": "stream",
     "text": [
      "270it [00:20, 13.02it/s]"
     ]
    },
    {
     "name": "stdout",
     "output_type": "stream",
     "text": [
      "[[0.83993363 0.09536679 0.05057382 0.00944213 0.00468362]]\n",
      "[[0.8411988  0.09314455 0.05298096 0.00886003 0.00381556]]\n"
     ]
    },
    {
     "name": "stderr",
     "output_type": "stream",
     "text": [
      "272it [00:20, 10.06it/s]"
     ]
    },
    {
     "name": "stdout",
     "output_type": "stream",
     "text": [
      "[[0.84898025 0.08537818 0.05154365 0.00943168 0.0046663 ]]\n",
      "[[0.8444203  0.08259216 0.05856137 0.00960757 0.00481867]]\n"
     ]
    },
    {
     "name": "stderr",
     "output_type": "stream",
     "text": [
      "274it [00:20,  9.79it/s]"
     ]
    },
    {
     "name": "stdout",
     "output_type": "stream",
     "text": [
      "[[0.83192164 0.08777947 0.06573435 0.0101835  0.00438105]]\n",
      "[[0.856941   0.07940588 0.05004812 0.00887474 0.00473028]]\n",
      "[[0.83251387 0.0900078  0.06318814 0.00967239 0.00461777]]\n"
     ]
    },
    {
     "name": "stderr",
     "output_type": "stream",
     "text": [
      "276it [00:20,  9.31it/s]"
     ]
    },
    {
     "name": "stdout",
     "output_type": "stream",
     "text": [
      "[[0.8461164  0.08462364 0.05492372 0.00966762 0.00466865]]\n",
      "[[0.8421537  0.08448216 0.0586983  0.0098748  0.004791  ]]\n"
     ]
    },
    {
     "name": "stderr",
     "output_type": "stream",
     "text": [
      "279it [00:21,  7.96it/s]"
     ]
    },
    {
     "name": "stdout",
     "output_type": "stream",
     "text": [
      "[[0.849239   0.08562454 0.05151725 0.00920689 0.00441225]]\n",
      "[[0.83157    0.09016347 0.06249716 0.01074437 0.00502494]]\n"
     ]
    },
    {
     "name": "stderr",
     "output_type": "stream",
     "text": [
      "282it [00:21, 10.71it/s]"
     ]
    },
    {
     "name": "stdout",
     "output_type": "stream",
     "text": [
      "[[0.85041    0.08037817 0.05542435 0.00878531 0.00500228]]\n",
      "[[0.8379454  0.09355493 0.05523848 0.00885659 0.00440459]]\n",
      "[[0.8418891  0.09054691 0.05337168 0.00965597 0.00453637]]\n",
      "[[0.8523853  0.08315589 0.05166127 0.00846299 0.00433456]]\n",
      "[[0.8481735  0.084552   0.05334302 0.00942157 0.00450993]]\n"
     ]
    },
    {
     "name": "stderr",
     "output_type": "stream",
     "text": [
      "287it [00:21, 13.96it/s]"
     ]
    },
    {
     "name": "stdout",
     "output_type": "stream",
     "text": [
      "[[0.8561144  0.07728999 0.05371174 0.00865069 0.00423325]]\n",
      "[[0.85141146 0.08281963 0.05175223 0.00931442 0.00470222]]\n",
      "[[0.8551856  0.08377287 0.04939437 0.00745782 0.00418933]]\n",
      "[[0.84140605 0.09227475 0.05208023 0.00953378 0.00470526]]\n"
     ]
    },
    {
     "name": "stderr",
     "output_type": "stream",
     "text": [
      "291it [00:21, 14.12it/s]"
     ]
    },
    {
     "name": "stdout",
     "output_type": "stream",
     "text": [
      "[[0.85414785 0.08136053 0.0516821  0.0084514  0.00435805]]\n",
      "[[0.8522727  0.08432215 0.04954451 0.00901713 0.00484348]]\n",
      "[[0.8500944  0.08485726 0.05258138 0.00831345 0.00415362]]\n"
     ]
    },
    {
     "name": "stderr",
     "output_type": "stream",
     "text": [
      "293it [00:22, 11.05it/s]"
     ]
    },
    {
     "name": "stdout",
     "output_type": "stream",
     "text": [
      "[[0.8345287  0.09009541 0.06065237 0.01013302 0.00459059]]\n",
      "[[0.83793896 0.08636476 0.06304543 0.00841879 0.00423206]]\n"
     ]
    },
    {
     "name": "stderr",
     "output_type": "stream",
     "text": [
      "298it [00:22, 13.29it/s]"
     ]
    },
    {
     "name": "stdout",
     "output_type": "stream",
     "text": [
      "[[0.83923554 0.08674058 0.05933155 0.00993987 0.00475254]]\n",
      "[[0.84149957 0.08834159 0.05649294 0.00905586 0.00460999]]\n",
      "[[0.83672374 0.09447861 0.05432323 0.00977344 0.00470102]]\n",
      "[[0.839469   0.09292947 0.0541078  0.0089853  0.00450843]]\n",
      "[[0.8602332  0.08044998 0.04701371 0.00833772 0.00396541]]\n",
      "[[0.8537116  0.08062217 0.05221556 0.00882973 0.0046209 ]]\n"
     ]
    },
    {
     "name": "stderr",
     "output_type": "stream",
     "text": [
      "303it [00:23, 11.24it/s]"
     ]
    },
    {
     "name": "stdout",
     "output_type": "stream",
     "text": [
      "[[0.84814715 0.08528128 0.05218702 0.00956856 0.00481606]]\n",
      "[[0.8519335  0.08444998 0.05007564 0.00928624 0.00425468]]\n",
      "[[0.85221326 0.08547246 0.04977835 0.00856543 0.00397044]]\n",
      "[[0.8464148  0.08468084 0.05486517 0.00939997 0.00463917]]\n",
      "[[0.8529859  0.07906899 0.05469808 0.00891495 0.00433217]]\n"
     ]
    },
    {
     "name": "stderr",
     "output_type": "stream",
     "text": [
      "308it [00:23, 14.55it/s]"
     ]
    },
    {
     "name": "stdout",
     "output_type": "stream",
     "text": [
      "[[0.85539484 0.08393573 0.04862456 0.00789262 0.00415238]]\n",
      "[[0.8483868  0.084245   0.05484071 0.00813926 0.00438816]]\n",
      "[[0.84045774 0.0870908  0.05740585 0.01012783 0.0049177 ]]\n",
      "[[0.84226865 0.08851302 0.05566549 0.00907717 0.00447575]]\n"
     ]
    },
    {
     "name": "stderr",
     "output_type": "stream",
     "text": [
      "313it [00:23, 14.44it/s]"
     ]
    },
    {
     "name": "stdout",
     "output_type": "stream",
     "text": [
      "[[0.84699124 0.08321062 0.0558496  0.00943048 0.00451809]]\n",
      "[[0.8388262  0.0898224  0.05739785 0.00926333 0.00469034]]\n",
      "[[0.8442537  0.08692662 0.05562393 0.00892946 0.0042664 ]]\n",
      "[[0.8537873  0.08010904 0.05383511 0.00819212 0.00407643]]\n",
      "[[0.84654164 0.08705865 0.0530673  0.0089329  0.0043994 ]]\n"
     ]
    },
    {
     "name": "stderr",
     "output_type": "stream",
     "text": [
      "315it [00:24, 12.13it/s]"
     ]
    },
    {
     "name": "stdout",
     "output_type": "stream",
     "text": [
      "[[0.8561807  0.07681675 0.05355807 0.00848914 0.00495532]]\n",
      "[[0.8526823  0.08272389 0.051406   0.00897295 0.00421496]]\n"
     ]
    },
    {
     "name": "stderr",
     "output_type": "stream",
     "text": [
      "317it [00:24, 11.72it/s]"
     ]
    },
    {
     "name": "stdout",
     "output_type": "stream",
     "text": [
      "[[0.8503729  0.08351395 0.05347108 0.00831115 0.00433095]]\n",
      "[[0.8416214  0.08337659 0.06076276 0.00976828 0.00447095]]\n"
     ]
    },
    {
     "name": "stderr",
     "output_type": "stream",
     "text": [
      "322it [00:24, 13.86it/s]"
     ]
    },
    {
     "name": "stdout",
     "output_type": "stream",
     "text": [
      "[[0.83104926 0.09600511 0.05809288 0.01021834 0.00463441]]\n",
      "[[0.84991676 0.07922491 0.05708668 0.00880213 0.0049695 ]]\n",
      "[[0.8483147  0.08434446 0.0545111  0.00864852 0.00418115]]\n",
      "[[0.8528272  0.08199584 0.0520639  0.00867173 0.00444134]]\n",
      "[[0.84642684 0.08544047 0.05296295 0.00989226 0.00527745]]\n"
     ]
    },
    {
     "name": "stderr",
     "output_type": "stream",
     "text": [
      "325it [00:24, 15.57it/s]"
     ]
    },
    {
     "name": "stdout",
     "output_type": "stream",
     "text": [
      "[[0.8383938  0.08659214 0.05984957 0.01021743 0.00494702]]\n",
      "[[0.86043113 0.0765966  0.05032612 0.00863666 0.00400954]]\n",
      "[[0.84706676 0.08435865 0.05494117 0.00905362 0.00457983]]\n",
      "[[0.83123124 0.09264533 0.06106907 0.01025352 0.00480086]]\n"
     ]
    },
    {
     "name": "stderr",
     "output_type": "stream",
     "text": [
      "330it [00:24, 17.24it/s]"
     ]
    },
    {
     "name": "stdout",
     "output_type": "stream",
     "text": [
      "[[0.8481764  0.08629904 0.05195029 0.0089116  0.00466273]]\n",
      "[[0.83403206 0.09759609 0.0555408  0.00822756 0.00460358]]\n",
      "[[0.8522525  0.08060902 0.05501511 0.00809384 0.00402951]]\n",
      "[[0.8537298  0.08148161 0.05237994 0.00829736 0.00411132]]\n"
     ]
    },
    {
     "name": "stderr",
     "output_type": "stream",
     "text": [
      "332it [00:25, 13.56it/s]"
     ]
    },
    {
     "name": "stdout",
     "output_type": "stream",
     "text": [
      "[[0.8369295  0.08999721 0.05845565 0.00953628 0.00508142]]\n",
      "[[0.8300478  0.09518718 0.06098771 0.00925203 0.00452537]]\n",
      "[[0.831243   0.09201723 0.06265336 0.00955202 0.00453447]]\n"
     ]
    },
    {
     "name": "stderr",
     "output_type": "stream",
     "text": [
      "337it [00:25, 15.72it/s]"
     ]
    },
    {
     "name": "stdout",
     "output_type": "stream",
     "text": [
      "[[0.83304876 0.09567773 0.05623661 0.01020826 0.00482853]]\n",
      "[[0.84629893 0.08750197 0.05232365 0.009444   0.00443147]]\n",
      "[[0.85005563 0.08477339 0.05279931 0.00837743 0.00399425]]\n",
      "[[0.8535923  0.07963695 0.0538143  0.00887349 0.00408301]]\n",
      "[[0.84845626 0.08625904 0.05231215 0.0083961  0.00457645]]\n"
     ]
    },
    {
     "name": "stderr",
     "output_type": "stream",
     "text": [
      "342it [00:25, 17.75it/s]"
     ]
    },
    {
     "name": "stdout",
     "output_type": "stream",
     "text": [
      "[[0.8354844  0.09391117 0.05609361 0.00954273 0.00496817]]\n",
      "[[0.8466972  0.08645334 0.0529563  0.00906849 0.00482465]]\n",
      "[[0.85221386 0.08354289 0.05122201 0.00877644 0.00424466]]\n",
      "[[0.8502967  0.08308396 0.05342846 0.00881482 0.00437606]]\n"
     ]
    },
    {
     "name": "stderr",
     "output_type": "stream",
     "text": [
      "344it [00:25, 15.64it/s]"
     ]
    },
    {
     "name": "stdout",
     "output_type": "stream",
     "text": [
      "[[0.83276486 0.08537789 0.0674027  0.00977639 0.00467803]]\n",
      "[[0.8459854  0.08735269 0.05362651 0.00859539 0.00444001]]\n",
      "[[0.8426173  0.08801457 0.05541984 0.00940226 0.00454612]]\n"
     ]
    },
    {
     "name": "stderr",
     "output_type": "stream",
     "text": [
      "349it [00:26, 15.82it/s]"
     ]
    },
    {
     "name": "stdout",
     "output_type": "stream",
     "text": [
      "[[0.84372604 0.08345742 0.05790781 0.01005572 0.00485297]]\n",
      "[[0.84660065 0.06949534 0.06875873 0.00984441 0.00530083]]\n",
      "[[0.8498373  0.08381648 0.05359136 0.0086164  0.00413849]]\n",
      "[[0.8429551  0.08608767 0.05652032 0.0094527  0.00498417]]\n"
     ]
    },
    {
     "name": "stderr",
     "output_type": "stream",
     "text": [
      "354it [00:26, 15.93it/s]"
     ]
    },
    {
     "name": "stdout",
     "output_type": "stream",
     "text": [
      "[[0.8394018  0.08732652 0.05853272 0.01003559 0.00470346]]\n",
      "[[0.8448045  0.08474994 0.05613495 0.00908435 0.0052262 ]]\n",
      "[[0.84011334 0.09019335 0.05435027 0.0105116  0.00483139]]\n",
      "[[0.85993737 0.07791312 0.0493535  0.00817089 0.0046252 ]]\n",
      "[[0.8489384  0.08700742 0.05040549 0.00897391 0.00467484]]\n"
     ]
    },
    {
     "name": "stderr",
     "output_type": "stream",
     "text": [
      "357it [00:26, 17.43it/s]"
     ]
    },
    {
     "name": "stdout",
     "output_type": "stream",
     "text": [
      "[[0.84992075 0.08596715 0.05084936 0.00862105 0.00464167]]\n",
      "[[0.8416082  0.09068415 0.05438468 0.00880679 0.0045161 ]]\n",
      "[[0.8482329  0.08296502 0.0540235  0.00979463 0.00498399]]\n",
      "[[0.83222884 0.09154914 0.06117676 0.00986918 0.00517609]]\n",
      "[[0.852539   0.08384508 0.05096975 0.0085092  0.00413688]]\n"
     ]
    },
    {
     "name": "stderr",
     "output_type": "stream",
     "text": [
      "363it [00:26, 19.03it/s]"
     ]
    },
    {
     "name": "stdout",
     "output_type": "stream",
     "text": [
      "[[0.8412684  0.08971416 0.05580439 0.00886595 0.00434706]]\n",
      "[[0.83819    0.09013364 0.05702211 0.00961405 0.00504012]]\n",
      "[[0.84678954 0.08690289 0.05283164 0.00884762 0.00462832]]\n",
      "[[0.84747565 0.08530707 0.0542991  0.00849022 0.00442791]]\n"
     ]
    },
    {
     "name": "stderr",
     "output_type": "stream",
     "text": [
      "368it [00:27, 19.14it/s]"
     ]
    },
    {
     "name": "stdout",
     "output_type": "stream",
     "text": [
      "[[0.8368212  0.08544227 0.06430149 0.00897154 0.0044635 ]]\n",
      "[[0.8474103  0.08572884 0.05342145 0.00919428 0.00424517]]\n",
      "[[0.8585889  0.07862914 0.05040444 0.00820686 0.00417064]]\n",
      "[[0.84818584 0.08472989 0.05376256 0.00895523 0.00436639]]\n",
      "[[0.8562995  0.07945257 0.05346935 0.0074053  0.00337331]]\n"
     ]
    },
    {
     "name": "stderr",
     "output_type": "stream",
     "text": [
      "370it [00:27, 19.29it/s]"
     ]
    },
    {
     "name": "stdout",
     "output_type": "stream",
     "text": [
      "[[0.84748906 0.08436196 0.05357442 0.0099155  0.004659  ]]\n",
      "[[0.8505086  0.08231737 0.05504794 0.00820547 0.00392065]]\n",
      "[[0.8572081  0.08179762 0.04874324 0.00800704 0.00424399]]\n"
     ]
    },
    {
     "name": "stderr",
     "output_type": "stream",
     "text": [
      "372it [00:27, 15.92it/s]"
     ]
    },
    {
     "name": "stdout",
     "output_type": "stream",
     "text": [
      "[[0.837445   0.08823653 0.05875098 0.01054918 0.00501831]]\n",
      "[[0.8621466  0.07353206 0.05148773 0.00841799 0.00441569]]\n"
     ]
    },
    {
     "name": "stderr",
     "output_type": "stream",
     "text": [
      "374it [00:27, 12.91it/s]"
     ]
    },
    {
     "name": "stdout",
     "output_type": "stream",
     "text": [
      "[[0.8486716  0.08526608 0.0518809  0.0094501  0.00473134]]\n",
      "[[0.8520557  0.0809006  0.0536124  0.00918595 0.00424526]]\n"
     ]
    },
    {
     "name": "stderr",
     "output_type": "stream",
     "text": [
      "376it [00:27, 11.74it/s]"
     ]
    },
    {
     "name": "stdout",
     "output_type": "stream",
     "text": [
      "[[0.85352206 0.08334184 0.04968805 0.00894558 0.00450246]]\n",
      "[[0.8409825  0.08946579 0.05621908 0.00894688 0.00438562]]\n"
     ]
    },
    {
     "name": "stderr",
     "output_type": "stream",
     "text": [
      "381it [00:28, 11.78it/s]"
     ]
    },
    {
     "name": "stdout",
     "output_type": "stream",
     "text": [
      "[[0.83355886 0.08952334 0.06101021 0.01100166 0.00490592]]\n",
      "[[0.85177916 0.08272127 0.05333669 0.00788863 0.00427424]]\n",
      "[[0.84510034 0.08678253 0.05403249 0.00919634 0.00488828]]\n",
      "[[0.8485726  0.085093   0.05313064 0.00880858 0.00439521]]\n",
      "[[0.84368116 0.08630273 0.05696575 0.00895796 0.00409238]]\n"
     ]
    },
    {
     "name": "stderr",
     "output_type": "stream",
     "text": [
      "386it [00:28, 13.07it/s]"
     ]
    },
    {
     "name": "stdout",
     "output_type": "stream",
     "text": [
      "[[0.83883977 0.08449509 0.06181693 0.01002631 0.004822  ]]\n",
      "[[0.8461731  0.08668564 0.05358044 0.00894172 0.00461914]]\n",
      "[[0.84983164 0.0835596  0.05390398 0.00858334 0.00412137]]\n",
      "[[0.83424705 0.08994709 0.06209683 0.00914446 0.00456458]]\n"
     ]
    },
    {
     "name": "stderr",
     "output_type": "stream",
     "text": [
      "389it [00:28, 14.93it/s]"
     ]
    },
    {
     "name": "stdout",
     "output_type": "stream",
     "text": [
      "[[0.84119916 0.08947429 0.0553732  0.00936889 0.00458444]]\n",
      "[[0.8438501  0.0872269  0.05482265 0.00935109 0.00474927]]\n",
      "[[0.85123056 0.08398191 0.05068861 0.00936565 0.00473327]]\n",
      "[[0.84297156 0.08876809 0.0546863  0.00895594 0.00461816]]\n",
      "[[0.85896295 0.07875098 0.05047536 0.00823635 0.0035744 ]]\n"
     ]
    },
    {
     "name": "stderr",
     "output_type": "stream",
     "text": [
      "395it [00:29, 18.02it/s]"
     ]
    },
    {
     "name": "stdout",
     "output_type": "stream",
     "text": [
      "[[0.8462083  0.08484272 0.05497279 0.00922136 0.00475493]]\n",
      "[[0.8478641  0.08233509 0.05780606 0.00764348 0.00435132]]\n",
      "[[0.8487084  0.08416819 0.05431938 0.0085544  0.00424963]]\n",
      "[[0.8442124  0.08730525 0.05362895 0.009611   0.00524245]]\n",
      "[[0.83158153 0.08545444 0.06783963 0.01014902 0.00497534]]\n"
     ]
    },
    {
     "name": "stderr",
     "output_type": "stream",
     "text": [
      "399it [00:29, 17.96it/s]"
     ]
    },
    {
     "name": "stdout",
     "output_type": "stream",
     "text": [
      "[[0.85032266 0.08388438 0.05313647 0.00859259 0.00406385]]\n",
      "[[0.84977317 0.08643775 0.05056846 0.00861724 0.00460332]]\n",
      "[[0.8311621  0.09081705 0.06327721 0.00958713 0.00515656]]\n",
      "[[0.8433937  0.08726998 0.05689328 0.00805305 0.00438999]]\n"
     ]
    },
    {
     "name": "stderr",
     "output_type": "stream",
     "text": [
      "405it [00:29, 19.69it/s]"
     ]
    },
    {
     "name": "stdout",
     "output_type": "stream",
     "text": [
      "[[0.8536947  0.0835301  0.04995996 0.00883454 0.00398063]]\n",
      "[[0.84007984 0.09256627 0.05400329 0.00902619 0.00432451]]\n",
      "[[0.8401727  0.0878741  0.05773801 0.0093612  0.00485395]]\n",
      "[[0.8508672  0.08478461 0.05236836 0.00813454 0.00384529]]\n",
      "[[0.842211   0.08952704 0.05393426 0.0097879  0.00453974]]\n"
     ]
    },
    {
     "name": "stderr",
     "output_type": "stream",
     "text": [
      "407it [00:29, 15.83it/s]"
     ]
    },
    {
     "name": "stdout",
     "output_type": "stream",
     "text": [
      "[[0.8398931  0.08889467 0.05636171 0.01001872 0.00483182]]\n",
      "[[0.8480392  0.08219045 0.05540234 0.00985212 0.00451588]]\n",
      "[[0.8519643  0.08127201 0.05356767 0.00907015 0.00412592]]\n"
     ]
    },
    {
     "name": "stderr",
     "output_type": "stream",
     "text": [
      "409it [00:30, 10.20it/s]"
     ]
    },
    {
     "name": "stdout",
     "output_type": "stream",
     "text": [
      "[[0.84825885 0.08563022 0.05185065 0.00950302 0.00475734]]\n",
      "[[0.82307196 0.09027249 0.07035223 0.01148487 0.0048184 ]]\n"
     ]
    },
    {
     "name": "stderr",
     "output_type": "stream",
     "text": [
      "411it [00:30,  9.76it/s]"
     ]
    },
    {
     "name": "stdout",
     "output_type": "stream",
     "text": [
      "[[0.8509063  0.08307245 0.05220188 0.00912659 0.00469276]]\n"
     ]
    },
    {
     "name": "stderr",
     "output_type": "stream",
     "text": [
      "413it [00:30,  8.78it/s]"
     ]
    },
    {
     "name": "stdout",
     "output_type": "stream",
     "text": [
      "[[0.85018843 0.08312182 0.05175284 0.01019401 0.00474284]]\n",
      "[[0.8377585  0.0869071  0.060975   0.00933105 0.00502835]]\n",
      "[[0.84352416 0.0899621  0.05355725 0.00870632 0.0042501 ]]\n"
     ]
    },
    {
     "name": "stderr",
     "output_type": "stream",
     "text": [
      "415it [00:31,  9.23it/s]"
     ]
    },
    {
     "name": "stdout",
     "output_type": "stream",
     "text": [
      "[[0.85857594 0.07791796 0.05129982 0.0080883  0.00411797]]\n"
     ]
    },
    {
     "name": "stderr",
     "output_type": "stream",
     "text": [
      "417it [00:31,  6.37it/s]"
     ]
    },
    {
     "name": "stdout",
     "output_type": "stream",
     "text": [
      "[[0.8437146  0.08970176 0.05271834 0.00927853 0.0045868 ]]\n",
      "[[0.84330094 0.09102449 0.05223456 0.00891671 0.00452334]]\n"
     ]
    },
    {
     "name": "stderr",
     "output_type": "stream",
     "text": [
      "419it [00:31,  6.92it/s]"
     ]
    },
    {
     "name": "stdout",
     "output_type": "stream",
     "text": [
      "[[0.85148084 0.08506224 0.05122013 0.00777052 0.00446629]]\n",
      "[[0.84849924 0.08617358 0.05124348 0.00932321 0.00476044]]\n"
     ]
    },
    {
     "name": "stderr",
     "output_type": "stream",
     "text": [
      "421it [00:32,  7.48it/s]"
     ]
    },
    {
     "name": "stdout",
     "output_type": "stream",
     "text": [
      "[[0.84042746 0.09127039 0.05322317 0.00995918 0.00511971]]\n",
      "[[0.8501246  0.08333693 0.0533146  0.00882836 0.00439543]]\n"
     ]
    },
    {
     "name": "stderr",
     "output_type": "stream",
     "text": [
      "424it [00:32, 10.55it/s]"
     ]
    },
    {
     "name": "stdout",
     "output_type": "stream",
     "text": [
      "[[0.85071063 0.08464165 0.05147997 0.00887126 0.00429656]]\n",
      "[[0.84668756 0.08486646 0.05506566 0.00902579 0.00435449]]\n",
      "[[0.8495235  0.08498845 0.05150828 0.00930622 0.00467359]]\n"
     ]
    },
    {
     "name": "stderr",
     "output_type": "stream",
     "text": [
      "429it [00:32, 13.29it/s]"
     ]
    },
    {
     "name": "stdout",
     "output_type": "stream",
     "text": [
      "[[0.84208834 0.08479213 0.05839688 0.00990544 0.00481723]]\n",
      "[[0.850117   0.08363832 0.05359916 0.00838821 0.00425732]]\n",
      "[[0.8544783  0.08204431 0.05070933 0.00842696 0.00434111]]\n",
      "[[0.84497285 0.08487447 0.05663946 0.009442   0.00407122]]\n",
      "[[0.8426364  0.08719328 0.0562957  0.00927118 0.00460346]]\n"
     ]
    },
    {
     "name": "stderr",
     "output_type": "stream",
     "text": [
      "431it [00:32, 13.39it/s]"
     ]
    },
    {
     "name": "stdout",
     "output_type": "stream",
     "text": [
      "[[0.87066066 0.07083371 0.04899799 0.00643619 0.00307153]]\n",
      "[[0.84805816 0.08571007 0.05278174 0.00917847 0.00427166]]\n",
      "[[0.83559185 0.0929784  0.05675409 0.00987251 0.00480311]]\n"
     ]
    },
    {
     "name": "stderr",
     "output_type": "stream",
     "text": [
      "433it [00:32, 12.92it/s]"
     ]
    },
    {
     "name": "stdout",
     "output_type": "stream",
     "text": [
      "[[0.84712005 0.08758925 0.05151609 0.00916665 0.00460791]]\n"
     ]
    },
    {
     "name": "stderr",
     "output_type": "stream",
     "text": [
      "435it [00:33,  8.99it/s]"
     ]
    },
    {
     "name": "stdout",
     "output_type": "stream",
     "text": [
      "[[0.83690476 0.09382704 0.05516722 0.0094476  0.00465333]]\n",
      "[[0.8431201  0.08398397 0.05772368 0.0103593  0.00481302]]\n",
      "[[0.8566214  0.07927467 0.0523553  0.00798623 0.00376248]]\n"
     ]
    },
    {
     "name": "stderr",
     "output_type": "stream",
     "text": [
      "441it [00:33, 13.86it/s]"
     ]
    },
    {
     "name": "stdout",
     "output_type": "stream",
     "text": [
      "[[0.84382856 0.08503146 0.05781102 0.00888271 0.00444613]]\n",
      "[[0.83849674 0.09258022 0.05477965 0.00933967 0.00480373]]\n",
      "[[0.85241    0.07976718 0.05354265 0.00914076 0.00513924]]\n",
      "[[0.8565514  0.07888924 0.05137831 0.00847704 0.00470403]]\n",
      "[[0.83998585 0.09192406 0.05332901 0.01006131 0.00469981]]\n"
     ]
    },
    {
     "name": "stderr",
     "output_type": "stream",
     "text": [
      "443it [00:33, 12.71it/s]"
     ]
    },
    {
     "name": "stdout",
     "output_type": "stream",
     "text": [
      "[[0.8444856  0.08132233 0.06009378 0.00982866 0.00426967]]\n",
      "[[0.8541649  0.0805262  0.05089804 0.00957452 0.00483633]]\n",
      "[[0.84099466 0.08863893 0.05666071 0.00899739 0.00470834]]\n"
     ]
    },
    {
     "name": "stderr",
     "output_type": "stream",
     "text": [
      "448it [00:34, 14.50it/s]"
     ]
    },
    {
     "name": "stdout",
     "output_type": "stream",
     "text": [
      "[[0.8412942  0.08427741 0.05991324 0.00938738 0.00512769]]\n",
      "[[0.8546166  0.07952799 0.05330782 0.00835866 0.00418895]]\n",
      "[[0.84892446 0.08349763 0.05296971 0.00959321 0.00501497]]\n",
      "[[0.8438225  0.08523625 0.05758512 0.00897685 0.00437925]]\n"
     ]
    },
    {
     "name": "stderr",
     "output_type": "stream",
     "text": [
      "452it [00:34, 14.27it/s]"
     ]
    },
    {
     "name": "stdout",
     "output_type": "stream",
     "text": [
      "[[0.84122264 0.08485411 0.05944461 0.00973987 0.0047388 ]]\n",
      "[[0.8578172  0.07444842 0.05564856 0.00798757 0.00409826]]\n",
      "[[0.83221036 0.09827336 0.05523079 0.0093392  0.00494626]]\n",
      "[[0.84908617 0.08293243 0.05423788 0.00884667 0.00489686]]\n"
     ]
    },
    {
     "name": "stderr",
     "output_type": "stream",
     "text": [
      "455it [00:34, 16.06it/s]"
     ]
    },
    {
     "name": "stdout",
     "output_type": "stream",
     "text": [
      "[[0.8447158  0.08682518 0.05479724 0.00910522 0.00455654]]\n",
      "[[0.83378255 0.09077681 0.06038843 0.00990063 0.0051515 ]]\n",
      "[[0.85404193 0.06895279 0.06280571 0.0102026  0.00399708]]\n",
      "[[0.8432572  0.08732878 0.05589228 0.00908538 0.00443637]]\n",
      "[[0.84656    0.08523463 0.05614704 0.00802658 0.00403182]]\n"
     ]
    },
    {
     "name": "stderr",
     "output_type": "stream",
     "text": [
      "458it [00:34, 14.76it/s]"
     ]
    },
    {
     "name": "stdout",
     "output_type": "stream",
     "text": [
      "[[0.84426194 0.08181059 0.05934438 0.01025774 0.00432541]]\n",
      "[[0.85082924 0.08405944 0.052731   0.00830043 0.00407993]]\n"
     ]
    },
    {
     "name": "stderr",
     "output_type": "stream",
     "text": [
      "463it [00:35, 15.07it/s]"
     ]
    },
    {
     "name": "stdout",
     "output_type": "stream",
     "text": [
      "[[0.8401631  0.0856609  0.05940625 0.01011851 0.00465124]]\n",
      "[[0.84600055 0.08833958 0.05190089 0.00902855 0.00473051]]\n",
      "[[0.84841675 0.08353417 0.0550454  0.00880832 0.00419535]]\n",
      "[[0.84497297 0.08672559 0.05408527 0.00959318 0.00462302]]\n",
      "[[0.8505812  0.08250646 0.05443303 0.00855916 0.00392013]]\n"
     ]
    },
    {
     "name": "stderr",
     "output_type": "stream",
     "text": [
      "467it [00:35, 13.10it/s]"
     ]
    },
    {
     "name": "stdout",
     "output_type": "stream",
     "text": [
      "[[0.8509422  0.08280716 0.05250871 0.00899608 0.00474574]]\n",
      "[[0.85320365 0.07922834 0.05399422 0.00926697 0.00430677]]\n",
      "[[0.82939404 0.09406488 0.0633902  0.00871158 0.00443933]]\n",
      "[[0.8520933  0.08398312 0.05102861 0.00829384 0.00460114]]\n"
     ]
    },
    {
     "name": "stderr",
     "output_type": "stream",
     "text": [
      "472it [00:35, 16.02it/s]"
     ]
    },
    {
     "name": "stdout",
     "output_type": "stream",
     "text": [
      "[[0.84898806 0.08544213 0.05288017 0.00850899 0.0041807 ]]\n",
      "[[0.84375435 0.0888529  0.05298375 0.00957998 0.004829  ]]\n",
      "[[0.8453188  0.08726667 0.05440737 0.00883121 0.00417591]]\n",
      "[[0.851246   0.08264993 0.05196446 0.00935501 0.00478458]]\n",
      "[[0.84981906 0.08300897 0.05331585 0.00910035 0.0047557 ]]\n"
     ]
    },
    {
     "name": "stderr",
     "output_type": "stream",
     "text": [
      "475it [00:36, 14.16it/s]"
     ]
    },
    {
     "name": "stdout",
     "output_type": "stream",
     "text": [
      "[[0.8463513  0.08686827 0.05239568 0.00967283 0.00471194]]\n",
      "[[0.8497893  0.08454614 0.05165634 0.00930473 0.00470351]]\n"
     ]
    },
    {
     "name": "stderr",
     "output_type": "stream",
     "text": [
      "477it [00:36, 11.68it/s]"
     ]
    },
    {
     "name": "stdout",
     "output_type": "stream",
     "text": [
      "[[0.8481718  0.08524754 0.05230732 0.00949741 0.00477591]]\n",
      "[[0.845119   0.08475848 0.05720568 0.00852279 0.00439415]]\n",
      "[[0.84118456 0.09065817 0.05427846 0.00970674 0.00417208]]\n"
     ]
    },
    {
     "name": "stderr",
     "output_type": "stream",
     "text": [
      "481it [00:36, 10.59it/s]"
     ]
    },
    {
     "name": "stdout",
     "output_type": "stream",
     "text": [
      "[[0.85062397 0.08405722 0.05136766 0.00930932 0.00464184]]\n",
      "[[0.85054016 0.07845747 0.05638135 0.00949659 0.00512448]]\n",
      "[[0.8428678  0.08613446 0.05626156 0.0097924  0.00494381]]\n"
     ]
    },
    {
     "name": "stderr",
     "output_type": "stream",
     "text": [
      "483it [00:36, 11.72it/s]"
     ]
    },
    {
     "name": "stdout",
     "output_type": "stream",
     "text": [
      "[[0.84496593 0.08507825 0.05665399 0.00879584 0.00450604]]\n",
      "[[0.8390778  0.09156077 0.05666982 0.0087597  0.00393193]]\n",
      "[[0.8433006  0.08960748 0.05275944 0.00947783 0.0048547 ]]\n"
     ]
    },
    {
     "name": "stderr",
     "output_type": "stream",
     "text": [
      "487it [00:37, 12.80it/s]"
     ]
    },
    {
     "name": "stdout",
     "output_type": "stream",
     "text": [
      "[[0.84183246 0.0857285  0.05787222 0.009974   0.00459278]]\n",
      "[[0.83971107 0.09348341 0.05242308 0.00990236 0.00448   ]]\n",
      "[[0.85490435 0.08239419 0.0511324  0.00767264 0.00389638]]\n",
      "[[0.84654987 0.08546118 0.05432908 0.00911332 0.00454646]]\n",
      "[[0.85011995 0.08252957 0.05401802 0.00873487 0.00459762]]\n"
     ]
    },
    {
     "name": "stderr",
     "output_type": "stream",
     "text": [
      "492it [00:37, 16.17it/s]"
     ]
    },
    {
     "name": "stdout",
     "output_type": "stream",
     "text": [
      "[[0.84851426 0.08571365 0.05294203 0.00867282 0.00415723]]\n",
      "[[0.8470917  0.08918887 0.05113954 0.00834731 0.00423264]]\n",
      "[[0.83093923 0.08415174 0.06835777 0.01157426 0.00497708]]\n",
      "[[0.84172773 0.08701155 0.05691616 0.0094776  0.00486697]]\n",
      "[[0.8378211  0.09158722 0.05570853 0.01010641 0.00477664]]\n"
     ]
    },
    {
     "name": "stderr",
     "output_type": "stream",
     "text": [
      "497it [00:37, 18.22it/s]"
     ]
    },
    {
     "name": "stdout",
     "output_type": "stream",
     "text": [
      "[[0.85784256 0.07915371 0.05172533 0.00748112 0.00379737]]\n",
      "[[0.84053504 0.09066842 0.05476742 0.00925879 0.00477027]]\n",
      "[[0.8492063  0.08369149 0.05414286 0.0084873  0.00447203]]\n",
      "[[0.8337362  0.0921398  0.05924689 0.00975506 0.00512211]]\n",
      "[[0.83764035 0.09690077 0.05116212 0.01000565 0.00429103]]\n"
     ]
    },
    {
     "name": "stderr",
     "output_type": "stream",
     "text": [
      "500it [00:37, 15.98it/s]"
     ]
    },
    {
     "name": "stdout",
     "output_type": "stream",
     "text": [
      "[[0.8261307  0.09494837 0.06294943 0.01060767 0.00536375]]\n",
      "[[0.85749537 0.08045626 0.04908791 0.00840751 0.00455295]]\n",
      "[[0.8417285  0.08865989 0.05635823 0.00870929 0.00454417]]\n"
     ]
    },
    {
     "name": "stderr",
     "output_type": "stream",
     "text": [
      "506it [00:38, 16.23it/s]"
     ]
    },
    {
     "name": "stdout",
     "output_type": "stream",
     "text": [
      "[[0.83714825 0.08690146 0.061538   0.01000376 0.00440855]]\n",
      "[[0.8440941  0.08797117 0.05433131 0.00920882 0.00439452]]\n",
      "[[0.8374913  0.09134643 0.05685886 0.0097374  0.00456606]]\n",
      "[[0.85138345 0.07957592 0.05600839 0.00856996 0.0044622 ]]\n",
      "[[0.8428838  0.08699359 0.05665099 0.00895935 0.00451223]]\n"
     ]
    },
    {
     "name": "stderr",
     "output_type": "stream",
     "text": [
      "512it [00:38, 18.75it/s]"
     ]
    },
    {
     "name": "stdout",
     "output_type": "stream",
     "text": [
      "[[0.84266114 0.08734575 0.05591381 0.00953947 0.00453983]]\n",
      "[[0.845317   0.08865923 0.05288146 0.0088737  0.00426863]]\n",
      "[[0.8552424  0.08164334 0.05110708 0.00801434 0.00399287]]\n",
      "[[0.8509435  0.08219379 0.05328647 0.00905568 0.00452057]]\n",
      "[[0.8512121  0.08650881 0.04955407 0.00867453 0.0040505 ]]\n"
     ]
    },
    {
     "name": "stderr",
     "output_type": "stream",
     "text": [
      "517it [00:38, 19.67it/s]"
     ]
    },
    {
     "name": "stdout",
     "output_type": "stream",
     "text": [
      "[[0.8453125  0.08610538 0.05462251 0.00921163 0.004748  ]]\n",
      "[[0.8498152  0.08239085 0.05464841 0.00858642 0.00455919]]\n",
      "[[0.8256604  0.08926173 0.06923992 0.01108065 0.00475734]]\n",
      "[[0.84381706 0.08773752 0.05420441 0.00971541 0.00452554]]\n",
      "[[0.8428774  0.08839747 0.05534095 0.00896597 0.00441822]]\n"
     ]
    },
    {
     "name": "stderr",
     "output_type": "stream",
     "text": [
      "520it [00:38, 18.09it/s]"
     ]
    },
    {
     "name": "stdout",
     "output_type": "stream",
     "text": [
      "[[0.8547258  0.07845247 0.05317283 0.00877964 0.00486925]]\n",
      "[[0.8490362  0.08429952 0.05289689 0.00939029 0.00437702]]\n",
      "[[0.8513101  0.08411697 0.05170606 0.00861962 0.00424723]]\n",
      "[[0.84460425 0.0858895  0.05582086 0.00909786 0.00458752]]\n"
     ]
    },
    {
     "name": "stderr",
     "output_type": "stream",
     "text": [
      "523it [00:39, 18.63it/s]"
     ]
    },
    {
     "name": "stdout",
     "output_type": "stream",
     "text": [
      "[[0.82066405 0.09288203 0.06880952 0.01221907 0.00542533]]\n",
      "[[0.8363374  0.09164304 0.05738341 0.00971045 0.00492577]]\n",
      "[[0.83956647 0.08335955 0.06105007 0.01057168 0.00545225]]\n"
     ]
    },
    {
     "name": "stderr",
     "output_type": "stream",
     "text": [
      "527it [00:39, 16.74it/s]"
     ]
    },
    {
     "name": "stdout",
     "output_type": "stream",
     "text": [
      "[[0.85250133 0.08245321 0.05202935 0.00830556 0.0047106 ]]\n",
      "[[0.84428805 0.08750632 0.0545901  0.00914064 0.00447483]]\n",
      "[[0.8507248  0.08182164 0.05389241 0.00920861 0.00435249]]\n"
     ]
    },
    {
     "name": "stderr",
     "output_type": "stream",
     "text": [
      "529it [00:39, 14.62it/s]"
     ]
    },
    {
     "name": "stdout",
     "output_type": "stream",
     "text": [
      "[[0.8357313  0.09030277 0.0585816  0.01041619 0.00496813]]\n",
      "[[0.8533739  0.08077046 0.0536657  0.00791505 0.00427493]]\n"
     ]
    },
    {
     "name": "stderr",
     "output_type": "stream",
     "text": [
      "533it [00:39, 13.56it/s]"
     ]
    },
    {
     "name": "stdout",
     "output_type": "stream",
     "text": [
      "[[0.8485051  0.08549304 0.05173934 0.009492   0.00477048]]\n",
      "[[0.84637135 0.08223023 0.05703398 0.00959849 0.00476597]]\n",
      "[[0.8498639  0.08453949 0.05343898 0.00810323 0.00405438]]\n",
      "[[0.8572706  0.07987458 0.04998295 0.00840352 0.0044684 ]]\n"
     ]
    },
    {
     "name": "stderr",
     "output_type": "stream",
     "text": [
      "535it [00:40, 12.39it/s]"
     ]
    },
    {
     "name": "stdout",
     "output_type": "stream",
     "text": [
      "[[0.8439348  0.08486679 0.0573545  0.0095023  0.00434158]]\n",
      "[[0.8490481  0.08300046 0.0550904  0.00846835 0.00439267]]\n",
      "[[0.843406   0.08353598 0.05831835 0.01009274 0.00464698]]\n"
     ]
    },
    {
     "name": "stderr",
     "output_type": "stream",
     "text": [
      "539it [00:40, 11.24it/s]"
     ]
    },
    {
     "name": "stdout",
     "output_type": "stream",
     "text": [
      "[[0.83962774 0.08661787 0.05915722 0.0098894  0.00470768]]\n",
      "[[0.85272735 0.08229455 0.0528065  0.00810788 0.00406381]]\n",
      "[[0.8408358  0.0865996  0.0589407  0.00918704 0.00443682]]\n",
      "[[0.8527093  0.08054563 0.05387452 0.00839658 0.00447396]]\n"
     ]
    },
    {
     "name": "stderr",
     "output_type": "stream",
     "text": [
      "543it [00:40, 14.20it/s]"
     ]
    },
    {
     "name": "stdout",
     "output_type": "stream",
     "text": [
      "[[0.84294283 0.08610244 0.05800411 0.00873912 0.0042115 ]]\n",
      "[[0.85740316 0.08060674 0.0488563  0.00879213 0.00434174]]\n",
      "[[0.8455592  0.0859602  0.05442107 0.00948358 0.00457607]]\n",
      "[[0.8392084  0.08980414 0.05685386 0.00939567 0.00473796]]\n"
     ]
    },
    {
     "name": "stderr",
     "output_type": "stream",
     "text": [
      "547it [00:41, 13.68it/s]"
     ]
    },
    {
     "name": "stdout",
     "output_type": "stream",
     "text": [
      "[[0.85162365 0.08405239 0.05127833 0.00898134 0.00406428]]\n",
      "[[0.8475283  0.0866876  0.05222897 0.00916795 0.00438713]]\n",
      "[[0.843819   0.08121923 0.05940964 0.01045765 0.00509447]]\n"
     ]
    },
    {
     "name": "stderr",
     "output_type": "stream",
     "text": [
      "550it [00:41, 15.83it/s]"
     ]
    },
    {
     "name": "stdout",
     "output_type": "stream",
     "text": [
      "[[0.84566844 0.08402517 0.05557047 0.00942846 0.00530746]]\n",
      "[[0.8513508  0.08641531 0.04947289 0.00883845 0.0039225 ]]\n",
      "[[0.851816   0.08325417 0.05297501 0.00831953 0.00363526]]\n"
     ]
    },
    {
     "name": "stderr",
     "output_type": "stream",
     "text": [
      "552it [00:41, 13.41it/s]"
     ]
    },
    {
     "name": "stdout",
     "output_type": "stream",
     "text": [
      "[[0.8326523  0.09208629 0.06048296 0.00999261 0.00478577]]\n",
      "[[0.8311139  0.09517168 0.06065753 0.00834043 0.00471641]]\n",
      "[[0.8482615  0.08587424 0.05264615 0.00902838 0.00418972]]\n",
      "[[0.8469041  0.08178868 0.05751055 0.00913754 0.00465919]]\n"
     ]
    },
    {
     "name": "stderr",
     "output_type": "stream",
     "text": [
      "555it [00:41, 15.26it/s]"
     ]
    },
    {
     "name": "stdout",
     "output_type": "stream",
     "text": [
      "[[0.8520465  0.08405993 0.04999028 0.00918337 0.00471993]]\n"
     ]
    },
    {
     "name": "stderr",
     "output_type": "stream",
     "text": [
      "559it [00:41, 13.50it/s]"
     ]
    },
    {
     "name": "stdout",
     "output_type": "stream",
     "text": [
      "[[0.8509876  0.08236206 0.05319132 0.0090715  0.00438742]]\n",
      "[[0.83387184 0.09343371 0.05772732 0.0099605  0.00500668]]\n",
      "[[0.84660804 0.08392814 0.05596089 0.00941372 0.00408918]]\n",
      "[[0.8396499  0.09405227 0.05289515 0.00907371 0.00432898]]\n"
     ]
    },
    {
     "name": "stderr",
     "output_type": "stream",
     "text": [
      "564it [00:42, 14.99it/s]"
     ]
    },
    {
     "name": "stdout",
     "output_type": "stream",
     "text": [
      "[[0.84045887 0.08371802 0.06129587 0.00984326 0.00468398]]\n",
      "[[0.8490735  0.08568616 0.05347872 0.00783655 0.003925  ]]\n",
      "[[0.84935933 0.08060675 0.05594759 0.00916331 0.00492302]]\n",
      "[[0.8498292  0.08177733 0.05547896 0.00855772 0.00435675]]\n",
      "[[0.85183    0.07971204 0.05543615 0.00859237 0.00442942]]\n"
     ]
    },
    {
     "name": "stderr",
     "output_type": "stream",
     "text": [
      "567it [00:42, 16.55it/s]"
     ]
    },
    {
     "name": "stdout",
     "output_type": "stream",
     "text": [
      "[[0.84687746 0.08471836 0.05558981 0.00850742 0.00430696]]\n",
      "[[0.8495711  0.08465358 0.0514309  0.00947181 0.00487265]]\n",
      "[[0.8527504  0.08460443 0.05106005 0.00752971 0.00405549]]\n",
      "[[0.84490263 0.08705969 0.05353358 0.00980575 0.00469843]]\n",
      "[[0.84730256 0.08458916 0.05501202 0.00891239 0.00418388]]\n"
     ]
    },
    {
     "name": "stderr",
     "output_type": "stream",
     "text": [
      "573it [00:42, 17.10it/s]"
     ]
    },
    {
     "name": "stdout",
     "output_type": "stream",
     "text": [
      "[[0.8397965  0.08586407 0.06197526 0.00828557 0.00407859]]\n",
      "[[0.84913015 0.08539792 0.05263238 0.00844418 0.00439536]]\n",
      "[[0.86558056 0.07163691 0.05025442 0.00838315 0.00414493]]\n",
      "[[0.82467157 0.09989633 0.06156936 0.00959263 0.00427009]]\n"
     ]
    },
    {
     "name": "stderr",
     "output_type": "stream",
     "text": [
      "576it [00:42, 18.27it/s]"
     ]
    },
    {
     "name": "stdout",
     "output_type": "stream",
     "text": [
      "[[0.86235267 0.07458711 0.05118624 0.00774431 0.00412973]]\n",
      "[[0.86206925 0.07822163 0.0476914  0.00782101 0.00419664]]\n",
      "[[0.84686565 0.08454885 0.05556544 0.00851344 0.00450659]]\n"
     ]
    },
    {
     "name": "stderr",
     "output_type": "stream",
     "text": [
      "581it [00:43, 16.25it/s]"
     ]
    },
    {
     "name": "stdout",
     "output_type": "stream",
     "text": [
      "[[0.85104954 0.083413   0.05211788 0.00908769 0.00433181]]\n",
      "[[0.85127234 0.08495684 0.04950764 0.00926546 0.00499769]]\n",
      "[[0.84979975 0.08553481 0.05138465 0.00875884 0.00452191]]\n",
      "[[0.8533264  0.07919009 0.05459044 0.00866339 0.00422959]]\n",
      "[[0.84769136 0.08539405 0.05247529 0.00948643 0.00495284]]\n"
     ]
    },
    {
     "name": "stderr",
     "output_type": "stream",
     "text": [
      "586it [00:43, 17.43it/s]"
     ]
    },
    {
     "name": "stdout",
     "output_type": "stream",
     "text": [
      "[[0.8230508  0.09921666 0.0629668  0.00971847 0.00504721]]\n",
      "[[0.85538065 0.08427133 0.04852094 0.00808113 0.00374594]]\n",
      "[[0.84446144 0.08531009 0.05742371 0.00877812 0.00402664]]\n",
      "[[0.8519557  0.08220053 0.05308377 0.0085126  0.00424741]]\n",
      "[[0.8486007  0.08536348 0.05265334 0.00901332 0.00436913]]\n"
     ]
    },
    {
     "name": "stderr",
     "output_type": "stream",
     "text": [
      "589it [00:43, 17.77it/s]"
     ]
    },
    {
     "name": "stdout",
     "output_type": "stream",
     "text": [
      "[[0.8574344  0.07861646 0.0512269  0.00860529 0.00411701]]\n",
      "[[0.8420341  0.08920835 0.05467017 0.00919431 0.00489304]]\n",
      "[[0.8445575  0.08722892 0.05480103 0.0089767  0.00443596]]\n"
     ]
    },
    {
     "name": "stderr",
     "output_type": "stream",
     "text": [
      "593it [00:44, 12.32it/s]"
     ]
    },
    {
     "name": "stdout",
     "output_type": "stream",
     "text": [
      "[[0.8488746  0.08514924 0.05191004 0.00940124 0.00466483]]\n",
      "[[0.8544464  0.08000457 0.05226821 0.00896622 0.00431456]]\n",
      "[[0.8444458  0.08684573 0.05584362 0.0085706  0.00429433]]\n",
      "[[0.8472242  0.08414403 0.05484024 0.00914907 0.00464251]]\n"
     ]
    },
    {
     "name": "stderr",
     "output_type": "stream",
     "text": [
      "595it [00:44, 13.59it/s]"
     ]
    },
    {
     "name": "stdout",
     "output_type": "stream",
     "text": [
      "[[0.85109264 0.08182907 0.05405929 0.00873347 0.00428558]]\n",
      "[[0.85449034 0.07881436 0.053279   0.00866769 0.00474859]]\n",
      "[[0.8388339  0.08576123 0.06064358 0.01002827 0.00473291]]\n"
     ]
    },
    {
     "name": "stderr",
     "output_type": "stream",
     "text": [
      "600it [00:44, 14.81it/s]"
     ]
    },
    {
     "name": "stdout",
     "output_type": "stream",
     "text": [
      "[[0.8511486  0.0860468  0.04991024 0.00826465 0.00462978]]\n",
      "[[0.8554935  0.08197595 0.05024402 0.00822053 0.00406594]]\n",
      "[[0.8334557  0.09310869 0.05903635 0.00967504 0.00472424]]\n",
      "[[0.8509887  0.08502139 0.04982359 0.00939559 0.00477084]]\n",
      "[[0.85073936 0.08518942 0.0517923  0.00784968 0.00442928]]\n"
     ]
    },
    {
     "name": "stderr",
     "output_type": "stream",
     "text": [
      "604it [00:44, 16.63it/s]"
     ]
    },
    {
     "name": "stdout",
     "output_type": "stream",
     "text": [
      "[[0.85267943 0.08005672 0.05303048 0.00944458 0.00478886]]\n",
      "[[0.84828943 0.08396482 0.05406225 0.00874788 0.00493555]]\n",
      "[[0.8514411  0.08081534 0.05407238 0.0092009  0.00447025]]\n",
      "[[0.83923006 0.09656722 0.05105368 0.00900993 0.00413908]]\n",
      "[[0.8309423  0.08781799 0.06538195 0.01065715 0.00520069]]\n"
     ]
    },
    {
     "name": "stderr",
     "output_type": "stream",
     "text": [
      "609it [00:45, 18.38it/s]"
     ]
    },
    {
     "name": "stdout",
     "output_type": "stream",
     "text": [
      "[[0.8467218  0.0858614  0.05328199 0.00940994 0.00472478]]\n",
      "[[0.8420927  0.08912802 0.05469428 0.00923275 0.00485227]]\n",
      "[[0.8548366  0.08010215 0.05258759 0.00803921 0.00443441]]\n"
     ]
    },
    {
     "name": "stderr",
     "output_type": "stream",
     "text": [
      "611it [00:45, 13.57it/s]"
     ]
    },
    {
     "name": "stdout",
     "output_type": "stream",
     "text": [
      "[[0.82867634 0.08756248 0.068176   0.01108619 0.00449904]]\n",
      "[[0.8434787  0.08315187 0.05899825 0.00983985 0.00453139]]\n",
      "[[0.845733   0.0860334  0.05457234 0.00915886 0.0045025 ]]\n"
     ]
    },
    {
     "name": "stderr",
     "output_type": "stream",
     "text": [
      "615it [00:45, 15.69it/s]"
     ]
    },
    {
     "name": "stdout",
     "output_type": "stream",
     "text": [
      "[[0.8499341  0.08449464 0.05291851 0.0086111  0.00404164]]\n",
      "[[0.84222025 0.08915748 0.05335722 0.0099691  0.00529595]]\n",
      "[[0.8471541  0.08655569 0.05319825 0.0087912  0.00430083]]\n",
      "[[0.84984446 0.0852779  0.0519391  0.00881337 0.00412518]]\n",
      "[[0.8370413  0.09383635 0.05446042 0.0099205  0.00474135]]\n"
     ]
    },
    {
     "name": "stderr",
     "output_type": "stream",
     "text": [
      "618it [00:45, 17.35it/s]"
     ]
    },
    {
     "name": "stdout",
     "output_type": "stream",
     "text": [
      "[[0.85085064 0.08355682 0.05140185 0.00946262 0.00472807]]\n"
     ]
    },
    {
     "name": "stderr",
     "output_type": "stream",
     "text": [
      "620it [00:45, 13.18it/s]"
     ]
    },
    {
     "name": "stdout",
     "output_type": "stream",
     "text": [
      "[[0.8413906  0.09253443 0.05196123 0.00940098 0.00471275]]\n",
      "[[0.84535515 0.08525945 0.05573999 0.00913466 0.00451066]]\n",
      "[[0.83929414 0.08681547 0.0592318  0.01031934 0.0043393 ]]\n"
     ]
    },
    {
     "name": "stderr",
     "output_type": "stream",
     "text": [
      "622it [00:46, 12.19it/s]"
     ]
    },
    {
     "name": "stdout",
     "output_type": "stream",
     "text": [
      "[[0.85275716 0.08329637 0.05188448 0.00819954 0.00386244]]\n",
      "[[0.8568081  0.076173   0.05396897 0.00855405 0.00449592]]\n",
      "[[0.8512714  0.08389059 0.05133326 0.00897952 0.00452513]]\n"
     ]
    },
    {
     "name": "stderr",
     "output_type": "stream",
     "text": [
      "627it [00:46, 12.33it/s]"
     ]
    },
    {
     "name": "stdout",
     "output_type": "stream",
     "text": [
      "[[0.850423   0.08505525 0.05238507 0.00806281 0.00407388]]\n",
      "[[0.8516206  0.08132729 0.05367143 0.00917    0.00421054]]\n",
      "[[0.8445945  0.08655289 0.05558896 0.00880034 0.00446334]]\n",
      "[[0.8477716  0.08340965 0.05512205 0.00929233 0.00440442]]\n"
     ]
    },
    {
     "name": "stderr",
     "output_type": "stream",
     "text": [
      "632it [00:46, 15.71it/s]"
     ]
    },
    {
     "name": "stdout",
     "output_type": "stream",
     "text": [
      "[[0.8440787  0.08685347 0.05501652 0.00936716 0.0046841 ]]\n",
      "[[0.843341   0.08895677 0.05303844 0.00943914 0.00522463]]\n",
      "[[0.8512866  0.08518246 0.05133561 0.00817668 0.00401864]]\n",
      "[[0.8623439  0.07575875 0.0490569  0.00856754 0.00427294]]\n"
     ]
    },
    {
     "name": "stderr",
     "output_type": "stream",
     "text": [
      "634it [00:46, 13.93it/s]"
     ]
    },
    {
     "name": "stdout",
     "output_type": "stream",
     "text": [
      "[[0.8403752  0.08476284 0.06016774 0.0101823  0.00451191]]\n",
      "[[0.8481624  0.08254847 0.05602522 0.00860011 0.00466379]]\n",
      "[[0.8481741  0.08399504 0.05366099 0.00951536 0.0046545 ]]\n"
     ]
    },
    {
     "name": "stderr",
     "output_type": "stream",
     "text": [
      "638it [00:47, 11.63it/s]"
     ]
    },
    {
     "name": "stdout",
     "output_type": "stream",
     "text": [
      "[[0.8507887  0.08392972 0.05142919 0.00919325 0.00465921]]\n",
      "[[0.8559729  0.08001099 0.05186377 0.00824219 0.00391005]]\n",
      "[[0.8468411  0.08129317 0.05763491 0.00974226 0.00448855]]\n"
     ]
    },
    {
     "name": "stderr",
     "output_type": "stream",
     "text": [
      "640it [00:47, 13.17it/s]"
     ]
    },
    {
     "name": "stdout",
     "output_type": "stream",
     "text": [
      "[[0.847847   0.08576546 0.05262259 0.0089392  0.00482582]]\n",
      "[[0.84024906 0.0961211  0.05108533 0.00847018 0.00407429]]\n",
      "[[0.850206   0.08111713 0.05513297 0.00893692 0.00460695]]\n"
     ]
    },
    {
     "name": "stderr",
     "output_type": "stream",
     "text": [
      "645it [00:47, 14.73it/s]"
     ]
    },
    {
     "name": "stdout",
     "output_type": "stream",
     "text": [
      "[[0.83855873 0.0865352  0.0597248  0.01056908 0.00461213]]\n",
      "[[0.85339695 0.08073093 0.05311807 0.00849682 0.00425723]]\n",
      "[[0.84542674 0.0877772  0.05304588 0.00932072 0.00442945]]\n",
      "[[0.8353422  0.09075959 0.05917848 0.00969368 0.00502592]]\n"
     ]
    },
    {
     "name": "stderr",
     "output_type": "stream",
     "text": [
      "647it [00:47, 15.16it/s]"
     ]
    },
    {
     "name": "stdout",
     "output_type": "stream",
     "text": [
      "[[0.8340799  0.08954255 0.06361696 0.00857107 0.00418952]]\n",
      "[[0.8432138  0.08923784 0.05385311 0.00922384 0.00447134]]\n"
     ]
    },
    {
     "name": "stderr",
     "output_type": "stream",
     "text": [
      "649it [00:48, 11.87it/s]"
     ]
    },
    {
     "name": "stdout",
     "output_type": "stream",
     "text": [
      "[[0.8486778  0.08473207 0.05252271 0.00942614 0.00464129]]\n",
      "[[0.83366764 0.09510647 0.05734342 0.00913803 0.00474449]]\n"
     ]
    },
    {
     "name": "stderr",
     "output_type": "stream",
     "text": [
      "653it [00:48, 12.69it/s]"
     ]
    },
    {
     "name": "stdout",
     "output_type": "stream",
     "text": [
      "[[0.8250369  0.09590209 0.06351922 0.01016491 0.00537692]]\n",
      "[[0.8574215  0.0823884  0.0479952  0.00803047 0.00416446]]\n",
      "[[0.84687227 0.0885915  0.05141635 0.00873595 0.00438386]]\n",
      "[[0.86120707 0.07820096 0.04847478 0.00791007 0.00420713]]\n"
     ]
    },
    {
     "name": "stderr",
     "output_type": "stream",
     "text": [
      "657it [00:48, 14.37it/s]"
     ]
    },
    {
     "name": "stdout",
     "output_type": "stream",
     "text": [
      "[[0.84424406 0.08746409 0.05403754 0.00938846 0.00486582]]\n",
      "[[0.85074306 0.08349321 0.05428396 0.00802029 0.00345938]]\n",
      "[[0.8530423  0.07826517 0.05499238 0.00949141 0.00420878]]\n",
      "[[0.8303147  0.09328333 0.06299161 0.00887828 0.00453208]]\n"
     ]
    },
    {
     "name": "stderr",
     "output_type": "stream",
     "text": [
      "662it [00:49, 17.49it/s]"
     ]
    },
    {
     "name": "stdout",
     "output_type": "stream",
     "text": [
      "[[0.85276556 0.08247211 0.05187218 0.00865758 0.00423248]]\n",
      "[[0.8475403  0.08429372 0.05508634 0.00854722 0.00453244]]\n",
      "[[0.8494263  0.08311452 0.05397475 0.00921469 0.00426969]]\n",
      "[[0.8422402  0.08839376 0.05602846 0.00902909 0.00430853]]\n",
      "[[0.85279113 0.07892529 0.05354624 0.00930834 0.00542895]]\n"
     ]
    },
    {
     "name": "stderr",
     "output_type": "stream",
     "text": [
      "665it [00:49, 18.40it/s]"
     ]
    },
    {
     "name": "stdout",
     "output_type": "stream",
     "text": [
      "[[0.84821516 0.08453616 0.05432702 0.00832278 0.0045988 ]]\n",
      "[[0.8445219  0.0856648  0.05615974 0.00937551 0.00427795]]\n",
      "[[0.8508345  0.07936367 0.0562449  0.00900683 0.00455016]]\n",
      "[[0.8535254  0.08311459 0.05024045 0.00868538 0.00443423]]\n",
      "[[0.85216904 0.07965725 0.05419446 0.00940526 0.00457399]]\n"
     ]
    },
    {
     "name": "stderr",
     "output_type": "stream",
     "text": [
      "668it [00:49, 19.11it/s]"
     ]
    },
    {
     "name": "stdout",
     "output_type": "stream",
     "text": [
      "[[0.84923327 0.08193938 0.05535637 0.00899676 0.00447421]]\n",
      "[[0.8522373  0.08253147 0.05179104 0.00886371 0.00457648]]\n"
     ]
    },
    {
     "name": "stderr",
     "output_type": "stream",
     "text": [
      "673it [00:49, 16.43it/s]"
     ]
    },
    {
     "name": "stdout",
     "output_type": "stream",
     "text": [
      "[[0.84235215 0.09000303 0.05403229 0.0094884  0.00412409]]\n",
      "[[0.84685075 0.08642501 0.05361677 0.00880303 0.00430442]]\n",
      "[[0.85698736 0.08233511 0.04880844 0.00808376 0.00378535]]\n",
      "[[0.8421601  0.08738165 0.05697112 0.00895128 0.00453586]]\n",
      "[[0.84559935 0.08855899 0.05271038 0.00889787 0.00423337]]\n"
     ]
    },
    {
     "name": "stderr",
     "output_type": "stream",
     "text": [
      "675it [00:49, 14.33it/s]"
     ]
    },
    {
     "name": "stdout",
     "output_type": "stream",
     "text": [
      "[[0.839975   0.08510772 0.06093302 0.0093844  0.00459992]]\n",
      "[[0.8489355  0.08459048 0.05370797 0.00853104 0.00423509]]\n",
      "[[0.84416664 0.08669303 0.05459426 0.00959168 0.00495442]]\n"
     ]
    },
    {
     "name": "stderr",
     "output_type": "stream",
     "text": [
      "680it [00:50, 14.46it/s]"
     ]
    },
    {
     "name": "stdout",
     "output_type": "stream",
     "text": [
      "[[0.8331717  0.08821788 0.06253491 0.01086892 0.0052066 ]]\n",
      "[[0.85692286 0.08017262 0.0499207  0.00858905 0.00439475]]\n",
      "[[0.8514783  0.08165881 0.05319123 0.00889549 0.00477613]]\n",
      "[[0.83484685 0.08061343 0.06958381 0.01072514 0.00423075]]\n"
     ]
    },
    {
     "name": "stderr",
     "output_type": "stream",
     "text": [
      "682it [00:50, 15.11it/s]"
     ]
    },
    {
     "name": "stdout",
     "output_type": "stream",
     "text": [
      "[[0.835991   0.09211191 0.05745041 0.00983579 0.0046109 ]]\n",
      "[[0.827786   0.0921988  0.06504524 0.00989422 0.00507568]]\n"
     ]
    },
    {
     "name": "stderr",
     "output_type": "stream",
     "text": [
      "686it [00:50, 14.09it/s]"
     ]
    },
    {
     "name": "stdout",
     "output_type": "stream",
     "text": [
      "[[0.8550413  0.07854719 0.05357924 0.00844803 0.00438415]]\n",
      "[[0.84434575 0.08699282 0.05607422 0.00831262 0.00427458]]\n",
      "[[0.8442834  0.08590291 0.05630976 0.00876574 0.00473827]]\n",
      "[[0.8443698  0.08497053 0.05691468 0.00929373 0.00445135]]\n"
     ]
    },
    {
     "name": "stderr",
     "output_type": "stream",
     "text": [
      "691it [00:50, 17.05it/s]"
     ]
    },
    {
     "name": "stdout",
     "output_type": "stream",
     "text": [
      "[[0.8541828  0.08420175 0.04923131 0.00838411 0.0040001 ]]\n",
      "[[0.85684013 0.08028112 0.05075012 0.00849463 0.00363398]]\n",
      "[[0.85680425 0.07901418 0.0512443  0.0087543  0.00418299]]\n",
      "[[0.8573039  0.08078451 0.04987964 0.00798766 0.00404428]]\n",
      "[[0.8471353  0.08475979 0.05536529 0.00840698 0.00433259]]\n"
     ]
    },
    {
     "name": "stderr",
     "output_type": "stream",
     "text": [
      "695it [00:51, 15.62it/s]"
     ]
    },
    {
     "name": "stdout",
     "output_type": "stream",
     "text": [
      "[[0.8392393  0.09089484 0.05508371 0.01004834 0.00473384]]\n",
      "[[0.85084504 0.08146672 0.05460703 0.00895397 0.00412734]]\n",
      "[[0.847203   0.08805607 0.05145435 0.00887975 0.00440679]]\n",
      "[[0.8495818  0.08358018 0.05351097 0.00879306 0.00453405]]\n",
      "[[0.85667545 0.07586858 0.05529738 0.00827319 0.00388539]]\n"
     ]
    },
    {
     "name": "stderr",
     "output_type": "stream",
     "text": [
      "698it [00:51, 17.30it/s]"
     ]
    },
    {
     "name": "stdout",
     "output_type": "stream",
     "text": [
      "[[0.8510994  0.08558715 0.04953654 0.00906225 0.00471466]]\n",
      "[[0.84485155 0.09002224 0.05155661 0.00927056 0.00429908]]\n"
     ]
    },
    {
     "name": "stderr",
     "output_type": "stream",
     "text": [
      "702it [00:51, 12.44it/s]"
     ]
    },
    {
     "name": "stdout",
     "output_type": "stream",
     "text": [
      "[[0.842367   0.09072336 0.05365497 0.0086795  0.00457524]]\n",
      "[[0.8462993  0.08285744 0.05654677 0.00956646 0.00473011]]\n",
      "[[0.8480014  0.08528965 0.05209536 0.00980071 0.00481285]]\n"
     ]
    },
    {
     "name": "stderr",
     "output_type": "stream",
     "text": [
      "704it [00:51, 13.70it/s]"
     ]
    },
    {
     "name": "stdout",
     "output_type": "stream",
     "text": [
      "[[0.86931276 0.07142217 0.04885053 0.0065946  0.00381986]]\n",
      "[[0.84977704 0.08325882 0.05268411 0.00965694 0.00462311]]\n",
      "[[0.85259855 0.08294346 0.05163946 0.00849378 0.0043248 ]]\n",
      "[[0.84705746 0.08522382 0.05435579 0.00931634 0.0040467 ]]\n"
     ]
    },
    {
     "name": "stderr",
     "output_type": "stream",
     "text": [
      "707it [00:52, 12.64it/s]"
     ]
    },
    {
     "name": "stdout",
     "output_type": "stream",
     "text": [
      "[[0.8507383  0.08301713 0.05241907 0.0091532  0.00467231]]\n"
     ]
    },
    {
     "name": "stderr",
     "output_type": "stream",
     "text": [
      "709it [00:52,  9.37it/s]"
     ]
    },
    {
     "name": "stdout",
     "output_type": "stream",
     "text": [
      "[[0.84995276 0.08344206 0.05230964 0.00956429 0.00473123]]\n",
      "[[0.8532457  0.07840852 0.0539057  0.00971133 0.0047288 ]]\n"
     ]
    },
    {
     "name": "stderr",
     "output_type": "stream",
     "text": [
      "711it [00:52,  9.59it/s]"
     ]
    },
    {
     "name": "stdout",
     "output_type": "stream",
     "text": [
      "[[0.8461748  0.08531551 0.05462752 0.0093388  0.00454336]]\n",
      "[[0.8457296  0.08690149 0.05287748 0.00959474 0.00489675]]\n"
     ]
    },
    {
     "name": "stderr",
     "output_type": "stream",
     "text": [
      "716it [00:53, 10.42it/s]"
     ]
    },
    {
     "name": "stdout",
     "output_type": "stream",
     "text": [
      "[[0.8410306  0.0829929  0.06106796 0.01003283 0.00487572]]\n",
      "[[0.8400036  0.09122767 0.05473614 0.00926731 0.00476515]]\n",
      "[[0.8473712  0.08559705 0.05399592 0.00861847 0.00441732]]\n",
      "[[0.84805465 0.08266616 0.05512458 0.00962381 0.00453069]]\n",
      "[[0.84056723 0.07796048 0.06687693 0.01021392 0.0043814 ]]\n"
     ]
    },
    {
     "name": "stderr",
     "output_type": "stream",
     "text": [
      "719it [00:53, 11.10it/s]"
     ]
    },
    {
     "name": "stdout",
     "output_type": "stream",
     "text": [
      "[[0.8515283  0.08175408 0.0533115  0.00874203 0.00466407]]\n",
      "[[0.8492022  0.08586463 0.05148108 0.00880967 0.00464243]]\n",
      "[[0.8324976  0.08884925 0.06332821 0.01015071 0.00517416]]\n"
     ]
    },
    {
     "name": "stderr",
     "output_type": "stream",
     "text": [
      "724it [00:53, 14.46it/s]"
     ]
    },
    {
     "name": "stdout",
     "output_type": "stream",
     "text": [
      "[[0.8581793  0.07507607 0.05383781 0.00873623 0.00417067]]\n",
      "[[0.8475192  0.08559518 0.05346111 0.00906964 0.00435487]]\n",
      "[[0.851104   0.08015946 0.0565393  0.00806866 0.00412847]]\n",
      "[[0.8481727  0.08513795 0.05311194 0.00901363 0.00456381]]\n",
      "[[0.8496857  0.0848607  0.05165401 0.00914017 0.00465932]]\n"
     ]
    },
    {
     "name": "stderr",
     "output_type": "stream",
     "text": [
      "727it [00:53, 16.04it/s]"
     ]
    },
    {
     "name": "stdout",
     "output_type": "stream",
     "text": [
      "[[0.8480328  0.08598571 0.05188325 0.00918769 0.00491065]]\n",
      "[[0.84125704 0.09188869 0.05276091 0.0094438  0.00464957]]\n",
      "[[0.8486131  0.08393107 0.05378371 0.00871678 0.00495546]]\n",
      "[[0.849299   0.08751992 0.0498039  0.00902502 0.00435212]]\n"
     ]
    },
    {
     "name": "stderr",
     "output_type": "stream",
     "text": [
      "729it [00:54, 14.01it/s]"
     ]
    },
    {
     "name": "stdout",
     "output_type": "stream",
     "text": [
      "[[0.84482884 0.08488321 0.0558711  0.00989467 0.00452216]]\n",
      "[[0.8493379  0.08475173 0.05183927 0.00934273 0.00472837]]\n"
     ]
    },
    {
     "name": "stderr",
     "output_type": "stream",
     "text": [
      "734it [00:54, 12.59it/s]"
     ]
    },
    {
     "name": "stdout",
     "output_type": "stream",
     "text": [
      "[[0.8474876  0.08599925 0.05238449 0.00936595 0.0047627 ]]\n",
      "[[0.8409859  0.08640193 0.05799092 0.01007605 0.00454515]]\n",
      "[[0.84932655 0.08613323 0.05246434 0.0082734  0.00380246]]\n",
      "[[0.84641385 0.08487612 0.054469   0.00924568 0.00499539]]\n",
      "[[0.84732294 0.08718735 0.05228401 0.00860403 0.00460162]]\n"
     ]
    },
    {
     "name": "stderr",
     "output_type": "stream",
     "text": [
      "736it [00:54, 10.88it/s]"
     ]
    },
    {
     "name": "stdout",
     "output_type": "stream",
     "text": [
      "[[0.8399457  0.09011925 0.05483131 0.01005939 0.00504437]]\n",
      "[[0.8438982  0.08553046 0.05669445 0.00932944 0.00454739]]\n"
     ]
    },
    {
     "name": "stderr",
     "output_type": "stream",
     "text": [
      "740it [00:55, 10.67it/s]"
     ]
    },
    {
     "name": "stdout",
     "output_type": "stream",
     "text": [
      "[[0.84555525 0.08403864 0.05590321 0.00975275 0.00475013]]\n",
      "[[0.85468477 0.08301461 0.04933091 0.00875586 0.00421396]]\n",
      "[[0.8554481  0.07826083 0.05412586 0.00827258 0.00389265]]\n",
      "[[0.8467289  0.0865512  0.05324148 0.00915942 0.00431895]]\n"
     ]
    },
    {
     "name": "stderr",
     "output_type": "stream",
     "text": [
      "742it [00:55, 12.16it/s]"
     ]
    },
    {
     "name": "stdout",
     "output_type": "stream",
     "text": [
      "[[0.85076064 0.0846203  0.05227878 0.00800927 0.004331  ]]\n",
      "[[0.83337766 0.09095995 0.06229744 0.00901752 0.0043474 ]]\n"
     ]
    },
    {
     "name": "stderr",
     "output_type": "stream",
     "text": [
      "746it [00:55, 12.21it/s]"
     ]
    },
    {
     "name": "stdout",
     "output_type": "stream",
     "text": [
      "[[0.85094035 0.08363435 0.0513598  0.00941922 0.00464634]]\n",
      "[[0.847044   0.08493636 0.05477456 0.00898286 0.00426217]]\n",
      "[[0.8467921  0.0859597  0.0543087  0.00865665 0.00428278]]\n",
      "[[0.851597   0.08215602 0.05335675 0.00884747 0.00404273]]\n"
     ]
    },
    {
     "name": "stderr",
     "output_type": "stream",
     "text": [
      "752it [00:55, 16.07it/s]"
     ]
    },
    {
     "name": "stdout",
     "output_type": "stream",
     "text": [
      "[[0.85400933 0.08173613 0.05116913 0.00844771 0.00463778]]\n",
      "[[0.84749687 0.08198436 0.05650596 0.00930804 0.00470484]]\n",
      "[[0.8560493  0.0794266  0.05153674 0.00852507 0.00446227]]\n",
      "[[0.8545459  0.08275031 0.04963406 0.00833721 0.0047326 ]]\n",
      "[[0.8386705  0.0955219  0.05139073 0.00978583 0.00463103]]\n"
     ]
    },
    {
     "name": "stderr",
     "output_type": "stream",
     "text": [
      "754it [00:56, 13.93it/s]"
     ]
    },
    {
     "name": "stdout",
     "output_type": "stream",
     "text": [
      "[[0.85259956 0.08000637 0.05371018 0.00915956 0.00452433]]\n",
      "[[0.8467952  0.08768027 0.05281254 0.00845016 0.00426181]]\n"
     ]
    },
    {
     "name": "stderr",
     "output_type": "stream",
     "text": [
      "758it [00:56, 13.95it/s]"
     ]
    },
    {
     "name": "stdout",
     "output_type": "stream",
     "text": [
      "[[0.8534711  0.08164065 0.05188312 0.00886176 0.00414334]]\n",
      "[[0.85732985 0.07789486 0.05268087 0.00788287 0.00421159]]\n",
      "[[0.84344965 0.08861168 0.05468223 0.00917679 0.00407961]]\n",
      "[[0.85151196 0.08399533 0.05215466 0.00821387 0.00412415]]\n",
      "[[0.84167564 0.0955224  0.04950342 0.00875414 0.00454447]]\n"
     ]
    },
    {
     "name": "stderr",
     "output_type": "stream",
     "text": [
      "762it [00:56, 15.40it/s]"
     ]
    },
    {
     "name": "stdout",
     "output_type": "stream",
     "text": [
      "[[0.84900546 0.08432543 0.05349842 0.00890585 0.00426487]]\n",
      "[[0.82976013 0.09255946 0.06437286 0.00911409 0.00419353]]\n",
      "[[0.84440583 0.08814625 0.05371757 0.00924349 0.00448683]]\n",
      "[[0.8364272  0.0913666  0.05706581 0.01000412 0.0051363 ]]\n"
     ]
    },
    {
     "name": "stderr",
     "output_type": "stream",
     "text": [
      "766it [00:57, 12.29it/s]"
     ]
    },
    {
     "name": "stdout",
     "output_type": "stream",
     "text": [
      "[[0.8339991  0.0909001  0.05977739 0.01052454 0.0047989 ]]\n",
      "[[0.8416264  0.08306871 0.06100176 0.00966734 0.00463572]]\n",
      "[[0.8530664  0.07965169 0.05326339 0.00948057 0.00453794]]\n"
     ]
    },
    {
     "name": "stderr",
     "output_type": "stream",
     "text": [
      "769it [00:57, 14.63it/s]"
     ]
    },
    {
     "name": "stdout",
     "output_type": "stream",
     "text": [
      "[[0.8493423  0.08326937 0.0534454  0.00947126 0.0044717 ]]\n",
      "[[0.8501758  0.08439065 0.05236535 0.00868739 0.00438083]]\n",
      "[[0.849739   0.0848842  0.0516035  0.00919201 0.00458135]]\n"
     ]
    },
    {
     "name": "stderr",
     "output_type": "stream",
     "text": [
      "774it [00:57, 14.99it/s]"
     ]
    },
    {
     "name": "stdout",
     "output_type": "stream",
     "text": [
      "[[0.8246749  0.0975556  0.06342331 0.00959287 0.00475329]]\n",
      "[[0.85065496 0.08135094 0.05412033 0.0091972  0.00467669]]\n",
      "[[0.8473728  0.08295746 0.05593448 0.00874182 0.00499359]]\n",
      "[[0.83467776 0.09544144 0.0545471  0.01017426 0.00515942]]\n",
      "[[0.8459685  0.08530026 0.05479907 0.00921093 0.00472122]]\n"
     ]
    },
    {
     "name": "stderr",
     "output_type": "stream",
     "text": [
      "778it [00:57, 16.76it/s]"
     ]
    },
    {
     "name": "stdout",
     "output_type": "stream",
     "text": [
      "[[0.8326362  0.09190856 0.06032744 0.01005351 0.0050744 ]]\n",
      "[[0.8549532  0.07815626 0.05306302 0.0093603  0.00446708]]\n",
      "[[0.8453732  0.08645085 0.05259351 0.01049939 0.00508293]]\n",
      "[[0.8435202  0.08599008 0.05630084 0.00886296 0.00532578]]\n",
      "[[0.8504591  0.0836838  0.05295245 0.00872002 0.0041846 ]]\n"
     ]
    },
    {
     "name": "stderr",
     "output_type": "stream",
     "text": [
      "784it [00:58, 19.06it/s]"
     ]
    },
    {
     "name": "stdout",
     "output_type": "stream",
     "text": [
      "[[0.8483061  0.08336424 0.05484529 0.00912979 0.0043546 ]]\n",
      "[[0.8434901  0.0924089  0.05143983 0.00850607 0.00415508]]\n",
      "[[0.84633076 0.08484392 0.05468886 0.00940739 0.00472903]]\n",
      "[[0.84412205 0.08915688 0.05359115 0.00898776 0.00414211]]\n",
      "[[0.8264978  0.09964398 0.05986261 0.00902405 0.00497156]]\n"
     ]
    },
    {
     "name": "stderr",
     "output_type": "stream",
     "text": [
      "787it [00:58, 19.50it/s]"
     ]
    },
    {
     "name": "stdout",
     "output_type": "stream",
     "text": [
      "[[0.8458593  0.08530944 0.05499035 0.00932535 0.00451556]]\n",
      "[[0.85312057 0.08165572 0.05223722 0.00859279 0.00439372]]\n",
      "[[0.8491657  0.08373739 0.05375805 0.00879384 0.00454508]]\n",
      "[[0.8441652  0.08539563 0.05615748 0.00977583 0.00450591]]\n"
     ]
    },
    {
     "name": "stderr",
     "output_type": "stream",
     "text": [
      "789it [00:58, 15.93it/s]"
     ]
    },
    {
     "name": "stdout",
     "output_type": "stream",
     "text": [
      "[[0.83646435 0.08749905 0.06195222 0.00981417 0.00427031]]\n",
      "[[0.8437392  0.08879399 0.0543322  0.00882435 0.00431021]]\n"
     ]
    },
    {
     "name": "stderr",
     "output_type": "stream",
     "text": [
      "791it [00:58, 12.62it/s]"
     ]
    },
    {
     "name": "stdout",
     "output_type": "stream",
     "text": [
      "[[0.85981023 0.07554282 0.05099019 0.00905338 0.00460339]]\n",
      "[[0.84864134 0.08654606 0.05068116 0.00943569 0.00469583]]\n"
     ]
    },
    {
     "name": "stderr",
     "output_type": "stream",
     "text": [
      "793it [00:58, 11.68it/s]"
     ]
    },
    {
     "name": "stdout",
     "output_type": "stream",
     "text": [
      "[[0.8432066  0.08725661 0.0552251  0.00945087 0.00486088]]\n",
      "[[0.853771   0.08214151 0.0506449  0.00903862 0.00440405]]\n"
     ]
    },
    {
     "name": "stderr",
     "output_type": "stream",
     "text": [
      "798it [00:59, 12.97it/s]"
     ]
    },
    {
     "name": "stdout",
     "output_type": "stream",
     "text": [
      "[[0.8443497  0.08511819 0.05643195 0.00943381 0.0046663 ]]\n",
      "[[0.84425694 0.08856279 0.05335399 0.00957082 0.00425555]]\n",
      "[[0.8448935  0.0868309  0.05441069 0.00947007 0.00439487]]\n",
      "[[0.83758914 0.09075017 0.05720269 0.00960073 0.00485727]]\n",
      "[[0.8455454  0.0863126  0.05598871 0.00828065 0.00387258]]\n"
     ]
    },
    {
     "name": "stderr",
     "output_type": "stream",
     "text": [
      "803it [00:59, 15.90it/s]"
     ]
    },
    {
     "name": "stdout",
     "output_type": "stream",
     "text": [
      "[[0.8464892  0.08323001 0.05666712 0.00902046 0.00459314]]\n",
      "[[0.84430885 0.08670142 0.05548051 0.00877488 0.00473426]]\n",
      "[[0.8614806  0.07674716 0.04986601 0.00768836 0.00421784]]\n",
      "[[0.84562564 0.08754855 0.05346357 0.00912424 0.00423797]]\n",
      "[[0.8419803  0.08971243 0.05375325 0.00990676 0.00464737]]\n"
     ]
    },
    {
     "name": "stderr",
     "output_type": "stream",
     "text": [
      "807it [00:59, 15.22it/s]"
     ]
    },
    {
     "name": "stdout",
     "output_type": "stream",
     "text": [
      "[[0.82449794 0.09320786 0.0663866  0.01070819 0.00519929]]\n",
      "[[0.8439903  0.08821014 0.05563315 0.00832479 0.00384166]]\n",
      "[[0.85717714 0.07768515 0.0522087  0.00848151 0.00444745]]\n",
      "[[0.8549394  0.08033878 0.05296674 0.00792936 0.00382579]]\n"
     ]
    },
    {
     "name": "stderr",
     "output_type": "stream",
     "text": [
      "811it [01:00, 13.00it/s]"
     ]
    },
    {
     "name": "stdout",
     "output_type": "stream",
     "text": [
      "[[0.84446806 0.08717348 0.0549395  0.00916413 0.00425483]]\n",
      "[[0.85644734 0.07957314 0.05129973 0.0083701  0.00430961]]\n",
      "[[0.84504753 0.08785013 0.05258762 0.00958378 0.00493093]]\n",
      "[[0.8481841  0.08674154 0.05181739 0.00876428 0.00449264]]\n"
     ]
    },
    {
     "name": "stderr",
     "output_type": "stream",
     "text": [
      "814it [01:00, 15.01it/s]"
     ]
    },
    {
     "name": "stdout",
     "output_type": "stream",
     "text": [
      "[[0.8483113  0.08372909 0.05475799 0.00872195 0.00447968]]\n",
      "[[0.8621789  0.08136623 0.04477953 0.00766828 0.00400711]]\n",
      "[[0.8401731  0.08458394 0.06034289 0.00949298 0.00540707]]\n",
      "[[0.850686   0.08351608 0.05451087 0.00775551 0.00353163]]\n"
     ]
    },
    {
     "name": "stderr",
     "output_type": "stream",
     "text": [
      "819it [01:00, 17.15it/s]"
     ]
    },
    {
     "name": "stdout",
     "output_type": "stream",
     "text": [
      "[[0.8488996  0.08596713 0.05066091 0.00976292 0.00470937]]\n",
      "[[0.84920317 0.08244804 0.05440393 0.0089692  0.0049757 ]]\n",
      "[[0.8458704  0.08580752 0.054446   0.00909806 0.00477807]]\n",
      "[[0.83633924 0.08489158 0.06342839 0.01019785 0.00514301]]\n"
     ]
    },
    {
     "name": "stderr",
     "output_type": "stream",
     "text": [
      "823it [01:01,  9.96it/s]"
     ]
    },
    {
     "name": "stdout",
     "output_type": "stream",
     "text": [
      "[[0.84961885 0.08579688 0.05245058 0.00840246 0.00373125]]\n",
      "[[0.84148127 0.09143692 0.05365082 0.00898832 0.00444266]]\n",
      "[[0.85325307 0.08173207 0.05212362 0.00874657 0.00414466]]\n"
     ]
    },
    {
     "name": "stderr",
     "output_type": "stream",
     "text": [
      "825it [01:01, 10.06it/s]"
     ]
    },
    {
     "name": "stdout",
     "output_type": "stream",
     "text": [
      "[[0.84328127 0.08401827 0.0584391  0.00975255 0.00450887]]\n",
      "[[0.85392255 0.08053222 0.05256288 0.00879075 0.0041916 ]]\n",
      "[[0.83826226 0.08923485 0.05980415 0.00885281 0.00384583]]\n"
     ]
    },
    {
     "name": "stderr",
     "output_type": "stream",
     "text": [
      "829it [01:01, 11.63it/s]"
     ]
    },
    {
     "name": "stdout",
     "output_type": "stream",
     "text": [
      "[[0.84677297 0.08764098 0.05227907 0.00891302 0.00439398]]\n",
      "[[0.8461249  0.08623615 0.05396961 0.00909548 0.00457389]]\n",
      "[[0.84541017 0.08503247 0.05559293 0.00935365 0.00461078]]\n",
      "[[0.85820025 0.08071021 0.04912748 0.0081303  0.00383172]]\n",
      "[[0.84439766 0.08946498 0.05236835 0.00916555 0.00460349]]\n"
     ]
    },
    {
     "name": "stderr",
     "output_type": "stream",
     "text": [
      "835it [01:02, 13.90it/s]"
     ]
    },
    {
     "name": "stdout",
     "output_type": "stream",
     "text": [
      "[[0.8459088  0.08342022 0.05747242 0.00927341 0.00392515]]\n",
      "[[0.8651125  0.07410821 0.04911166 0.0080138  0.00365383]]\n",
      "[[0.8531486  0.0792629  0.05433774 0.00891767 0.00433305]]\n",
      "[[0.850847   0.08168402 0.05491637 0.0084167  0.0041359 ]]\n"
     ]
    },
    {
     "name": "stderr",
     "output_type": "stream",
     "text": [
      "837it [01:02, 10.71it/s]"
     ]
    },
    {
     "name": "stdout",
     "output_type": "stream",
     "text": [
      "[[0.8484317  0.08530205 0.05213288 0.00942324 0.00471016]]\n",
      "[[0.84023744 0.09053356 0.05470418 0.00986635 0.00465849]]\n",
      "[[0.84945995 0.08763031 0.05042417 0.00830158 0.00418401]]\n"
     ]
    },
    {
     "name": "stderr",
     "output_type": "stream",
     "text": [
      "839it [01:02,  9.45it/s]"
     ]
    },
    {
     "name": "stdout",
     "output_type": "stream",
     "text": [
      "[[0.8434171  0.08154318 0.06039887 0.01004928 0.00459155]]\n",
      "[[0.8463035  0.08702887 0.05263221 0.00968284 0.00435261]]\n"
     ]
    },
    {
     "name": "stderr",
     "output_type": "stream",
     "text": [
      "843it [01:03,  9.63it/s]"
     ]
    },
    {
     "name": "stdout",
     "output_type": "stream",
     "text": [
      "[[0.8410109  0.08491922 0.06025221 0.0092606  0.00455705]]\n",
      "[[0.8491931  0.08360105 0.05364752 0.00897925 0.004579  ]]\n",
      "[[0.84366643 0.0864234  0.05643485 0.00924078 0.00423462]]\n"
     ]
    },
    {
     "name": "stderr",
     "output_type": "stream",
     "text": [
      "845it [01:03, 10.13it/s]"
     ]
    },
    {
     "name": "stdout",
     "output_type": "stream",
     "text": [
      "[[0.82055324 0.10248541 0.06237804 0.00959445 0.00498882]]\n",
      "[[0.85538167 0.0814288  0.05006771 0.00859742 0.00452435]]\n",
      "[[0.8363855  0.08800151 0.06177973 0.00925406 0.00457917]]\n"
     ]
    },
    {
     "name": "stderr",
     "output_type": "stream",
     "text": [
      "849it [01:03, 11.21it/s]"
     ]
    },
    {
     "name": "stdout",
     "output_type": "stream",
     "text": [
      "[[0.84517014 0.08590049 0.05542608 0.00905788 0.00444535]]\n",
      "[[0.8486531  0.08189543 0.05724705 0.0084918  0.00371268]]\n",
      "[[0.85226893 0.08112665 0.05385635 0.00845815 0.00429003]]\n"
     ]
    },
    {
     "name": "stderr",
     "output_type": "stream",
     "text": [
      "851it [01:03,  9.49it/s]"
     ]
    },
    {
     "name": "stdout",
     "output_type": "stream",
     "text": [
      "[[0.84827536 0.08560397 0.05191017 0.00946646 0.00474401]]\n",
      "[[0.8321883  0.09575958 0.05750212 0.00984289 0.0047071 ]]\n",
      "[[0.8504637  0.08458462 0.0522862  0.00834246 0.00432311]]\n"
     ]
    },
    {
     "name": "stderr",
     "output_type": "stream",
     "text": [
      "853it [01:04,  9.31it/s]"
     ]
    },
    {
     "name": "stdout",
     "output_type": "stream",
     "text": [
      "[[0.8405931  0.07505766 0.07074859 0.00973975 0.00386082]]\n",
      "[[0.85896134 0.07783668 0.05004523 0.00859951 0.00455721]]\n",
      "[[0.85497016 0.08110574 0.05175345 0.00808055 0.00409015]]\n"
     ]
    },
    {
     "name": "stderr",
     "output_type": "stream",
     "text": [
      "858it [01:04, 10.43it/s]"
     ]
    },
    {
     "name": "stdout",
     "output_type": "stream",
     "text": [
      "[[0.83540684 0.08803935 0.06197007 0.00996935 0.00461453]]\n",
      "[[0.85071105 0.08374287 0.05367031 0.00810615 0.00376961]]\n",
      "[[0.8535896  0.08401273 0.04954557 0.00867229 0.00417981]]\n",
      "[[0.85004044 0.08364867 0.05329156 0.00848272 0.00453665]]\n"
     ]
    },
    {
     "name": "stderr",
     "output_type": "stream",
     "text": [
      "861it [01:05,  7.96it/s]"
     ]
    },
    {
     "name": "stdout",
     "output_type": "stream",
     "text": [
      "[[0.83535093 0.09099063 0.05877627 0.00990525 0.00497697]]\n",
      "[[0.83783656 0.08470924 0.06259512 0.00989601 0.00496301]]\n"
     ]
    },
    {
     "name": "stderr",
     "output_type": "stream",
     "text": [
      "863it [01:05,  9.49it/s]"
     ]
    },
    {
     "name": "stdout",
     "output_type": "stream",
     "text": [
      "[[0.8489375  0.07988042 0.05931082 0.00776689 0.00410437]]\n",
      "[[0.8518557  0.08579657 0.04944601 0.00870567 0.00419599]]\n",
      "[[0.8510463  0.08401164 0.05280501 0.00827503 0.00386195]]\n"
     ]
    },
    {
     "name": "stderr",
     "output_type": "stream",
     "text": [
      "867it [01:05, 10.75it/s]"
     ]
    },
    {
     "name": "stdout",
     "output_type": "stream",
     "text": [
      "[[0.8437997  0.08196115 0.06167192 0.00873986 0.00382739]]\n",
      "[[0.8335288  0.09020357 0.06230909 0.00946568 0.00449286]]\n",
      "[[0.83978033 0.0900805  0.0566563  0.00886267 0.00462014]]\n",
      "[[0.84502006 0.08902465 0.05103153 0.00981142 0.00511222]]\n"
     ]
    },
    {
     "name": "stderr",
     "output_type": "stream",
     "text": [
      "869it [01:05, 11.52it/s]"
     ]
    },
    {
     "name": "stdout",
     "output_type": "stream",
     "text": [
      "[[0.8523293  0.08492534 0.05086814 0.00767772 0.00419947]]\n"
     ]
    },
    {
     "name": "stderr",
     "output_type": "stream",
     "text": [
      "873it [01:06, 10.26it/s]"
     ]
    },
    {
     "name": "stdout",
     "output_type": "stream",
     "text": [
      "[[0.84802175 0.08540857 0.05225651 0.00953576 0.00477753]]\n",
      "[[0.86189014 0.07621068 0.04913495 0.00843518 0.00432898]]\n",
      "[[0.8486701  0.08322176 0.0546192  0.00920234 0.00428662]]\n",
      "[[0.8520991  0.08424164 0.05079399 0.00880833 0.00405701]]\n"
     ]
    },
    {
     "name": "stderr",
     "output_type": "stream",
     "text": [
      "875it [01:06, 10.30it/s]"
     ]
    },
    {
     "name": "stdout",
     "output_type": "stream",
     "text": [
      "[[0.8378695  0.08723798 0.05982703 0.0109065  0.00415895]]\n",
      "[[0.8507114  0.08367532 0.05311212 0.0083381  0.00416312]]\n",
      "[[0.84518975 0.08702991 0.05384748 0.00948283 0.00445002]]\n"
     ]
    },
    {
     "name": "stderr",
     "output_type": "stream",
     "text": [
      "880it [01:06, 11.75it/s]"
     ]
    },
    {
     "name": "stdout",
     "output_type": "stream",
     "text": [
      "[[0.85674536 0.07913446 0.05080841 0.00882831 0.00448346]]\n",
      "[[0.84626085 0.08596344 0.05576523 0.00824547 0.003765  ]]\n",
      "[[0.83644134 0.08077829 0.06796838 0.01019171 0.00462025]]\n",
      "[[0.8358267  0.09309024 0.05665128 0.00987686 0.00455499]]\n"
     ]
    },
    {
     "name": "stderr",
     "output_type": "stream",
     "text": [
      "882it [01:06, 11.43it/s]"
     ]
    },
    {
     "name": "stdout",
     "output_type": "stream",
     "text": [
      "[[0.84479564 0.08187716 0.05935315 0.00943175 0.00454222]]\n",
      "[[0.83877385 0.09054753 0.05621688 0.01011296 0.00434884]]\n",
      "[[0.81972635 0.09874    0.06364212 0.01262425 0.00526731]]\n"
     ]
    },
    {
     "name": "stderr",
     "output_type": "stream",
     "text": [
      "886it [01:07, 12.32it/s]"
     ]
    },
    {
     "name": "stdout",
     "output_type": "stream",
     "text": [
      "[[0.8477336  0.08613828 0.05302538 0.00876336 0.00433946]]\n",
      "[[0.8394491  0.09013183 0.05595521 0.00982692 0.00463697]]\n",
      "[[0.8470582  0.08669064 0.05200222 0.00915372 0.00509525]]\n",
      "[[0.8470642  0.08889199 0.05077154 0.00903407 0.00423827]]\n"
     ]
    },
    {
     "name": "stderr",
     "output_type": "stream",
     "text": [
      "890it [01:07, 14.12it/s]"
     ]
    },
    {
     "name": "stdout",
     "output_type": "stream",
     "text": [
      "[[0.84723735 0.08542989 0.05343599 0.00929831 0.00459838]]\n",
      "[[0.84708923 0.08699796 0.05210812 0.00919303 0.00461163]]\n",
      "[[0.85048413 0.08042751 0.05611747 0.00853656 0.00443444]]\n"
     ]
    },
    {
     "name": "stderr",
     "output_type": "stream",
     "text": [
      "892it [01:07, 10.12it/s]"
     ]
    },
    {
     "name": "stdout",
     "output_type": "stream",
     "text": [
      "[[0.8430628  0.08292165 0.05887498 0.01024386 0.00489667]]\n",
      "[[0.8521656  0.08241919 0.05185731 0.00896728 0.00459072]]\n"
     ]
    },
    {
     "name": "stderr",
     "output_type": "stream",
     "text": [
      "894it [01:08, 11.08it/s]"
     ]
    },
    {
     "name": "stdout",
     "output_type": "stream",
     "text": [
      "[[0.8474083  0.08396774 0.05472542 0.00911952 0.004779  ]]\n",
      "[[0.8418112  0.08955365 0.05492659 0.00900111 0.00470754]]\n",
      "[[0.8479383  0.08445443 0.05445849 0.00869557 0.00445315]]\n",
      "[[0.83866554 0.09116017 0.05600912 0.00947395 0.00469123]]\n"
     ]
    },
    {
     "name": "stderr",
     "output_type": "stream",
     "text": [
      "900it [01:08, 14.37it/s]"
     ]
    },
    {
     "name": "stdout",
     "output_type": "stream",
     "text": [
      "[[0.8360415  0.0814561  0.06791743 0.01005036 0.00453464]]\n",
      "[[0.84462196 0.08768694 0.05338376 0.00952207 0.00478524]]\n",
      "[[0.8531113  0.08041717 0.05414783 0.00799687 0.00432678]]\n",
      "[[0.84941334 0.08432624 0.05350971 0.00842743 0.00432331]]\n",
      "[[0.8509655  0.08637581 0.05004821 0.00847427 0.00413624]]\n"
     ]
    },
    {
     "name": "stderr",
     "output_type": "stream",
     "text": [
      "902it [01:08, 15.29it/s]"
     ]
    },
    {
     "name": "stdout",
     "output_type": "stream",
     "text": [
      "[[0.8431624  0.0895386  0.05368603 0.00908316 0.00452971]]\n",
      "[[0.8505143  0.08406379 0.05141354 0.00921616 0.00479215]]\n"
     ]
    },
    {
     "name": "stderr",
     "output_type": "stream",
     "text": [
      "907it [01:08, 14.53it/s]"
     ]
    },
    {
     "name": "stdout",
     "output_type": "stream",
     "text": [
      "[[0.85057425 0.08433101 0.05243965 0.00849027 0.00416489]]\n",
      "[[0.85029703 0.08459371 0.05176926 0.00878017 0.00455983]]\n",
      "[[0.8374193  0.09505743 0.05276636 0.01001491 0.00474206]]\n",
      "[[0.8555676  0.07933179 0.05113419 0.0091835  0.00478294]]\n"
     ]
    },
    {
     "name": "stderr",
     "output_type": "stream",
     "text": [
      "909it [01:09, 12.64it/s]"
     ]
    },
    {
     "name": "stdout",
     "output_type": "stream",
     "text": [
      "[[0.8416822  0.08421037 0.06031614 0.0093889  0.00440231]]\n",
      "[[0.8381493  0.08560114 0.06437089 0.00792567 0.00395306]]\n"
     ]
    },
    {
     "name": "stderr",
     "output_type": "stream",
     "text": [
      "914it [01:09, 13.50it/s]"
     ]
    },
    {
     "name": "stdout",
     "output_type": "stream",
     "text": [
      "[[0.83909905 0.08477449 0.06202158 0.00983194 0.00427303]]\n",
      "[[0.84842724 0.08343701 0.05413833 0.00950876 0.00448872]]\n",
      "[[0.8503932  0.08427122 0.05258835 0.0086924  0.00405493]]\n",
      "[[0.8570054  0.07712398 0.05367728 0.00813478 0.00405857]]\n",
      "[[0.85265356 0.08196703 0.05329639 0.00801453 0.00406847]]\n"
     ]
    },
    {
     "name": "stderr",
     "output_type": "stream",
     "text": [
      "916it [01:09, 12.53it/s]"
     ]
    },
    {
     "name": "stdout",
     "output_type": "stream",
     "text": [
      "[[0.8462808  0.08020317 0.05975636 0.00950802 0.00425159]]\n",
      "[[0.85283786 0.08474867 0.04886976 0.00874235 0.00480135]]\n",
      "[[0.8418247  0.0849347  0.05850631 0.00998291 0.00475132]]\n"
     ]
    },
    {
     "name": "stderr",
     "output_type": "stream",
     "text": [
      "920it [01:09, 13.11it/s]"
     ]
    },
    {
     "name": "stdout",
     "output_type": "stream",
     "text": [
      "[[0.8467125  0.08863182 0.04993735 0.0101113  0.00460705]]\n",
      "[[0.84951746 0.08191809 0.05586944 0.00868732 0.0040077 ]]\n",
      "[[0.84037375 0.08817007 0.05647088 0.01008306 0.00490233]]\n",
      "[[0.8512627  0.08400118 0.05232732 0.00817923 0.00422965]]\n"
     ]
    },
    {
     "name": "stderr",
     "output_type": "stream",
     "text": [
      "924it [01:10, 12.96it/s]"
     ]
    },
    {
     "name": "stdout",
     "output_type": "stream",
     "text": [
      "[[0.8365383  0.08684907 0.06176044 0.01023015 0.00462195]]\n",
      "[[0.8499607  0.08288664 0.05336498 0.00895506 0.00483261]]\n",
      "[[0.84740144 0.08670662 0.05259572 0.00901492 0.0042814 ]]\n",
      "[[0.8502798  0.08535727 0.05066054 0.0095205  0.00418186]]\n"
     ]
    },
    {
     "name": "stderr",
     "output_type": "stream",
     "text": [
      "928it [01:10, 15.59it/s]"
     ]
    },
    {
     "name": "stdout",
     "output_type": "stream",
     "text": [
      "[[0.83923787 0.08942501 0.05667236 0.00981088 0.00485384]]\n",
      "[[0.8427575  0.0880016  0.05530229 0.00932346 0.0046151 ]]\n",
      "[[0.85749185 0.07888834 0.05112815 0.00824787 0.00424382]]\n",
      "[[0.8519843  0.08128788 0.05414312 0.0084571  0.00412752]]\n",
      "[[0.85520107 0.07864068 0.05408932 0.00805328 0.00401566]]\n"
     ]
    },
    {
     "name": "stderr",
     "output_type": "stream",
     "text": [
      "933it [01:10, 17.41it/s]"
     ]
    },
    {
     "name": "stdout",
     "output_type": "stream",
     "text": [
      "[[0.84107554 0.09237747 0.0526121  0.00948319 0.00445171]]\n",
      "[[0.8537298  0.08148161 0.05237994 0.00829736 0.00411132]]\n",
      "[[0.8430285  0.08761299 0.05523933 0.00959176 0.00452738]]\n",
      "[[0.8387931  0.08923836 0.05841659 0.00936158 0.00419037]]\n",
      "[[0.85328513 0.08243766 0.05211617 0.00830941 0.00385166]]\n"
     ]
    },
    {
     "name": "stderr",
     "output_type": "stream",
     "text": [
      "938it [01:10, 18.95it/s]"
     ]
    },
    {
     "name": "stdout",
     "output_type": "stream",
     "text": [
      "[[0.84898347 0.08372634 0.05395319 0.00882605 0.004511  ]]\n",
      "[[0.84597963 0.08708874 0.0533517  0.00905976 0.00452017]]\n",
      "[[0.8548749  0.07962626 0.05298319 0.00804269 0.004473  ]]\n",
      "[[0.8445302  0.08702651 0.05498683 0.00914315 0.00431325]]\n"
     ]
    },
    {
     "name": "stderr",
     "output_type": "stream",
     "text": [
      "942it [01:11, 14.25it/s]"
     ]
    },
    {
     "name": "stdout",
     "output_type": "stream",
     "text": [
      "[[0.82777923 0.09421892 0.06439586 0.00927126 0.00433477]]\n",
      "[[0.85502696 0.07986777 0.05121912 0.00943131 0.00445479]]\n",
      "[[0.8476682  0.08447379 0.05422577 0.0090866  0.00454569]]\n"
     ]
    },
    {
     "name": "stderr",
     "output_type": "stream",
     "text": [
      "944it [01:11, 12.89it/s]"
     ]
    },
    {
     "name": "stdout",
     "output_type": "stream",
     "text": [
      "[[0.84598714 0.08626764 0.05418422 0.00882098 0.00473991]]\n",
      "[[0.8510975  0.08221912 0.05300093 0.00929235 0.00439004]]\n",
      "[[0.84266186 0.08668248 0.05638886 0.00939304 0.00487364]]\n"
     ]
    },
    {
     "name": "stderr",
     "output_type": "stream",
     "text": [
      "948it [01:11, 11.50it/s]"
     ]
    },
    {
     "name": "stdout",
     "output_type": "stream",
     "text": [
      "[[0.8474655  0.08674298 0.05289129 0.00854232 0.00435795]]\n",
      "[[0.8535064  0.08247256 0.05053285 0.00883632 0.0046519 ]]\n",
      "[[0.85338116 0.0825618  0.05014222 0.00899627 0.00491855]]\n"
     ]
    },
    {
     "name": "stderr",
     "output_type": "stream",
     "text": [
      "950it [01:12,  8.24it/s]"
     ]
    },
    {
     "name": "stdout",
     "output_type": "stream",
     "text": [
      "[[0.84857607 0.08553053 0.05165673 0.00949932 0.00473729]]\n",
      "[[0.8452803  0.08734849 0.05370467 0.0089312  0.00473533]]\n"
     ]
    },
    {
     "name": "stderr",
     "output_type": "stream",
     "text": [
      "953it [01:12,  9.00it/s]"
     ]
    },
    {
     "name": "stdout",
     "output_type": "stream",
     "text": [
      "[[0.84160376 0.08932711 0.05584366 0.00862668 0.00459878]]\n",
      "[[0.8478224  0.08546802 0.05278103 0.00912173 0.00480681]]\n",
      "[[0.85056156 0.0873862  0.04929543 0.00868567 0.00407111]]\n"
     ]
    },
    {
     "name": "stderr",
     "output_type": "stream",
     "text": [
      "954it [01:12,  8.62it/s]"
     ]
    },
    {
     "name": "stdout",
     "output_type": "stream",
     "text": [
      "[[0.82660234 0.09225076 0.06694515 0.00968171 0.00452006]]\n",
      "[[0.85172915 0.0826624  0.05415758 0.00771888 0.00373195]]\n"
     ]
    },
    {
     "name": "stderr",
     "output_type": "stream",
     "text": [
      "956it [01:13,  7.47it/s]"
     ]
    },
    {
     "name": "stdout",
     "output_type": "stream",
     "text": [
      "[[0.846755   0.08403081 0.05507609 0.00969971 0.00443839]]\n"
     ]
    },
    {
     "name": "stderr",
     "output_type": "stream",
     "text": [
      "958it [01:13,  6.72it/s]"
     ]
    },
    {
     "name": "stdout",
     "output_type": "stream",
     "text": [
      "[[0.83915436 0.08428356 0.06101839 0.01053354 0.00501012]]\n",
      "[[0.8501812  0.08241732 0.05484082 0.00841019 0.00415051]]\n",
      "[[0.85712934 0.08111295 0.0490031  0.00849905 0.0042556 ]]\n"
     ]
    },
    {
     "name": "stderr",
     "output_type": "stream",
     "text": [
      "962it [01:14,  6.65it/s]"
     ]
    },
    {
     "name": "stdout",
     "output_type": "stream",
     "text": [
      "[[0.849235   0.08469759 0.05177741 0.00951397 0.004776  ]]\n",
      "[[0.85205877 0.08305031 0.05152593 0.00904896 0.00431608]]\n",
      "[[0.8473803  0.08634253 0.05339266 0.00851128 0.00437326]]\n"
     ]
    },
    {
     "name": "stderr",
     "output_type": "stream",
     "text": [
      "964it [01:14,  7.97it/s]"
     ]
    },
    {
     "name": "stdout",
     "output_type": "stream",
     "text": [
      "[[0.8522364  0.07933719 0.05471335 0.00891444 0.00479862]]\n",
      "[[0.8535199  0.07987896 0.05437572 0.00825543 0.00397002]]\n",
      "[[0.8468427  0.08829425 0.05137041 0.00909366 0.00439894]]\n"
     ]
    },
    {
     "name": "stderr",
     "output_type": "stream",
     "text": [
      "969it [01:14,  9.90it/s]"
     ]
    },
    {
     "name": "stdout",
     "output_type": "stream",
     "text": [
      "[[0.84391    0.08776277 0.0542766  0.00933791 0.0047127 ]]\n",
      "[[0.8504429  0.08444953 0.05232298 0.00867593 0.00410867]]\n",
      "[[0.854021   0.08345336 0.05023392 0.00802322 0.0042685 ]]\n",
      "[[0.8317415  0.09852619 0.05545468 0.00951183 0.00476582]]\n",
      "[[0.84518516 0.0882641  0.05402848 0.00811577 0.0044066 ]]\n"
     ]
    },
    {
     "name": "stderr",
     "output_type": "stream",
     "text": [
      "972it [01:14, 12.25it/s]"
     ]
    },
    {
     "name": "stdout",
     "output_type": "stream",
     "text": [
      "[[0.84793097 0.08580238 0.05283657 0.00908974 0.00434029]]\n",
      "[[0.858266   0.07547024 0.05441483 0.00763552 0.00421341]]\n"
     ]
    },
    {
     "name": "stderr",
     "output_type": "stream",
     "text": [
      "974it [01:15, 10.81it/s]"
     ]
    },
    {
     "name": "stdout",
     "output_type": "stream",
     "text": [
      "[[0.84061843 0.09099539 0.05352895 0.00987176 0.0049855 ]]\n",
      "[[0.83721507 0.09087826 0.05709542 0.00995908 0.00485221]]\n",
      "[[0.8533402  0.08069706 0.05210562 0.00904575 0.00481139]]\n",
      "[[0.83453953 0.09361064 0.05727727 0.00991555 0.00465695]]\n"
     ]
    },
    {
     "name": "stderr",
     "output_type": "stream",
     "text": [
      "977it [01:15, 11.37it/s]"
     ]
    },
    {
     "name": "stdout",
     "output_type": "stream",
     "text": [
      "[[0.8351383  0.08669215 0.06301229 0.01032373 0.00483349]]\n",
      "[[0.8432294  0.08434525 0.05768461 0.01009362 0.00464703]]\n"
     ]
    },
    {
     "name": "stderr",
     "output_type": "stream",
     "text": [
      "979it [01:15,  9.32it/s]"
     ]
    },
    {
     "name": "stdout",
     "output_type": "stream",
     "text": [
      "[[0.8538323  0.07919173 0.05340419 0.00905298 0.00451882]]\n",
      "[[0.84463495 0.08091495 0.06006639 0.00990576 0.00447793]]\n"
     ]
    },
    {
     "name": "stderr",
     "output_type": "stream",
     "text": [
      "983it [01:16, 10.09it/s]"
     ]
    },
    {
     "name": "stdout",
     "output_type": "stream",
     "text": [
      "[[0.8397597  0.08741678 0.05773853 0.01015915 0.00492589]]\n",
      "[[0.8339966  0.0925527  0.05896582 0.00989132 0.0045936 ]]\n",
      "[[0.8541973  0.08190995 0.05215076 0.00783577 0.00390625]]\n",
      "[[0.85189617 0.08330451 0.05102727 0.00919732 0.00457473]]\n"
     ]
    },
    {
     "name": "stderr",
     "output_type": "stream",
     "text": [
      "988it [01:16, 13.22it/s]"
     ]
    },
    {
     "name": "stdout",
     "output_type": "stream",
     "text": [
      "[[0.8394575  0.08887607 0.05848309 0.00894366 0.00423974]]\n",
      "[[0.8475158  0.08570278 0.05243152 0.00955068 0.00479924]]\n",
      "[[0.8355067  0.09256183 0.05725444 0.00976713 0.00490996]]\n",
      "[[0.8439246  0.08428062 0.05914463 0.0086048  0.00404539]]\n"
     ]
    },
    {
     "name": "stderr",
     "output_type": "stream",
     "text": [
      "990it [01:16, 11.40it/s]"
     ]
    },
    {
     "name": "stdout",
     "output_type": "stream",
     "text": [
      "[[0.8541882  0.08218444 0.05049895 0.00876792 0.00436059]]\n",
      "[[0.84845215 0.08437116 0.05285827 0.0094172  0.0049012 ]]\n",
      "[[0.8488563  0.08587091 0.05190095 0.0090331  0.00433874]]\n"
     ]
    },
    {
     "name": "stderr",
     "output_type": "stream",
     "text": [
      "994it [01:16, 12.23it/s]"
     ]
    },
    {
     "name": "stdout",
     "output_type": "stream",
     "text": [
      "[[0.83101016 0.09456161 0.05959415 0.0097545  0.00507956]]\n",
      "[[0.83719295 0.09187105 0.05675671 0.00930567 0.00487362]]\n",
      "[[0.8459929  0.08673987 0.05283003 0.01007359 0.00436363]]\n"
     ]
    },
    {
     "name": "stderr",
     "output_type": "stream",
     "text": [
      "996it [01:17, 12.67it/s]"
     ]
    },
    {
     "name": "stdout",
     "output_type": "stream",
     "text": [
      "[[0.8510041  0.08360657 0.05261449 0.00866956 0.00410518]]\n",
      "[[0.8452921  0.08698801 0.05472055 0.00861397 0.00438534]]\n"
     ]
    },
    {
     "name": "stderr",
     "output_type": "stream",
     "text": [
      "1000it [01:17, 12.64it/s]"
     ]
    },
    {
     "name": "stdout",
     "output_type": "stream",
     "text": [
      "[[0.84436256 0.08454596 0.05649634 0.00971883 0.00487625]]\n",
      "[[0.8490865  0.08340941 0.05362453 0.00900917 0.00487034]]\n",
      "[[0.82696736 0.09548666 0.06374923 0.00928987 0.0045068 ]]\n",
      "[[0.8549651  0.08225396 0.04954339 0.00895618 0.00428133]]\n"
     ]
    },
    {
     "name": "stderr",
     "output_type": "stream",
     "text": [
      "1002it [01:17, 11.14it/s]"
     ]
    },
    {
     "name": "stdout",
     "output_type": "stream",
     "text": [
      "[[0.83047324 0.09406342 0.06084787 0.00974454 0.00487095]]\n",
      "[[0.8303973  0.08899292 0.06630483 0.00922128 0.00508371]]\n",
      "[[0.84547234 0.08687257 0.05449691 0.00911473 0.00404351]]\n",
      "[[0.8536612  0.08419951 0.05009636 0.00813537 0.00390767]]\n"
     ]
    },
    {
     "name": "stderr",
     "output_type": "stream",
     "text": [
      "1005it [01:17, 13.49it/s]"
     ]
    },
    {
     "name": "stdout",
     "output_type": "stream",
     "text": [
      "[[0.8482276  0.0841158  0.05404617 0.0090657  0.00454481]]\n",
      "[[0.8490103  0.08487415 0.05264756 0.0086798  0.00478823]]\n",
      "[[0.83834356 0.09190384 0.05513604 0.00934633 0.00527039]]\n"
     ]
    },
    {
     "name": "stderr",
     "output_type": "stream",
     "text": [
      "1008it [01:18, 13.18it/s]"
     ]
    },
    {
     "name": "stdout",
     "output_type": "stream",
     "text": [
      "[[0.83953494 0.08540367 0.06035832 0.00995665 0.00474645]]\n",
      "[[0.8456011  0.08607114 0.05508864 0.0086225  0.00461665]]\n"
     ]
    },
    {
     "name": "stderr",
     "output_type": "stream",
     "text": [
      "1013it [01:18, 13.48it/s]"
     ]
    },
    {
     "name": "stdout",
     "output_type": "stream",
     "text": [
      "[[0.8596573  0.07840712 0.04983539 0.00789436 0.00420586]]\n",
      "[[0.8488442  0.08260246 0.05502684 0.00875544 0.00477116]]\n",
      "[[0.8439785  0.08821623 0.05438593 0.0090865  0.00433291]]\n",
      "[[0.8476691  0.08355644 0.05598438 0.00846788 0.00432221]]\n",
      "[[0.85057646 0.08342697 0.0529039  0.00879557 0.00429705]]\n"
     ]
    },
    {
     "name": "stderr",
     "output_type": "stream",
     "text": [
      "1016it [01:18, 12.19it/s]"
     ]
    },
    {
     "name": "stdout",
     "output_type": "stream",
     "text": [
      "[[0.8349875  0.099217   0.05137348 0.01033677 0.00408521]]\n",
      "[[0.8516118  0.08257061 0.05183048 0.00933237 0.00465468]]\n"
     ]
    },
    {
     "name": "stderr",
     "output_type": "stream",
     "text": [
      "1021it [01:18, 14.93it/s]"
     ]
    },
    {
     "name": "stdout",
     "output_type": "stream",
     "text": [
      "[[0.83103067 0.09225147 0.06285983 0.00939596 0.00446205]]\n",
      "[[0.83885694 0.09672868 0.05283737 0.00780378 0.00377328]]\n",
      "[[0.8495502  0.08540843 0.05145532 0.00897419 0.0046118 ]]\n",
      "[[0.84239125 0.08635242 0.05752262 0.00947738 0.00425637]]\n",
      "[[0.85650015 0.08142886 0.04983613 0.00811628 0.00411854]]\n"
     ]
    },
    {
     "name": "stderr",
     "output_type": "stream",
     "text": [
      "1024it [01:19, 16.39it/s]"
     ]
    },
    {
     "name": "stdout",
     "output_type": "stream",
     "text": [
      "[[0.8430353  0.08758441 0.05509601 0.0096736  0.00461076]]\n",
      "[[0.85473216 0.08166516 0.05122925 0.00827439 0.00409907]]\n",
      "[[0.84730965 0.08449329 0.05508617 0.00844999 0.0046609 ]]\n",
      "[[0.84859127 0.08331919 0.05518058 0.00866484 0.00424415]]\n",
      "[[0.854496   0.08059103 0.05240261 0.00806602 0.00444436]]\n"
     ]
    },
    {
     "name": "stderr",
     "output_type": "stream",
     "text": [
      "1027it [01:19, 15.56it/s]"
     ]
    },
    {
     "name": "stdout",
     "output_type": "stream",
     "text": [
      "[[0.82472694 0.09630653 0.06321486 0.01073606 0.00501559]]\n",
      "[[0.8500106  0.08404931 0.05169761 0.00945688 0.00478569]]\n"
     ]
    },
    {
     "name": "stderr",
     "output_type": "stream",
     "text": [
      "1032it [01:19, 14.64it/s]"
     ]
    },
    {
     "name": "stdout",
     "output_type": "stream",
     "text": [
      "[[0.85637    0.07917035 0.05165854 0.00843647 0.00436478]]\n",
      "[[0.8499352  0.0844537  0.05364471 0.0076545  0.00431191]]\n",
      "[[0.84750247 0.08394594 0.05501115 0.00908329 0.00445719]]\n",
      "[[0.8478792  0.08622126 0.05236684 0.00900228 0.00453039]]\n"
     ]
    },
    {
     "name": "stderr",
     "output_type": "stream",
     "text": [
      "1036it [01:20, 14.82it/s]"
     ]
    },
    {
     "name": "stdout",
     "output_type": "stream",
     "text": [
      "[[0.8271767  0.08948362 0.06772222 0.01074658 0.00487092]]\n",
      "[[0.84382206 0.0853347  0.05689545 0.00912739 0.0048204 ]]\n",
      "[[0.85338    0.08128089 0.05252202 0.00874985 0.0040672 ]]\n",
      "[[0.84999305 0.08568769 0.05156837 0.00840051 0.00435036]]\n"
     ]
    },
    {
     "name": "stderr",
     "output_type": "stream",
     "text": [
      "1038it [01:20, 13.66it/s]"
     ]
    },
    {
     "name": "stdout",
     "output_type": "stream",
     "text": [
      "[[0.85044056 0.08710911 0.05057079 0.007298   0.00458161]]\n",
      "[[0.83335334 0.08995222 0.06121278 0.01027334 0.00520824]]\n",
      "[[0.84757406 0.08803857 0.05117118 0.008673   0.00454322]]\n"
     ]
    },
    {
     "name": "stderr",
     "output_type": "stream",
     "text": [
      "1043it [01:20, 12.93it/s]"
     ]
    },
    {
     "name": "stdout",
     "output_type": "stream",
     "text": [
      "[[0.84135854 0.0907911  0.0542457  0.00942752 0.00417712]]\n",
      "[[0.8486632  0.08523074 0.05262754 0.00897233 0.00450614]]\n",
      "[[0.83934534 0.08770739 0.05720222 0.0097101  0.00603484]]\n",
      "[[0.8444896  0.088802   0.0529557  0.00897954 0.00477321]]\n"
     ]
    },
    {
     "name": "stderr",
     "output_type": "stream",
     "text": [
      "1045it [01:20, 13.53it/s]"
     ]
    },
    {
     "name": "stdout",
     "output_type": "stream",
     "text": [
      "[[0.8490803  0.08488531 0.05153632 0.00991546 0.00458268]]\n",
      "[[0.84734416 0.08723957 0.05140983 0.00953048 0.00447595]]\n",
      "[[0.8512091  0.08012962 0.05557212 0.00855258 0.00453655]]\n",
      "[[0.8288185  0.09474223 0.06044769 0.01035079 0.00564075]]\n"
     ]
    },
    {
     "name": "stderr",
     "output_type": "stream",
     "text": [
      "1048it [01:20, 15.13it/s]"
     ]
    },
    {
     "name": "stdout",
     "output_type": "stream",
     "text": [
      "[[0.8477908  0.08564136 0.05216561 0.0093915  0.00501081]]\n",
      "[[0.85230464 0.08025769 0.05624793 0.00769695 0.00349279]]\n",
      "[[0.851433   0.08668691 0.048746   0.0088089  0.00432518]]\n"
     ]
    },
    {
     "name": "stderr",
     "output_type": "stream",
     "text": [
      "1051it [01:21, 12.34it/s]"
     ]
    },
    {
     "name": "stdout",
     "output_type": "stream",
     "text": [
      "[[0.84798086 0.08573309 0.05221887 0.00932567 0.00474159]]\n",
      "[[0.8414881  0.08500455 0.05888969 0.01017102 0.00444659]]\n"
     ]
    },
    {
     "name": "stderr",
     "output_type": "stream",
     "text": [
      "1055it [01:21, 12.80it/s]"
     ]
    },
    {
     "name": "stdout",
     "output_type": "stream",
     "text": [
      "[[0.85276175 0.08147204 0.05290494 0.00858721 0.00427397]]\n",
      "[[0.84875816 0.08395737 0.05579855 0.00784357 0.00364234]]\n",
      "[[0.858349   0.0775045  0.05252509 0.00779399 0.00382739]]\n",
      "[[0.85505867 0.07940625 0.05315893 0.00805703 0.00431913]]\n"
     ]
    },
    {
     "name": "stderr",
     "output_type": "stream",
     "text": [
      "1060it [01:21, 15.66it/s]"
     ]
    },
    {
     "name": "stdout",
     "output_type": "stream",
     "text": [
      "[[0.85164267 0.08384307 0.05256672 0.00800688 0.00394066]]\n",
      "[[0.8536257  0.08322903 0.04987926 0.00903093 0.0042352 ]]\n",
      "[[0.8469033  0.08693873 0.05271155 0.00893043 0.00451594]]\n",
      "[[0.8438112  0.08960108 0.05287891 0.00930008 0.00440875]]\n"
     ]
    },
    {
     "name": "stderr",
     "output_type": "stream",
     "text": [
      "1064it [01:22, 17.21it/s]"
     ]
    },
    {
     "name": "stdout",
     "output_type": "stream",
     "text": [
      "[[0.8435724  0.0898945  0.05297998 0.00898584 0.0045673 ]]\n",
      "[[0.8537475  0.08281089 0.05015822 0.00900472 0.00427868]]\n",
      "[[0.84185475 0.08861849 0.05542498 0.00947261 0.00462917]]\n",
      "[[0.8547966  0.08112495 0.0513193  0.00850742 0.00425169]]\n"
     ]
    },
    {
     "name": "stderr",
     "output_type": "stream",
     "text": [
      "1066it [01:22, 15.43it/s]"
     ]
    },
    {
     "name": "stdout",
     "output_type": "stream",
     "text": [
      "[[0.8305989  0.0843249  0.06986351 0.01070876 0.00450389]]\n",
      "[[0.8387784  0.09186924 0.05496222 0.00965707 0.00473311]]\n",
      "[[0.85112655 0.08650057 0.04933615 0.00886109 0.00417572]]\n"
     ]
    },
    {
     "name": "stderr",
     "output_type": "stream",
     "text": [
      "1070it [01:22, 14.06it/s]"
     ]
    },
    {
     "name": "stdout",
     "output_type": "stream",
     "text": [
      "[[0.83343846 0.08834112 0.06269532 0.01077295 0.00475204]]\n",
      "[[0.8328783  0.08961195 0.0634735  0.00957807 0.0044582 ]]\n",
      "[[0.8488057  0.0839934  0.0543262  0.00877168 0.00410302]]\n",
      "[[0.8438801  0.08693456 0.0551624  0.00948601 0.00453684]]\n"
     ]
    },
    {
     "name": "stderr",
     "output_type": "stream",
     "text": [
      "1074it [01:22, 16.42it/s]"
     ]
    },
    {
     "name": "stdout",
     "output_type": "stream",
     "text": [
      "[[0.8387039  0.09291645 0.05414854 0.00924668 0.00498442]]\n",
      "[[0.8412057  0.0855931  0.05931199 0.00883149 0.00505772]]\n",
      "[[0.8445829  0.08950915 0.05178747 0.00933672 0.00478375]]\n",
      "[[0.827567   0.09316087 0.06526783 0.00942713 0.00457722]]\n"
     ]
    },
    {
     "name": "stderr",
     "output_type": "stream",
     "text": [
      "1076it [01:22, 16.26it/s]"
     ]
    },
    {
     "name": "stdout",
     "output_type": "stream",
     "text": [
      "[[0.8356638  0.09339431 0.05509085 0.01049566 0.00535542]]\n",
      "[[0.8450302  0.08938436 0.05113735 0.00968941 0.00475863]]\n"
     ]
    },
    {
     "name": "stderr",
     "output_type": "stream",
     "text": [
      "1081it [01:23, 15.26it/s]"
     ]
    },
    {
     "name": "stdout",
     "output_type": "stream",
     "text": [
      "[[0.826953   0.08480395 0.07316646 0.01066834 0.00440823]]\n",
      "[[0.84584343 0.08557225 0.0545514  0.00921908 0.00481399]]\n",
      "[[0.8519607  0.08276901 0.05309086 0.00781108 0.00436834]]\n",
      "[[0.8446674  0.08787013 0.05428301 0.00887483 0.00430457]]\n",
      "[[0.83437824 0.09256444 0.0575133  0.01029859 0.00524543]]\n"
     ]
    },
    {
     "name": "stderr",
     "output_type": "stream",
     "text": [
      "1084it [01:23, 15.08it/s]"
     ]
    },
    {
     "name": "stdout",
     "output_type": "stream",
     "text": [
      "[[0.8497523  0.08322339 0.05409025 0.00844335 0.00449063]]\n",
      "[[0.8271453  0.08639889 0.07110748 0.01064148 0.00470692]]\n",
      "[[0.85036814 0.08435316 0.05217372 0.00841766 0.00468733]]\n"
     ]
    },
    {
     "name": "stderr",
     "output_type": "stream",
     "text": [
      "1087it [01:23, 15.63it/s]"
     ]
    },
    {
     "name": "stdout",
     "output_type": "stream",
     "text": [
      "[[0.84397495 0.08738311 0.05444543 0.00962231 0.00457426]]\n",
      "[[0.8319774  0.09073923 0.06345121 0.00906826 0.00476381]]\n"
     ]
    },
    {
     "name": "stderr",
     "output_type": "stream",
     "text": [
      "1091it [01:23, 14.19it/s]"
     ]
    },
    {
     "name": "stdout",
     "output_type": "stream",
     "text": [
      "[[0.84911186 0.08378372 0.05340962 0.0091032  0.00459161]]\n",
      "[[0.85279346 0.08259455 0.0522887  0.00815654 0.00416682]]\n",
      "[[0.8487735  0.08382957 0.05339246 0.00956339 0.00444114]]\n",
      "[[0.8491212  0.08314303 0.05377639 0.00919552 0.00476379]]\n"
     ]
    },
    {
     "name": "stderr",
     "output_type": "stream",
     "text": [
      "1095it [01:24, 13.01it/s]"
     ]
    },
    {
     "name": "stdout",
     "output_type": "stream",
     "text": [
      "[[0.8485771  0.08514316 0.05199405 0.00954701 0.00473866]]\n",
      "[[0.8510582  0.08277204 0.05222865 0.00948199 0.0044591 ]]\n",
      "[[0.8381125  0.08876108 0.0589471  0.0094617  0.00471772]]\n",
      "[[0.84164006 0.08858918 0.05597903 0.00914757 0.0046442 ]]\n"
     ]
    },
    {
     "name": "stderr",
     "output_type": "stream",
     "text": [
      "1100it [01:24, 16.20it/s]"
     ]
    },
    {
     "name": "stdout",
     "output_type": "stream",
     "text": [
      "[[0.84787154 0.08716156 0.05025372 0.01011624 0.00459694]]\n",
      "[[0.82909006 0.08698107 0.06780611 0.01117496 0.0049478 ]]\n",
      "[[0.8356015  0.09989329 0.05019101 0.0099112  0.00440305]]\n",
      "[[0.84277666 0.08867092 0.05511166 0.00934036 0.00410042]]\n",
      "[[0.8434215  0.08682716 0.05643934 0.00870255 0.00460948]]\n"
     ]
    },
    {
     "name": "stderr",
     "output_type": "stream",
     "text": [
      "1104it [01:24, 14.19it/s]"
     ]
    },
    {
     "name": "stdout",
     "output_type": "stream",
     "text": [
      "[[0.84652424 0.08601772 0.0533901  0.00929253 0.00477541]]\n",
      "[[0.8431456  0.0858411  0.05785307 0.00873143 0.00442886]]\n",
      "[[0.84627247 0.08518681 0.05471757 0.00928806 0.00453509]]\n",
      "[[0.8369803  0.08939179 0.06077004 0.00860411 0.00425387]]\n"
     ]
    },
    {
     "name": "stderr",
     "output_type": "stream",
     "text": [
      "1107it [01:25, 13.54it/s]"
     ]
    },
    {
     "name": "stdout",
     "output_type": "stream",
     "text": [
      "[[0.8544573  0.07807932 0.05396647 0.0086458  0.00485118]]\n",
      "[[0.8509621  0.0814613  0.05501197 0.00863507 0.00392957]]\n",
      "[[0.8440134  0.08277582 0.05923751 0.00957583 0.00439739]]\n"
     ]
    },
    {
     "name": "stderr",
     "output_type": "stream",
     "text": [
      "1109it [01:25, 14.66it/s]"
     ]
    },
    {
     "name": "stdout",
     "output_type": "stream",
     "text": [
      "[[0.85117716 0.08036968 0.05494636 0.00893396 0.00457274]]\n",
      "[[0.8441916  0.08831604 0.05395051 0.0090585  0.00448336]]\n",
      "[[0.8409894  0.08802422 0.05652243 0.00991473 0.00454923]]\n"
     ]
    },
    {
     "name": "stderr",
     "output_type": "stream",
     "text": [
      "1114it [01:25, 15.22it/s]"
     ]
    },
    {
     "name": "stdout",
     "output_type": "stream",
     "text": [
      "[[0.83860177 0.08536851 0.06119804 0.00999438 0.00483732]]\n",
      "[[0.84360003 0.09321158 0.05072005 0.00827642 0.00419199]]\n",
      "[[0.8502505  0.08325219 0.05358802 0.00841748 0.00449176]]\n",
      "[[0.8443655  0.0884979  0.0535589  0.00923065 0.00434708]]\n",
      "[[0.86301273 0.07574012 0.05004651 0.00733548 0.00386512]]\n"
     ]
    },
    {
     "name": "stderr",
     "output_type": "stream",
     "text": [
      "1117it [01:25, 14.80it/s]"
     ]
    },
    {
     "name": "stdout",
     "output_type": "stream",
     "text": [
      "[[0.8461894  0.08736479 0.05358683 0.00875477 0.00410418]]\n",
      "[[0.8265574  0.0874818  0.07035973 0.0107151  0.00488602]]\n"
     ]
    },
    {
     "name": "stderr",
     "output_type": "stream",
     "text": [
      "1121it [01:26, 13.80it/s]"
     ]
    },
    {
     "name": "stdout",
     "output_type": "stream",
     "text": [
      "[[0.8409151  0.08634988 0.05846117 0.01009314 0.00418085]]\n",
      "[[0.84872234 0.08327067 0.05474044 0.00855909 0.00470747]]\n",
      "[[0.8387453  0.09026602 0.05671117 0.00963479 0.00464276]]\n",
      "[[0.83654815 0.08779717 0.06199516 0.00910356 0.00455595]]\n"
     ]
    },
    {
     "name": "stderr",
     "output_type": "stream",
     "text": [
      "1123it [01:26, 15.02it/s]"
     ]
    },
    {
     "name": "stdout",
     "output_type": "stream",
     "text": [
      "[[0.8427351  0.08974946 0.05355378 0.00943679 0.00452486]]\n",
      "[[0.8544593  0.08194273 0.05029538 0.00894826 0.00435436]]\n",
      "[[0.830321   0.09344397 0.06114097 0.01011561 0.00497846]]\n",
      "[[0.84216815 0.09370212 0.05028842 0.00936446 0.00447686]]\n"
     ]
    },
    {
     "name": "stderr",
     "output_type": "stream",
     "text": [
      "1126it [01:26, 14.52it/s]"
     ]
    },
    {
     "name": "stdout",
     "output_type": "stream",
     "text": [
      "[[0.82708997 0.09172963 0.06496672 0.0110295  0.00518415]]\n",
      "[[0.8454732  0.08695248 0.05551405 0.00828885 0.00377151]]\n"
     ]
    },
    {
     "name": "stderr",
     "output_type": "stream",
     "text": [
      "1128it [01:26, 12.66it/s]"
     ]
    },
    {
     "name": "stdout",
     "output_type": "stream",
     "text": [
      "[[0.85330105 0.08259923 0.05116727 0.0086304  0.00430211]]\n",
      "[[0.8412854  0.08991485 0.05491293 0.00914107 0.00474574]]\n",
      "[[0.8473159  0.08628888 0.05226503 0.00939605 0.00473414]]\n"
     ]
    },
    {
     "name": "stderr",
     "output_type": "stream",
     "text": [
      "1131it [01:26, 12.63it/s]"
     ]
    },
    {
     "name": "stdout",
     "output_type": "stream",
     "text": [
      "[[0.842321   0.08693794 0.05607213 0.01012444 0.00454458]]\n",
      "[[0.84769225 0.08586074 0.05211055 0.00957711 0.00475943]]\n"
     ]
    },
    {
     "name": "stderr",
     "output_type": "stream",
     "text": [
      "1135it [01:27, 11.55it/s]"
     ]
    },
    {
     "name": "stdout",
     "output_type": "stream",
     "text": [
      "[[0.85327953 0.08267445 0.05251801 0.00777388 0.00375416]]\n",
      "[[0.83597034 0.09120228 0.05782133 0.00989204 0.00511399]]\n",
      "[[0.8244255  0.08716497 0.07184704 0.01173784 0.00482462]]\n"
     ]
    },
    {
     "name": "stderr",
     "output_type": "stream",
     "text": [
      "1137it [01:27, 11.22it/s]"
     ]
    },
    {
     "name": "stdout",
     "output_type": "stream",
     "text": [
      "[[0.8430366  0.08356734 0.05895607 0.00990347 0.00453644]]\n",
      "[[0.846368   0.08767765 0.05187244 0.00938439 0.00469744]]\n",
      "[[0.83404595 0.08120538 0.07004725 0.01015904 0.00454241]]\n"
     ]
    },
    {
     "name": "stderr",
     "output_type": "stream",
     "text": [
      "1141it [01:27, 11.69it/s]"
     ]
    },
    {
     "name": "stdout",
     "output_type": "stream",
     "text": [
      "[[0.8468339  0.08459002 0.05546356 0.00871644 0.00439609]]\n",
      "[[0.8504396  0.08290621 0.05355366 0.00892247 0.00417811]]\n",
      "[[0.84530616 0.0890018  0.05255166 0.0087989  0.00434144]]\n"
     ]
    },
    {
     "name": "stderr",
     "output_type": "stream",
     "text": [
      "1143it [01:27, 12.28it/s]"
     ]
    },
    {
     "name": "stdout",
     "output_type": "stream",
     "text": [
      "[[0.8455928  0.08659865 0.05422214 0.00905443 0.00453199]]\n",
      "[[0.8493047  0.08568009 0.05150517 0.0090602  0.00444985]]\n",
      "[[0.84005225 0.09178161 0.05367634 0.009857   0.00463289]]\n"
     ]
    },
    {
     "name": "stderr",
     "output_type": "stream",
     "text": [
      "1145it [01:28, 12.62it/s]"
     ]
    },
    {
     "name": "stdout",
     "output_type": "stream",
     "text": [
      "[[0.84301376 0.08709957 0.05617959 0.00926553 0.00444155]]\n",
      "[[0.8321572  0.09167067 0.06294806 0.00868877 0.00453534]]\n"
     ]
    },
    {
     "name": "stderr",
     "output_type": "stream",
     "text": [
      "1150it [01:28, 13.56it/s]"
     ]
    },
    {
     "name": "stdout",
     "output_type": "stream",
     "text": [
      "[[0.84255546 0.08270426 0.06083209 0.00952774 0.00438042]]\n",
      "[[0.8427935  0.08857199 0.05487322 0.00902998 0.0047313 ]]\n",
      "[[0.8513794  0.08455301 0.05137638 0.00861586 0.0040753 ]]\n",
      "[[0.84885734 0.08417624 0.05316294 0.00935466 0.00444883]]\n",
      "[[0.850429   0.08405609 0.05266613 0.00892224 0.00392655]]\n"
     ]
    },
    {
     "name": "stderr",
     "output_type": "stream",
     "text": [
      "1156it [01:28, 16.68it/s]"
     ]
    },
    {
     "name": "stdout",
     "output_type": "stream",
     "text": [
      "[[0.85179013 0.0859523  0.04986108 0.00854377 0.00385278]]\n",
      "[[0.84938157 0.08698484 0.05123674 0.0081661  0.00423071]]\n",
      "[[0.8610498  0.08008472 0.0471184  0.0075857  0.00416136]]\n",
      "[[0.8432572  0.08732878 0.05589228 0.00908538 0.00443637]]\n",
      "[[0.84729    0.08840887 0.05136292 0.00856977 0.00436841]]\n"
     ]
    },
    {
     "name": "stderr",
     "output_type": "stream",
     "text": [
      "1158it [01:28, 17.14it/s]"
     ]
    },
    {
     "name": "stdout",
     "output_type": "stream",
     "text": [
      "[[0.8470635  0.08531247 0.05345204 0.00936177 0.00481026]]\n",
      "[[0.8467683  0.080759   0.0587455  0.00902366 0.0047035 ]]\n"
     ]
    },
    {
     "name": "stderr",
     "output_type": "stream",
     "text": [
      "1163it [01:29, 15.38it/s]"
     ]
    },
    {
     "name": "stdout",
     "output_type": "stream",
     "text": [
      "[[0.8497463  0.08364617 0.05284121 0.00927472 0.0044916 ]]\n",
      "[[0.8500103  0.08468431 0.05186756 0.00908864 0.00434915]]\n",
      "[[0.8427796  0.08678023 0.05673965 0.00913458 0.00456598]]\n",
      "[[0.8491118  0.08389566 0.05277713 0.00938962 0.00482583]]\n",
      "[[0.8519743  0.08229022 0.0523891  0.00887249 0.00447388]]\n"
     ]
    },
    {
     "name": "stderr",
     "output_type": "stream",
     "text": [
      "1166it [01:29, 16.71it/s]"
     ]
    },
    {
     "name": "stdout",
     "output_type": "stream",
     "text": [
      "[[0.8572327  0.07859499 0.05152309 0.00850104 0.00414816]]\n",
      "[[0.84312    0.08767543 0.05556932 0.00921367 0.00442159]]\n",
      "[[0.8447267  0.08817276 0.05284358 0.00941324 0.00484372]]\n",
      "[[0.84839994 0.08490252 0.05235491 0.00959436 0.00474824]]\n",
      "[[0.85151654 0.08019014 0.05460108 0.00933984 0.00435243]]\n"
     ]
    },
    {
     "name": "stderr",
     "output_type": "stream",
     "text": [
      "1171it [01:29, 15.31it/s]"
     ]
    },
    {
     "name": "stdout",
     "output_type": "stream",
     "text": [
      "[[0.8477058  0.08436895 0.05362483 0.00942367 0.00487677]]\n",
      "[[0.83745825 0.0829623  0.06571013 0.00972552 0.00414388]]\n",
      "[[0.8362452  0.09731791 0.0527425  0.009153   0.00454144]]\n"
     ]
    },
    {
     "name": "stderr",
     "output_type": "stream",
     "text": [
      "1174it [01:29, 16.80it/s]"
     ]
    },
    {
     "name": "stdout",
     "output_type": "stream",
     "text": [
      "[[0.84688544 0.08293767 0.05735093 0.00836421 0.0044617 ]]\n",
      "[[0.84236485 0.0861075  0.05746393 0.00962875 0.00443499]]\n",
      "[[0.85792345 0.08111748 0.04924503 0.00771566 0.00399836]]\n"
     ]
    },
    {
     "name": "stderr",
     "output_type": "stream",
     "text": [
      "1176it [01:30, 13.81it/s]"
     ]
    },
    {
     "name": "stdout",
     "output_type": "stream",
     "text": [
      "[[0.8508306  0.08249813 0.05274092 0.00925425 0.00467604]]\n",
      "[[0.8468924  0.08519777 0.05506149 0.00838931 0.00445896]]\n"
     ]
    },
    {
     "name": "stderr",
     "output_type": "stream",
     "text": [
      "1180it [01:30, 13.44it/s]"
     ]
    },
    {
     "name": "stdout",
     "output_type": "stream",
     "text": [
      "[[0.84967315 0.08283313 0.0537609  0.00912726 0.00460558]]\n",
      "[[0.82592076 0.09721386 0.06156267 0.01030099 0.0050016 ]]\n",
      "[[0.86279553 0.07622262 0.04902865 0.00776641 0.00418689]]\n",
      "[[0.83979464 0.08864234 0.05730058 0.00955385 0.00470857]]\n",
      "[[0.8405099  0.09299652 0.05238181 0.0093607  0.00475101]]\n"
     ]
    },
    {
     "name": "stderr",
     "output_type": "stream",
     "text": [
      "1184it [01:30, 13.79it/s]"
     ]
    },
    {
     "name": "stdout",
     "output_type": "stream",
     "text": [
      "[[0.833053   0.08847694 0.06348724 0.01043434 0.00454845]]\n",
      "[[0.8576177  0.07964533 0.05076789 0.00788735 0.00408179]]\n",
      "[[0.85784036 0.07687149 0.05190038 0.00885348 0.00453437]]\n"
     ]
    },
    {
     "name": "stderr",
     "output_type": "stream",
     "text": [
      "1186it [01:30, 12.53it/s]"
     ]
    },
    {
     "name": "stdout",
     "output_type": "stream",
     "text": [
      "[[0.8457721  0.08235834 0.0582669  0.00954512 0.00405758]]\n",
      "[[0.84258157 0.0874221  0.05601905 0.00923613 0.00474112]]\n",
      "[[0.85671175 0.08147477 0.04955892 0.0082738  0.00398071]]\n",
      "[[0.8511081  0.08222776 0.05303179 0.0086368  0.00499555]]\n"
     ]
    },
    {
     "name": "stderr",
     "output_type": "stream",
     "text": [
      "1192it [01:31, 16.18it/s]"
     ]
    },
    {
     "name": "stdout",
     "output_type": "stream",
     "text": [
      "[[0.8430579  0.09192525 0.05317771 0.00793202 0.00390716]]\n",
      "[[0.83820623 0.08964988 0.05798869 0.00942225 0.00473291]]\n",
      "[[0.83223903 0.08348549 0.0686389  0.01106657 0.00456998]]\n",
      "[[0.84841675 0.08353417 0.0550454  0.00880832 0.00419535]]\n"
     ]
    },
    {
     "name": "stderr",
     "output_type": "stream",
     "text": [
      "1194it [01:31, 13.09it/s]"
     ]
    },
    {
     "name": "stdout",
     "output_type": "stream",
     "text": [
      "[[0.8489968  0.08520848 0.05164559 0.0094411  0.004708  ]]\n",
      "[[0.8516072  0.082898   0.05192398 0.00893907 0.00463175]]\n",
      "[[0.8411925  0.08768382 0.05571381 0.00984278 0.00556703]]\n"
     ]
    },
    {
     "name": "stderr",
     "output_type": "stream",
     "text": [
      "1198it [01:31, 12.99it/s]"
     ]
    },
    {
     "name": "stdout",
     "output_type": "stream",
     "text": [
      "[[0.8345407  0.09102743 0.05915637 0.01009964 0.00517591]]\n",
      "[[0.8499386  0.08292817 0.05416488 0.00840212 0.00456627]]\n",
      "[[0.83377784 0.09121418 0.06034558 0.00974979 0.00491262]]\n",
      "[[0.8554371  0.07724793 0.05473317 0.00816493 0.00441692]]\n"
     ]
    },
    {
     "name": "stderr",
     "output_type": "stream",
     "text": [
      "1203it [01:32, 16.34it/s]"
     ]
    },
    {
     "name": "stdout",
     "output_type": "stream",
     "text": [
      "[[0.85256535 0.08483037 0.04994314 0.00837905 0.00428206]]\n",
      "[[0.84534544 0.08426277 0.05710216 0.00868104 0.00460853]]\n",
      "[[0.83951813 0.08926217 0.05641211 0.01003322 0.00477438]]\n",
      "[[0.8485339  0.08348627 0.05446181 0.00927832 0.00423977]]\n",
      "[[0.8614584  0.07958494 0.04685757 0.00824796 0.00385115]]\n"
     ]
    },
    {
     "name": "stderr",
     "output_type": "stream",
     "text": [
      "1207it [01:32, 15.27it/s]"
     ]
    },
    {
     "name": "stdout",
     "output_type": "stream",
     "text": [
      "[[0.84586626 0.08152961 0.05869619 0.00944421 0.00446364]]\n",
      "[[0.8312264  0.09963232 0.05433014 0.01003768 0.0047735 ]]\n",
      "[[0.85318416 0.08065649 0.05351064 0.00853099 0.00411771]]\n",
      "[[0.8458852  0.08722478 0.05271621 0.00932801 0.00484587]]\n"
     ]
    },
    {
     "name": "stderr",
     "output_type": "stream",
     "text": [
      "1212it [01:32, 14.57it/s]"
     ]
    },
    {
     "name": "stdout",
     "output_type": "stream",
     "text": [
      "[[0.8461299  0.08452    0.05587573 0.00901455 0.00445981]]\n",
      "[[0.8470795  0.08717546 0.05272881 0.00875627 0.00426007]]\n",
      "[[0.85146666 0.08355916 0.05157612 0.00893317 0.00446476]]\n",
      "[[0.85235995 0.08204186 0.05236791 0.00897596 0.00425437]]\n"
     ]
    },
    {
     "name": "stderr",
     "output_type": "stream",
     "text": [
      "1216it [01:32, 14.96it/s]"
     ]
    },
    {
     "name": "stdout",
     "output_type": "stream",
     "text": [
      "[[0.83042544 0.08139628 0.07285452 0.0107514  0.00457235]]\n",
      "[[0.8374521  0.09038865 0.05759386 0.00978509 0.0047803 ]]\n",
      "[[0.85749054 0.07810762 0.05202034 0.00811266 0.00426874]]\n",
      "[[0.8472135  0.08622184 0.05226512 0.0093949  0.00490461]]\n",
      "[[0.8459369  0.08706163 0.05367626 0.00870466 0.0046206 ]]\n",
      "[[0.84687    0.08540315 0.05438123 0.00907605 0.00426963]]\n"
     ]
    },
    {
     "name": "stderr",
     "output_type": "stream",
     "text": [
      "1222it [01:33, 14.71it/s]"
     ]
    },
    {
     "name": "stdout",
     "output_type": "stream",
     "text": [
      "[[0.84468925 0.08421998 0.0568366  0.00944559 0.00480858]]\n",
      "[[0.84451455 0.08784974 0.05366252 0.0094836  0.0044896 ]]\n",
      "[[0.84948874 0.08392893 0.052159   0.00945962 0.00496368]]\n",
      "[[0.8409178  0.09000108 0.05664661 0.00838572 0.00404884]]\n",
      "[[0.85126835 0.08549291 0.05041996 0.00825924 0.00455957]]\n"
     ]
    },
    {
     "name": "stderr",
     "output_type": "stream",
     "text": [
      "1225it [01:33, 16.09it/s]"
     ]
    },
    {
     "name": "stdout",
     "output_type": "stream",
     "text": [
      "[[0.8545016  0.08291241 0.05012488 0.00820355 0.00425757]]\n",
      "[[0.8455644  0.08277646 0.05786117 0.00914782 0.00465013]]\n",
      "[[0.8560787  0.08172975 0.05001951 0.00810748 0.00406459]]\n",
      "[[0.8421011  0.0887301  0.05561474 0.00915372 0.00440033]]\n"
     ]
    },
    {
     "name": "stderr",
     "output_type": "stream",
     "text": [
      "1231it [01:33, 18.17it/s]"
     ]
    },
    {
     "name": "stdout",
     "output_type": "stream",
     "text": [
      "[[0.84287316 0.08783449 0.05554697 0.00915572 0.00458961]]\n",
      "[[0.8499159  0.08290017 0.05332343 0.00920621 0.00465423]]\n",
      "[[0.84449035 0.0876952  0.05319099 0.00949182 0.00513158]]\n",
      "[[0.847695   0.08499162 0.0536487  0.00920772 0.00445699]]\n"
     ]
    },
    {
     "name": "stderr",
     "output_type": "stream",
     "text": [
      "1235it [01:34, 16.09it/s]"
     ]
    },
    {
     "name": "stdout",
     "output_type": "stream",
     "text": [
      "[[0.83207864 0.09000077 0.06175368 0.01120964 0.0049573 ]]\n",
      "[[0.83752954 0.09182817 0.05718491 0.00873255 0.0047249 ]]\n",
      "[[0.84866816 0.08089033 0.05625315 0.00873822 0.00545014]]\n",
      "[[0.8472766  0.08475183 0.05519387 0.00905582 0.00372192]]\n",
      "[[0.8544697  0.08027804 0.05155626 0.00880853 0.00488739]]\n"
     ]
    },
    {
     "name": "stderr",
     "output_type": "stream",
     "text": [
      "1239it [01:34, 12.57it/s]"
     ]
    },
    {
     "name": "stdout",
     "output_type": "stream",
     "text": [
      "[[0.843052   0.0831091  0.05935863 0.0096317  0.00484859]]\n",
      "[[0.83104837 0.08694855 0.06691825 0.01081305 0.00427186]]\n",
      "[[0.8509596  0.08638554 0.04982306 0.00848842 0.00434341]]\n"
     ]
    },
    {
     "name": "stderr",
     "output_type": "stream",
     "text": [
      "1241it [01:34, 13.08it/s]"
     ]
    },
    {
     "name": "stdout",
     "output_type": "stream",
     "text": [
      "[[0.8545844  0.07803077 0.05543502 0.00775227 0.0041975 ]]\n",
      "[[0.84329784 0.09366252 0.04979526 0.00881152 0.00443287]]\n",
      "[[0.852568   0.08334748 0.05183128 0.00826593 0.00398732]]\n"
     ]
    },
    {
     "name": "stderr",
     "output_type": "stream",
     "text": [
      "1245it [01:35, 13.73it/s]"
     ]
    },
    {
     "name": "stdout",
     "output_type": "stream",
     "text": [
      "[[0.8492724  0.08518384 0.05301812 0.00833897 0.00418677]]\n",
      "[[0.8456532  0.08890948 0.05201047 0.00925071 0.0041761 ]]\n",
      "[[0.84099096 0.08710419 0.05804896 0.00919797 0.00465789]]\n"
     ]
    },
    {
     "name": "stderr",
     "output_type": "stream",
     "text": [
      "1247it [01:35, 11.62it/s]"
     ]
    },
    {
     "name": "stdout",
     "output_type": "stream",
     "text": [
      "[[0.83162147 0.0865459  0.06662225 0.01051484 0.00469557]]\n",
      "[[0.8571399  0.080257   0.05067455 0.00799258 0.00393597]]\n"
     ]
    },
    {
     "name": "stderr",
     "output_type": "stream",
     "text": [
      "1251it [01:35, 11.09it/s]"
     ]
    },
    {
     "name": "stdout",
     "output_type": "stream",
     "text": [
      "[[0.837347   0.08620083 0.06067913 0.01081258 0.0049604 ]]\n",
      "[[0.8494153  0.08334722 0.05335811 0.00921111 0.00466817]]\n",
      "[[0.8388396  0.08998521 0.05691505 0.00956942 0.00469081]]\n",
      "[[0.8533819  0.08137146 0.05226145 0.0081732  0.00481212]]\n"
     ]
    },
    {
     "name": "stderr",
     "output_type": "stream",
     "text": [
      "1255it [01:35, 12.64it/s]"
     ]
    },
    {
     "name": "stdout",
     "output_type": "stream",
     "text": [
      "[[0.8525859  0.08210371 0.0536047  0.00794001 0.00376566]]\n",
      "[[0.84115297 0.08325747 0.06069207 0.00905036 0.00584713]]\n",
      "[[0.8455347  0.08755549 0.05282959 0.00969195 0.00438838]]\n",
      "[[0.84569913 0.08613867 0.05391598 0.00942821 0.00481799]]\n"
     ]
    },
    {
     "name": "stderr",
     "output_type": "stream",
     "text": [
      "1257it [01:36, 13.27it/s]"
     ]
    },
    {
     "name": "stdout",
     "output_type": "stream",
     "text": [
      "[[0.85358465 0.0796793  0.05478005 0.00765528 0.00430063]]\n",
      "[[0.8401994  0.0895698  0.05619604 0.00924731 0.00478743]]\n",
      "[[0.83561677 0.08579651 0.0613986  0.0115099  0.00567824]]\n"
     ]
    },
    {
     "name": "stderr",
     "output_type": "stream",
     "text": [
      "1259it [01:36, 11.96it/s]"
     ]
    },
    {
     "name": "stdout",
     "output_type": "stream",
     "text": [
      "[[0.84236676 0.08511652 0.05880505 0.00914046 0.00457125]]\n",
      "[[0.8508377  0.08500273 0.05053094 0.00906132 0.00456733]]\n"
     ]
    },
    {
     "name": "stderr",
     "output_type": "stream",
     "text": [
      "1263it [01:36, 10.58it/s]"
     ]
    },
    {
     "name": "stdout",
     "output_type": "stream",
     "text": [
      "[[0.84954405 0.08533821 0.0529591  0.0083329  0.00382571]]\n",
      "[[0.84524953 0.08367229 0.05676699 0.00975701 0.0045541 ]]\n",
      "[[0.84352016 0.08338626 0.0583812  0.01022988 0.00448241]]\n"
     ]
    },
    {
     "name": "stderr",
     "output_type": "stream",
     "text": [
      "1265it [01:36, 11.89it/s]"
     ]
    },
    {
     "name": "stdout",
     "output_type": "stream",
     "text": [
      "[[0.84301585 0.08376133 0.06177596 0.00770587 0.00374098]]\n",
      "[[0.8472209  0.08417027 0.05465823 0.00943183 0.00451881]]\n",
      "[[0.839118   0.0862269  0.06021726 0.00978669 0.00465108]]\n"
     ]
    },
    {
     "name": "stderr",
     "output_type": "stream",
     "text": [
      "1269it [01:37, 12.00it/s]"
     ]
    },
    {
     "name": "stdout",
     "output_type": "stream",
     "text": [
      "[[0.8619301  0.07178938 0.05541202 0.00672805 0.00414044]]\n",
      "[[0.86060023 0.07450117 0.05182778 0.00809654 0.00497423]]\n",
      "[[0.84618366 0.08755615 0.05310196 0.00887058 0.00428771]]\n"
     ]
    },
    {
     "name": "stderr",
     "output_type": "stream",
     "text": [
      "1271it [01:37,  9.72it/s]"
     ]
    },
    {
     "name": "stdout",
     "output_type": "stream",
     "text": [
      "[[0.84608537 0.08284353 0.05799693 0.00900324 0.00407087]]\n",
      "[[0.85298026 0.08047055 0.05290219 0.00906312 0.00458388]]\n",
      "[[0.85166466 0.08397524 0.05243944 0.00815734 0.0037633 ]]\n"
     ]
    },
    {
     "name": "stderr",
     "output_type": "stream",
     "text": [
      "1275it [01:37, 11.57it/s]"
     ]
    },
    {
     "name": "stdout",
     "output_type": "stream",
     "text": [
      "[[0.8499526  0.08286268 0.05357068 0.00915704 0.00445702]]\n",
      "[[0.84339905 0.08535597 0.05726829 0.00945114 0.00452555]]\n",
      "[[0.84661335 0.08744103 0.05326315 0.00850655 0.00417592]]\n"
     ]
    },
    {
     "name": "stderr",
     "output_type": "stream",
     "text": [
      "1279it [01:38, 10.95it/s]"
     ]
    },
    {
     "name": "stdout",
     "output_type": "stream",
     "text": [
      "[[0.8522477  0.08231691 0.05174183 0.00911771 0.00457576]]\n",
      "[[0.84082234 0.08990735 0.05519947 0.00955696 0.0045138 ]]\n",
      "[[0.8451582  0.08983446 0.05052249 0.00979233 0.00469249]]\n",
      "[[0.8463122  0.08522942 0.05486752 0.00891428 0.00467655]]\n"
     ]
    },
    {
     "name": "stderr",
     "output_type": "stream",
     "text": [
      "1281it [01:38, 11.14it/s]"
     ]
    },
    {
     "name": "stdout",
     "output_type": "stream",
     "text": [
      "[[0.8478753  0.07875015 0.06015275 0.00935133 0.00387041]]\n",
      "[[0.8307235  0.08827333 0.0652133  0.01057331 0.00521647]]\n",
      "[[0.84741575 0.0871974  0.05166256 0.00924355 0.00448083]]\n"
     ]
    },
    {
     "name": "stderr",
     "output_type": "stream",
     "text": [
      "1285it [01:38, 13.88it/s]"
     ]
    },
    {
     "name": "stdout",
     "output_type": "stream",
     "text": [
      "[[0.8485315  0.08478722 0.05337451 0.00884417 0.00446252]]\n",
      "[[0.8496067  0.08791119 0.04971733 0.00848886 0.00427593]]\n",
      "[[0.8436144  0.0853982  0.05633484 0.00952289 0.00512969]]\n",
      "[[0.85267127 0.08403305 0.05062013 0.00829611 0.00437939]]\n"
     ]
    },
    {
     "name": "stderr",
     "output_type": "stream",
     "text": [
      "1289it [01:38, 13.83it/s]"
     ]
    },
    {
     "name": "stdout",
     "output_type": "stream",
     "text": [
      "[[0.8562733  0.07922268 0.0524644  0.00776201 0.00427762]]\n",
      "[[0.8450114  0.08944014 0.05265083 0.00833647 0.00456125]]\n",
      "[[0.84098065 0.0901431  0.0523773  0.01154361 0.00495533]]\n"
     ]
    },
    {
     "name": "stderr",
     "output_type": "stream",
     "text": [
      "1291it [01:38, 13.96it/s]"
     ]
    },
    {
     "name": "stdout",
     "output_type": "stream",
     "text": [
      "[[0.8437668  0.08966614 0.05349964 0.00848259 0.00458486]]\n",
      "[[0.8504633  0.08790055 0.04877748 0.00889004 0.00396866]]\n",
      "[[0.8447641  0.08238183 0.05862645 0.00947777 0.00474987]]\n"
     ]
    },
    {
     "name": "stderr",
     "output_type": "stream",
     "text": [
      "1293it [01:39, 13.97it/s]"
     ]
    },
    {
     "name": "stdout",
     "output_type": "stream",
     "text": [
      "[[0.85848594 0.07816245 0.05044774 0.00879176 0.00411212]]\n",
      "[[0.84365994 0.08492274 0.0557509  0.01045024 0.00521619]]\n"
     ]
    },
    {
     "name": "stderr",
     "output_type": "stream",
     "text": [
      "1297it [01:39, 13.86it/s]"
     ]
    },
    {
     "name": "stdout",
     "output_type": "stream",
     "text": [
      "[[0.849551   0.08141749 0.05610468 0.00867745 0.00424928]]\n",
      "[[0.85067064 0.08579502 0.05160978 0.00797946 0.00394506]]\n",
      "[[0.8552062  0.08009791 0.05253731 0.00813622 0.00402239]]\n",
      "[[0.8462895  0.08550898 0.05466286 0.0091721  0.00436654]]\n",
      "[[0.850905   0.08595105 0.04995175 0.00889518 0.004297  ]]\n"
     ]
    },
    {
     "name": "stderr",
     "output_type": "stream",
     "text": [
      "1302it [01:39, 14.01it/s]"
     ]
    },
    {
     "name": "stdout",
     "output_type": "stream",
     "text": [
      "[[0.84710765 0.084999   0.05461069 0.0090809  0.00420184]]\n",
      "[[0.8270653  0.09321964 0.06438123 0.01046037 0.0048735 ]]\n",
      "[[0.8415351  0.08861327 0.05612988 0.00951515 0.00420655]]\n"
     ]
    },
    {
     "name": "stderr",
     "output_type": "stream",
     "text": [
      "1305it [01:39, 13.55it/s]"
     ]
    },
    {
     "name": "stdout",
     "output_type": "stream",
     "text": [
      "[[0.84909046 0.0869117  0.05113485 0.00878125 0.00408177]]\n",
      "[[0.8447663  0.08603186 0.05598935 0.00890533 0.00430716]]\n",
      "[[0.83386827 0.08735818 0.06368105 0.01021319 0.00487932]]\n"
     ]
    },
    {
     "name": "stderr",
     "output_type": "stream",
     "text": [
      "1310it [01:40, 16.39it/s]"
     ]
    },
    {
     "name": "stdout",
     "output_type": "stream",
     "text": [
      "[[0.85896    0.08076392 0.04886895 0.00760524 0.00380201]]\n",
      "[[0.836745   0.09205813 0.05690119 0.0096285  0.00466723]]\n",
      "[[0.8476659  0.08462278 0.0541198  0.00898866 0.00460281]]\n",
      "[[0.8382887  0.09390833 0.054105   0.00904432 0.00465359]]\n",
      "[[0.84866774 0.08564164 0.05195421 0.00944059 0.00429589]]\n"
     ]
    },
    {
     "name": "stderr",
     "output_type": "stream",
     "text": [
      "1312it [01:40, 13.54it/s]"
     ]
    },
    {
     "name": "stdout",
     "output_type": "stream",
     "text": [
      "[[0.84240127 0.08940523 0.05416287 0.00970702 0.00432357]]\n",
      "[[0.85208017 0.08325818 0.05097652 0.00899617 0.00468895]]\n"
     ]
    },
    {
     "name": "stderr",
     "output_type": "stream",
     "text": [
      "1314it [01:40, 12.26it/s]"
     ]
    },
    {
     "name": "stdout",
     "output_type": "stream",
     "text": [
      "[[0.8498836  0.08553898 0.05179596 0.00816266 0.00461867]]\n",
      "[[0.8404181  0.08468018 0.06026218 0.00988514 0.00475445]]\n"
     ]
    },
    {
     "name": "stderr",
     "output_type": "stream",
     "text": [
      "1319it [01:40, 15.46it/s]"
     ]
    },
    {
     "name": "stdout",
     "output_type": "stream",
     "text": [
      "[[0.85000134 0.08464443 0.0510037  0.00976333 0.00458718]]\n",
      "[[0.8499839  0.08327927 0.05288585 0.00911322 0.00473779]]\n",
      "[[0.84914666 0.0849903  0.05238527 0.00912311 0.00435463]]\n",
      "[[0.84680253 0.08743548 0.05174273 0.00960803 0.00441113]]\n",
      "[[0.8403651  0.0912185  0.05391309 0.00992173 0.00458161]]\n"
     ]
    },
    {
     "name": "stderr",
     "output_type": "stream",
     "text": [
      "1321it [01:41, 16.21it/s]"
     ]
    },
    {
     "name": "stdout",
     "output_type": "stream",
     "text": [
      "[[0.83414316 0.08288326 0.06856545 0.01023365 0.00417453]]\n",
      "[[0.85144895 0.08546843 0.05043336 0.00845966 0.00418961]]\n",
      "[[0.85113364 0.08212351 0.0539718  0.00848149 0.00428966]]\n"
     ]
    },
    {
     "name": "stderr",
     "output_type": "stream",
     "text": [
      "1325it [01:41, 12.41it/s]"
     ]
    },
    {
     "name": "stdout",
     "output_type": "stream",
     "text": [
      "[[0.84852934 0.08608279 0.05151721 0.00927317 0.00459752]]\n",
      "[[0.844791   0.08040029 0.05992079 0.01031544 0.00457251]]\n",
      "[[0.83397645 0.09240402 0.05881203 0.01021729 0.00459023]]\n"
     ]
    },
    {
     "name": "stderr",
     "output_type": "stream",
     "text": [
      "1327it [01:41,  9.68it/s]"
     ]
    },
    {
     "name": "stdout",
     "output_type": "stream",
     "text": [
      "[[0.84946966 0.08450042 0.05193039 0.00943662 0.0046629 ]]\n",
      "[[0.84551644 0.07753712 0.06184367 0.01026874 0.00483396]]\n"
     ]
    },
    {
     "name": "stderr",
     "output_type": "stream",
     "text": [
      "1329it [01:41, 11.31it/s]"
     ]
    },
    {
     "name": "stdout",
     "output_type": "stream",
     "text": [
      "[[0.84775966 0.08692772 0.0521383  0.00879982 0.0043746 ]]\n",
      "[[0.84597296 0.08326845 0.05706289 0.00946711 0.00422854]]\n",
      "[[0.8529237  0.08165932 0.05244442 0.00885591 0.00411665]]\n"
     ]
    },
    {
     "name": "stderr",
     "output_type": "stream",
     "text": [
      "1333it [01:42, 12.65it/s]"
     ]
    },
    {
     "name": "stdout",
     "output_type": "stream",
     "text": [
      "[[0.8350578  0.08567867 0.06355617 0.01037364 0.0053337 ]]\n",
      "[[0.8451196  0.08740125 0.05393891 0.00916285 0.0043774 ]]\n",
      "[[0.8642831  0.07717565 0.04760214 0.00739939 0.0035397 ]]\n",
      "[[0.8428634  0.08657052 0.05706269 0.00914778 0.00435564]]\n"
     ]
    },
    {
     "name": "stderr",
     "output_type": "stream",
     "text": [
      "1336it [01:42, 14.96it/s]"
     ]
    },
    {
     "name": "stdout",
     "output_type": "stream",
     "text": [
      "[[0.85113305 0.08091211 0.05401642 0.0093103  0.0046281 ]]\n",
      "[[0.8523584  0.08137894 0.05282928 0.00906513 0.00436819]]\n",
      "[[0.85163707 0.0805794  0.05384784 0.00950775 0.00442791]]\n"
     ]
    },
    {
     "name": "stderr",
     "output_type": "stream",
     "text": [
      "1340it [01:42, 12.27it/s]"
     ]
    },
    {
     "name": "stdout",
     "output_type": "stream",
     "text": [
      "[[0.8478026  0.08432076 0.05354331 0.00961711 0.00471625]]\n",
      "[[0.83758396 0.08761638 0.05923561 0.01060234 0.00496178]]\n",
      "[[0.8544245  0.08298779 0.0506441  0.00793678 0.00400687]]\n"
     ]
    },
    {
     "name": "stderr",
     "output_type": "stream",
     "text": [
      "1342it [01:42, 13.76it/s]"
     ]
    },
    {
     "name": "stdout",
     "output_type": "stream",
     "text": [
      "[[0.8405798  0.08721565 0.05876859 0.00891624 0.00451978]]\n",
      "[[0.84907526 0.08248172 0.05410922 0.00966405 0.00466964]]\n",
      "[[0.8373323  0.08993555 0.05778312 0.01060327 0.00434572]]\n"
     ]
    },
    {
     "name": "stderr",
     "output_type": "stream",
     "text": [
      "1346it [01:43, 11.69it/s]"
     ]
    },
    {
     "name": "stdout",
     "output_type": "stream",
     "text": [
      "[[0.8301022  0.08504511 0.07007382 0.00980316 0.00497565]]\n",
      "[[0.8486748  0.08617725 0.05149264 0.00880977 0.00484552]]\n",
      "[[0.8521694  0.07702263 0.05599374 0.01000177 0.00481258]]\n"
     ]
    },
    {
     "name": "stderr",
     "output_type": "stream",
     "text": [
      "1348it [01:43, 12.05it/s]"
     ]
    },
    {
     "name": "stdout",
     "output_type": "stream",
     "text": [
      "[[0.8516396  0.08216203 0.05209042 0.00943007 0.00467783]]\n",
      "[[0.8535957  0.08113946 0.05244476 0.00818429 0.00463586]]\n",
      "[[0.8455138  0.09007095 0.05114666 0.00901494 0.00425368]]\n"
     ]
    },
    {
     "name": "stderr",
     "output_type": "stream",
     "text": [
      "1350it [01:43, 11.40it/s]"
     ]
    },
    {
     "name": "stdout",
     "output_type": "stream",
     "text": [
      "[[0.84306043 0.08632283 0.05606266 0.01006463 0.00448949]]\n",
      "[[0.8329548  0.09195415 0.05940597 0.01036423 0.00532086]]\n"
     ]
    },
    {
     "name": "stderr",
     "output_type": "stream",
     "text": [
      "1355it [01:43, 13.16it/s]"
     ]
    },
    {
     "name": "stdout",
     "output_type": "stream",
     "text": [
      "[[0.8474282  0.08592502 0.05275013 0.00953898 0.00435762]]\n",
      "[[0.85221785 0.08114821 0.05440824 0.00816543 0.0040602 ]]\n",
      "[[0.84202886 0.08978536 0.05485864 0.00902437 0.0043027 ]]\n",
      "[[0.84180796 0.0886922  0.05545377 0.00939519 0.00465086]]\n"
     ]
    },
    {
     "name": "stderr",
     "output_type": "stream",
     "text": [
      "1357it [01:44, 10.14it/s]"
     ]
    },
    {
     "name": "stdout",
     "output_type": "stream",
     "text": [
      "[[0.84529287 0.08778279 0.05256248 0.00958994 0.0047719 ]]\n",
      "[[0.8453587  0.08307403 0.05680279 0.0100153  0.00474909]]\n",
      "[[0.8465507  0.08194055 0.05738232 0.00960359 0.00452292]]\n"
     ]
    },
    {
     "name": "stderr",
     "output_type": "stream",
     "text": [
      "1359it [01:44, 11.75it/s]"
     ]
    },
    {
     "name": "stdout",
     "output_type": "stream",
     "text": [
      "[[0.8367674  0.09106182 0.05723664 0.00999155 0.00494266]]\n",
      "[[0.85229045 0.08306732 0.05252529 0.00790978 0.00420714]]\n",
      "[[0.84072006 0.09127599 0.05424821 0.00915109 0.00460465]]\n"
     ]
    },
    {
     "name": "stderr",
     "output_type": "stream",
     "text": [
      "1365it [01:44, 13.60it/s]"
     ]
    },
    {
     "name": "stdout",
     "output_type": "stream",
     "text": [
      "[[0.8542617  0.08226785 0.05068298 0.00879999 0.00398751]]\n",
      "[[0.83767045 0.09030743 0.05823161 0.0090675  0.004723  ]]\n",
      "[[0.84989095 0.08431618 0.05311844 0.00850387 0.00417051]]\n",
      "[[0.846401   0.08731229 0.05217126 0.00934339 0.00477213]]\n",
      "[[0.8550675  0.08493797 0.0474121  0.00845788 0.00412454]]\n"
     ]
    },
    {
     "name": "stderr",
     "output_type": "stream",
     "text": [
      "1368it [01:45, 12.22it/s]"
     ]
    },
    {
     "name": "stdout",
     "output_type": "stream",
     "text": [
      "[[0.8429126  0.08918831 0.05372773 0.00969152 0.00447982]]\n",
      "[[0.84965587 0.08358109 0.05277586 0.00933339 0.00465388]]\n"
     ]
    },
    {
     "name": "stderr",
     "output_type": "stream",
     "text": [
      "1370it [01:45, 13.36it/s]"
     ]
    },
    {
     "name": "stdout",
     "output_type": "stream",
     "text": [
      "[[0.83511907 0.09374361 0.05721636 0.00934662 0.00457438]]\n",
      "[[0.84618574 0.08391775 0.05599748 0.00923608 0.00466292]]\n",
      "[[0.85497606 0.08174177 0.05025239 0.008807   0.00422278]]\n",
      "[[0.84815305 0.09047155 0.04965512 0.00746682 0.00425342]]\n"
     ]
    },
    {
     "name": "stderr",
     "output_type": "stream",
     "text": [
      "1375it [01:45, 13.65it/s]"
     ]
    },
    {
     "name": "stdout",
     "output_type": "stream",
     "text": [
      "[[0.84962136 0.08401246 0.05224593 0.00937423 0.00474615]]\n",
      "[[0.84657776 0.08270136 0.05706487 0.00926362 0.00439231]]\n",
      "[[0.8412502  0.08746513 0.05738382 0.00942351 0.00447734]]\n",
      "[[0.84590966 0.0890839  0.05137575 0.00899998 0.00463071]]\n",
      "[[0.84952384 0.08611209 0.05027683 0.00930966 0.00477753]]\n"
     ]
    },
    {
     "name": "stderr",
     "output_type": "stream",
     "text": [
      "1381it [01:45, 16.66it/s]"
     ]
    },
    {
     "name": "stdout",
     "output_type": "stream",
     "text": [
      "[[0.85065436 0.08279635 0.05248056 0.00916736 0.00490145]]\n",
      "[[0.8425628  0.08622216 0.05725257 0.00903483 0.0049277 ]]\n",
      "[[0.8453579  0.08495931 0.05604629 0.00905786 0.00457866]]\n",
      "[[0.8524372  0.08205599 0.05335407 0.00805127 0.00410138]]\n"
     ]
    },
    {
     "name": "stderr",
     "output_type": "stream",
     "text": [
      "1385it [01:46, 17.20it/s]"
     ]
    },
    {
     "name": "stdout",
     "output_type": "stream",
     "text": [
      "[[0.8358492  0.0862756  0.06430692 0.00913366 0.00443466]]\n",
      "[[0.8424308  0.09064467 0.05287582 0.00922498 0.00482387]]\n",
      "[[0.82338285 0.09328973 0.06622197 0.01155977 0.00554562]]\n",
      "[[0.8525615  0.08126245 0.05167552 0.00970452 0.00479601]]\n",
      "[[0.84610355 0.08568657 0.054447   0.00910611 0.00465681]]\n"
     ]
    },
    {
     "name": "stderr",
     "output_type": "stream",
     "text": [
      "1387it [01:46, 17.81it/s]"
     ]
    },
    {
     "name": "stdout",
     "output_type": "stream",
     "text": [
      "[[0.86316097 0.07776555 0.04732141 0.00772078 0.00403128]]\n",
      "[[0.8480762  0.08592379 0.05174129 0.00950592 0.00475276]]\n"
     ]
    },
    {
     "name": "stderr",
     "output_type": "stream",
     "text": [
      "1392it [01:46, 15.95it/s]"
     ]
    },
    {
     "name": "stdout",
     "output_type": "stream",
     "text": [
      "[[0.850187   0.08500909 0.05175006 0.00866487 0.00438897]]\n",
      "[[0.8489585  0.08788209 0.05097414 0.00813823 0.00404708]]\n",
      "[[0.8490133  0.08681256 0.05061878 0.00931602 0.00423929]]\n",
      "[[0.8519781  0.08464325 0.05113649 0.0082766  0.00396543]]\n"
     ]
    },
    {
     "name": "stderr",
     "output_type": "stream",
     "text": [
      "1394it [01:46, 15.88it/s]"
     ]
    },
    {
     "name": "stdout",
     "output_type": "stream",
     "text": [
      "[[0.8313965  0.09039742 0.06457493 0.00913096 0.00450024]]\n",
      "[[0.8458257  0.08562452 0.05485594 0.00917451 0.00451937]]\n",
      "[[0.8510257  0.08399919 0.05112727 0.00915314 0.00469469]]\n"
     ]
    },
    {
     "name": "stderr",
     "output_type": "stream",
     "text": [
      "1399it [01:47, 12.25it/s]"
     ]
    },
    {
     "name": "stdout",
     "output_type": "stream",
     "text": [
      "[[0.8489071  0.08507814 0.05183602 0.00945736 0.00472138]]\n",
      "[[0.8567625  0.0843399  0.04643208 0.00843521 0.0040303 ]]\n",
      "[[0.840343   0.09168544 0.05494585 0.00855601 0.00446971]]\n",
      "[[0.84694105 0.0857908  0.05319593 0.00906235 0.00500992]]\n"
     ]
    },
    {
     "name": "stderr",
     "output_type": "stream",
     "text": [
      "1401it [01:47, 11.18it/s]"
     ]
    },
    {
     "name": "stdout",
     "output_type": "stream",
     "text": [
      "[[0.8598945  0.07876588 0.04921117 0.00812678 0.00400171]]\n",
      "[[0.85356784 0.08038058 0.0526053  0.00866399 0.00478225]]\n",
      "[[0.8566291  0.07341829 0.0563335  0.00938257 0.00423653]]\n"
     ]
    },
    {
     "name": "stderr",
     "output_type": "stream",
     "text": [
      "1405it [01:47, 10.84it/s]"
     ]
    },
    {
     "name": "stdout",
     "output_type": "stream",
     "text": [
      "[[0.8581264  0.07926631 0.05003066 0.00854247 0.00403416]]\n",
      "[[0.85484844 0.08077592 0.05126765 0.00866105 0.00444697]]\n",
      "[[0.83358526 0.08693314 0.06386781 0.01056714 0.0050467 ]]\n"
     ]
    },
    {
     "name": "stderr",
     "output_type": "stream",
     "text": [
      "1407it [01:48,  9.59it/s]"
     ]
    },
    {
     "name": "stdout",
     "output_type": "stream",
     "text": [
      "[[0.85006154 0.0832878  0.05262889 0.00942416 0.00459763]]\n",
      "[[0.845348   0.09157895 0.04984819 0.00912701 0.00409785]]\n"
     ]
    },
    {
     "name": "stderr",
     "output_type": "stream",
     "text": [
      "1409it [01:48,  8.39it/s]"
     ]
    },
    {
     "name": "stdout",
     "output_type": "stream",
     "text": [
      "[[0.8488726  0.08503918 0.05175466 0.00955042 0.00478317]]\n",
      "[[0.8322644  0.09304192 0.05925233 0.01014362 0.00529756]]\n",
      "[[0.8417811  0.08530251 0.05819773 0.00976973 0.00494888]]\n"
     ]
    },
    {
     "name": "stderr",
     "output_type": "stream",
     "text": [
      "1412it [01:48, 10.86it/s]"
     ]
    },
    {
     "name": "stdout",
     "output_type": "stream",
     "text": [
      "[[0.85963815 0.07933401 0.04873027 0.0081581  0.00413948]]\n",
      "[[0.8475365  0.08684581 0.05255422 0.00889654 0.00416697]]\n"
     ]
    },
    {
     "name": "stderr",
     "output_type": "stream",
     "text": [
      "1416it [01:48, 11.40it/s]"
     ]
    },
    {
     "name": "stdout",
     "output_type": "stream",
     "text": [
      "[[0.84569454 0.08616287 0.05409291 0.00947414 0.00457557]]\n",
      "[[0.85050195 0.08638597 0.04986562 0.00914676 0.00409961]]\n",
      "[[0.8399068  0.0877554  0.05990813 0.00838637 0.00404326]]\n",
      "[[0.844614   0.08772384 0.05432231 0.00863793 0.00470185]]\n"
     ]
    },
    {
     "name": "stderr",
     "output_type": "stream",
     "text": [
      "1419it [01:49, 11.93it/s]"
     ]
    },
    {
     "name": "stdout",
     "output_type": "stream",
     "text": [
      "[[0.8476011  0.08608484 0.05355759 0.00878674 0.00396973]]\n",
      "[[0.84956473 0.08621053 0.05079925 0.00916978 0.00425575]]\n",
      "[[0.8355296  0.08497721 0.06349982 0.01089062 0.00510275]]\n"
     ]
    },
    {
     "name": "stderr",
     "output_type": "stream",
     "text": [
      "1421it [01:49, 11.13it/s]"
     ]
    },
    {
     "name": "stdout",
     "output_type": "stream",
     "text": [
      "[[0.85119075 0.08196612 0.05415856 0.0083692  0.00431539]]\n",
      "[[0.8486924  0.08791924 0.04993818 0.00912485 0.00432538]]\n"
     ]
    },
    {
     "name": "stderr",
     "output_type": "stream",
     "text": [
      "1423it [01:49, 11.28it/s]"
     ]
    },
    {
     "name": "stdout",
     "output_type": "stream",
     "text": [
      "[[0.8082536  0.08898914 0.0844371  0.01207308 0.00624702]]\n",
      "[[0.846774   0.08659748 0.05232855 0.00953682 0.0047632 ]]\n"
     ]
    },
    {
     "name": "stderr",
     "output_type": "stream",
     "text": [
      "1425it [01:49, 10.16it/s]"
     ]
    },
    {
     "name": "stdout",
     "output_type": "stream",
     "text": [
      "[[0.83232397 0.09200235 0.06018251 0.01043755 0.00505359]]\n",
      "[[0.84811133 0.08540692 0.05270251 0.00936383 0.00441537]]\n",
      "[[0.8342102  0.08873294 0.06254693 0.00987467 0.00463528]]\n"
     ]
    },
    {
     "name": "stderr",
     "output_type": "stream",
     "text": [
      "1429it [01:50, 11.16it/s]"
     ]
    },
    {
     "name": "stdout",
     "output_type": "stream",
     "text": [
      "[[0.8522593  0.07989995 0.05342614 0.00936885 0.0050458 ]]\n",
      "[[0.8485511  0.08637661 0.05144953 0.00899151 0.00463129]]\n",
      "[[0.8468182  0.08217206 0.05753    0.00836865 0.00511112]]\n"
     ]
    },
    {
     "name": "stderr",
     "output_type": "stream",
     "text": [
      "1433it [01:50, 11.57it/s]"
     ]
    },
    {
     "name": "stdout",
     "output_type": "stream",
     "text": [
      "[[0.85582185 0.08029365 0.05044062 0.00889771 0.00454617]]\n",
      "[[0.85017425 0.08169132 0.05436276 0.00908516 0.0046866 ]]\n",
      "[[0.8496957  0.08473663 0.05298484 0.00841428 0.0041686 ]]\n",
      "[[0.84776634 0.08482189 0.05397764 0.00910602 0.0043281 ]]\n"
     ]
    },
    {
     "name": "stderr",
     "output_type": "stream",
     "text": [
      "1435it [01:50, 10.87it/s]"
     ]
    },
    {
     "name": "stdout",
     "output_type": "stream",
     "text": [
      "[[0.84374326 0.08807091 0.05483757 0.00896864 0.00437951]]\n",
      "[[0.82922816 0.09511741 0.06033675 0.01023634 0.00508141]]\n"
     ]
    },
    {
     "name": "stderr",
     "output_type": "stream",
     "text": [
      "1439it [01:50, 13.41it/s]"
     ]
    },
    {
     "name": "stdout",
     "output_type": "stream",
     "text": [
      "[[0.83707833 0.08069886 0.06654204 0.0109691  0.00471164]]\n",
      "[[0.8518747  0.08854037 0.04781155 0.00794196 0.00383128]]\n",
      "[[0.8342757  0.08573315 0.06444852 0.01052937 0.00501323]]\n",
      "[[0.82935286 0.09471254 0.06094018 0.01006828 0.00492616]]\n"
     ]
    },
    {
     "name": "stderr",
     "output_type": "stream",
     "text": [
      "1441it [01:51,  9.51it/s]"
     ]
    },
    {
     "name": "stdout",
     "output_type": "stream",
     "text": [
      "[[0.8494317  0.08443308 0.05213179 0.00919946 0.00480402]]\n",
      "[[0.83532035 0.08991033 0.06008614 0.0099389  0.00474433]]\n",
      "[[0.85219145 0.0828773  0.05189084 0.00869804 0.0043423 ]]\n"
     ]
    },
    {
     "name": "stderr",
     "output_type": "stream",
     "text": [
      "1445it [01:51,  9.34it/s]"
     ]
    },
    {
     "name": "stdout",
     "output_type": "stream",
     "text": [
      "[[0.84969395 0.08483134 0.05134292 0.00939545 0.00473624]]\n",
      "[[0.8485207  0.08576081 0.05228125 0.00891198 0.00452518]]\n",
      "[[0.8351454  0.08707462 0.0622953  0.01045972 0.00502497]]\n"
     ]
    },
    {
     "name": "stderr",
     "output_type": "stream",
     "text": [
      "1447it [01:51,  8.14it/s]"
     ]
    },
    {
     "name": "stdout",
     "output_type": "stream",
     "text": [
      "[[0.84523875 0.08567513 0.05473598 0.00967187 0.00467844]]\n",
      "[[0.84066284 0.08685961 0.05798462 0.0097642  0.0047287 ]]\n",
      "[[0.8521538  0.08364223 0.05179542 0.00847439 0.00393417]]\n"
     ]
    },
    {
     "name": "stderr",
     "output_type": "stream",
     "text": [
      "1450it [01:52, 10.61it/s]"
     ]
    },
    {
     "name": "stdout",
     "output_type": "stream",
     "text": [
      "[[0.84384704 0.0886237  0.05302076 0.00966307 0.00484549]]\n",
      "[[0.8493332  0.08257174 0.0541883  0.00903431 0.0048724 ]]\n",
      "[[0.84897506 0.0870456  0.05037665 0.00929135 0.00431127]]\n"
     ]
    },
    {
     "name": "stderr",
     "output_type": "stream",
     "text": [
      "1452it [01:52, 10.69it/s]"
     ]
    },
    {
     "name": "stdout",
     "output_type": "stream",
     "text": [
      "[[0.83799005 0.08626124 0.06067109 0.00978623 0.00529142]]\n",
      "[[0.84159935 0.09074326 0.05338753 0.00955107 0.00471874]]\n",
      "[[0.84902835 0.08366884 0.05339385 0.00936806 0.00454088]]\n"
     ]
    },
    {
     "name": "stderr",
     "output_type": "stream",
     "text": [
      "1458it [01:52, 13.01it/s]"
     ]
    },
    {
     "name": "stdout",
     "output_type": "stream",
     "text": [
      "[[0.83794373 0.08929063 0.05867602 0.00967722 0.00441236]]\n",
      "[[0.8551896  0.07955887 0.05263789 0.00826754 0.00434608]]\n",
      "[[0.8450307  0.08618803 0.05549767 0.00867323 0.00461037]]\n",
      "[[0.82840574 0.09475103 0.06262053 0.00961465 0.00460808]]\n"
     ]
    },
    {
     "name": "stderr",
     "output_type": "stream",
     "text": [
      "1462it [01:52, 14.65it/s]"
     ]
    },
    {
     "name": "stdout",
     "output_type": "stream",
     "text": [
      "[[0.84487927 0.0801322  0.06289759 0.00794659 0.00414433]]\n",
      "[[0.84348065 0.09115807 0.05287874 0.00837358 0.00410897]]\n",
      "[[0.8514491  0.08160178 0.05423864 0.00852431 0.00418629]]\n",
      "[[0.8530377  0.08258647 0.05157488 0.00846868 0.00433232]]\n",
      "[[0.84524536 0.08731456 0.05389469 0.00911443 0.00443101]]\n"
     ]
    },
    {
     "name": "stderr",
     "output_type": "stream",
     "text": [
      "1464it [01:53, 12.58it/s]"
     ]
    },
    {
     "name": "stdout",
     "output_type": "stream",
     "text": [
      "[[0.84870905 0.08517458 0.05212386 0.0093178  0.00467474]]\n",
      "[[0.8447714  0.09024963 0.05232077 0.00871856 0.00393959]]\n"
     ]
    },
    {
     "name": "stderr",
     "output_type": "stream",
     "text": [
      "1468it [01:53, 11.94it/s]"
     ]
    },
    {
     "name": "stdout",
     "output_type": "stream",
     "text": [
      "[[0.84849906 0.08508492 0.05208064 0.00955957 0.00477582]]\n",
      "[[0.84087557 0.0869885  0.05768845 0.00967822 0.00476924]]\n",
      "[[0.82875896 0.09359819 0.06345785 0.00968448 0.00450043]]\n",
      "[[0.85297567 0.08382449 0.05056606 0.00818519 0.00444859]]\n"
     ]
    },
    {
     "name": "stderr",
     "output_type": "stream",
     "text": [
      "1470it [01:53, 11.56it/s]"
     ]
    },
    {
     "name": "stdout",
     "output_type": "stream",
     "text": [
      "[[0.8357706  0.08695857 0.06197631 0.01033301 0.00496142]]\n",
      "[[0.84780884 0.08426299 0.05412095 0.00955441 0.00425292]]\n"
     ]
    },
    {
     "name": "stderr",
     "output_type": "stream",
     "text": [
      "1475it [01:54, 11.90it/s]"
     ]
    },
    {
     "name": "stdout",
     "output_type": "stream",
     "text": [
      "[[0.84601676 0.08205751 0.05739641 0.00976134 0.00476802]]\n",
      "[[0.8635311  0.07467047 0.0495024  0.00825948 0.00403648]]\n",
      "[[0.84150445 0.0874785  0.05723944 0.0092618  0.00451579]]\n",
      "[[0.8510317  0.0804877  0.05575638 0.00854181 0.00418239]]\n",
      "[[0.8528736  0.08316119 0.05176315 0.00796533 0.00423684]]\n"
     ]
    },
    {
     "name": "stderr",
     "output_type": "stream",
     "text": [
      "1479it [01:54, 14.44it/s]"
     ]
    },
    {
     "name": "stdout",
     "output_type": "stream",
     "text": [
      "[[0.84177256 0.09079542 0.05303782 0.00967237 0.0047217 ]]\n",
      "[[0.8488565  0.08720966 0.05006742 0.00893912 0.00492733]]\n",
      "[[0.84987724 0.08170816 0.05553428 0.00875538 0.00412495]]\n",
      "[[0.8574437  0.07754617 0.05144404 0.00881894 0.00474719]]\n"
     ]
    },
    {
     "name": "stderr",
     "output_type": "stream",
     "text": [
      "1483it [01:54, 16.58it/s]"
     ]
    },
    {
     "name": "stdout",
     "output_type": "stream",
     "text": [
      "[[0.8494646  0.0818104  0.05473024 0.00969639 0.00429833]]\n",
      "[[0.84351337 0.08684313 0.05592557 0.00911581 0.00460216]]\n",
      "[[0.85154796 0.08033443 0.05500225 0.00821456 0.00490092]]\n"
     ]
    },
    {
     "name": "stderr",
     "output_type": "stream",
     "text": [
      "1485it [01:54, 11.48it/s]"
     ]
    },
    {
     "name": "stdout",
     "output_type": "stream",
     "text": [
      "[[0.83892715 0.08468898 0.0612369  0.0102116  0.0049354 ]]\n",
      "[[0.85025084 0.08418302 0.05164769 0.00922261 0.00469584]]\n"
     ]
    },
    {
     "name": "stderr",
     "output_type": "stream",
     "text": [
      "1490it [01:55, 15.14it/s]"
     ]
    },
    {
     "name": "stdout",
     "output_type": "stream",
     "text": [
      "[[0.81886935 0.09177329 0.07314944 0.01127248 0.00493544]]\n",
      "[[0.85374063 0.08310317 0.04957112 0.0088634  0.00472159]]\n",
      "[[0.84049404 0.08733712 0.0583763  0.00922744 0.00456508]]\n",
      "[[0.84921503 0.08391521 0.05327161 0.00919292 0.00440522]]\n",
      "[[0.8505589  0.08169167 0.05479392 0.00844528 0.00451032]]\n"
     ]
    },
    {
     "name": "stderr",
     "output_type": "stream",
     "text": [
      "1492it [01:55, 13.43it/s]"
     ]
    },
    {
     "name": "stdout",
     "output_type": "stream",
     "text": [
      "[[0.84137315 0.08886825 0.05588078 0.00947944 0.00439829]]\n",
      "[[0.8469323  0.08514675 0.05384618 0.00919398 0.00488069]]\n",
      "[[0.84984803 0.08310105 0.05281466 0.00972755 0.00450865]]\n"
     ]
    },
    {
     "name": "stderr",
     "output_type": "stream",
     "text": [
      "1496it [01:55, 12.79it/s]"
     ]
    },
    {
     "name": "stdout",
     "output_type": "stream",
     "text": [
      "[[0.83547485 0.08702081 0.06236426 0.010153   0.00498698]]\n",
      "[[0.8302774  0.09111076 0.06496189 0.00926686 0.00438309]]\n",
      "[[0.8513246  0.08492673 0.05079849 0.00879821 0.00415193]]\n",
      "[[0.8507442  0.08612774 0.0497494  0.00868671 0.00469198]]\n"
     ]
    },
    {
     "name": "stderr",
     "output_type": "stream",
     "text": [
      "1501it [01:55, 15.45it/s]"
     ]
    },
    {
     "name": "stdout",
     "output_type": "stream",
     "text": [
      "[[0.83854544 0.0885616  0.06060072 0.00816067 0.00413157]]\n",
      "[[0.84843624 0.08687396 0.05216746 0.00843243 0.00408982]]\n",
      "[[0.850851   0.08577766 0.05014263 0.00885457 0.00437416]]\n",
      "[[0.8450164  0.08472908 0.05548183 0.01003336 0.00473927]]\n",
      "[[0.8293511  0.08635101 0.06931808 0.01010136 0.00487837]]\n"
     ]
    },
    {
     "name": "stderr",
     "output_type": "stream",
     "text": [
      "1503it [01:56, 16.34it/s]"
     ]
    },
    {
     "name": "stdout",
     "output_type": "stream",
     "text": [
      "[[0.85195434 0.08446414 0.04979347 0.00964031 0.00414778]]\n",
      "[[0.8418766  0.08701929 0.05623202 0.01005687 0.00481511]]\n"
     ]
    },
    {
     "name": "stderr",
     "output_type": "stream",
     "text": [
      "1507it [01:56, 14.19it/s]"
     ]
    },
    {
     "name": "stdout",
     "output_type": "stream",
     "text": [
      "[[0.8625301  0.07417106 0.0523582  0.00708883 0.00385184]]\n",
      "[[0.84428984 0.08531291 0.05649159 0.00904295 0.0048628 ]]\n",
      "[[0.8323359  0.09341592 0.06127826 0.00883469 0.00413527]]\n",
      "[[0.8509291  0.08651045 0.04948467 0.00880717 0.0042686 ]]\n"
     ]
    },
    {
     "name": "stderr",
     "output_type": "stream",
     "text": [
      "1510it [01:56, 16.10it/s]"
     ]
    },
    {
     "name": "stdout",
     "output_type": "stream",
     "text": [
      "[[0.8492623  0.08500633 0.05264722 0.0087264  0.0043578 ]]\n",
      "[[0.8375634  0.09279527 0.05509356 0.00955176 0.00499594]]\n",
      "[[0.8607014  0.08105796 0.04657285 0.00781073 0.00385705]]\n"
     ]
    },
    {
     "name": "stderr",
     "output_type": "stream",
     "text": [
      "1514it [01:56, 12.61it/s]"
     ]
    },
    {
     "name": "stdout",
     "output_type": "stream",
     "text": [
      "[[0.845465   0.08217052 0.05828145 0.00949757 0.00458544]]\n",
      "[[0.8254887  0.09168807 0.0674734  0.01037853 0.00497132]]\n",
      "[[0.8338664  0.08457641 0.06593109 0.01057098 0.00505505]]\n"
     ]
    },
    {
     "name": "stderr",
     "output_type": "stream",
     "text": [
      "1516it [01:57, 12.10it/s]"
     ]
    },
    {
     "name": "stdout",
     "output_type": "stream",
     "text": [
      "[[0.8449156  0.08808775 0.05400548 0.00883771 0.0041535 ]]\n",
      "[[0.8455571  0.0813     0.05915233 0.00976823 0.00422226]]\n",
      "[[0.8492086  0.08465204 0.05276372 0.00911006 0.00426566]]\n"
     ]
    },
    {
     "name": "stderr",
     "output_type": "stream",
     "text": [
      "1521it [01:57, 15.79it/s]"
     ]
    },
    {
     "name": "stdout",
     "output_type": "stream",
     "text": [
      "[[0.85350966 0.08360509 0.05054875 0.00800941 0.00432705]]\n",
      "[[0.8511594  0.08188222 0.05463903 0.00830552 0.0040138 ]]\n",
      "[[0.8535205  0.08142425 0.05267442 0.00846892 0.0039119 ]]\n",
      "[[0.8539182  0.08141856 0.05173969 0.00851072 0.00441281]]\n",
      "[[0.83217    0.09748086 0.05624378 0.00938776 0.00471763]]\n"
     ]
    },
    {
     "name": "stderr",
     "output_type": "stream",
     "text": [
      "1525it [01:57, 16.48it/s]"
     ]
    },
    {
     "name": "stdout",
     "output_type": "stream",
     "text": [
      "[[0.82605857 0.0971778  0.06197747 0.00984573 0.00494039]]\n",
      "[[0.8478592  0.08602389 0.05236445 0.00912479 0.0046277 ]]\n",
      "[[0.84336656 0.08679572 0.05584063 0.0094651  0.00453206]]\n",
      "[[0.84564924 0.08494169 0.05569955 0.00931093 0.00439862]]\n"
     ]
    },
    {
     "name": "stderr",
     "output_type": "stream",
     "text": [
      "1527it [01:57, 13.98it/s]"
     ]
    },
    {
     "name": "stdout",
     "output_type": "stream",
     "text": [
      "[[0.84901637 0.07991105 0.05788522 0.00894044 0.00424694]]\n",
      "[[0.84496677 0.08840051 0.05266133 0.00905385 0.00491752]]\n"
     ]
    },
    {
     "name": "stderr",
     "output_type": "stream",
     "text": [
      "1531it [01:58, 12.95it/s]"
     ]
    },
    {
     "name": "stdout",
     "output_type": "stream",
     "text": [
      "[[0.85666996 0.07952174 0.05013004 0.00912679 0.00455145]]\n",
      "[[0.84871584 0.08893329 0.04997445 0.0082968  0.00407964]]\n",
      "[[0.84743035 0.08601215 0.0538433  0.00838317 0.00433103]]\n"
     ]
    },
    {
     "name": "stderr",
     "output_type": "stream",
     "text": [
      "1533it [01:58, 10.49it/s]"
     ]
    },
    {
     "name": "stdout",
     "output_type": "stream",
     "text": [
      "[[0.8371395  0.08704427 0.06044365 0.01069007 0.00468253]]\n",
      "[[0.8403169  0.08445581 0.06067943 0.0100166  0.00453121]]\n",
      "[[0.84215474 0.08975685 0.05347371 0.00988663 0.00472805]]\n"
     ]
    },
    {
     "name": "stderr",
     "output_type": "stream",
     "text": [
      "1537it [01:58, 10.35it/s]"
     ]
    },
    {
     "name": "stdout",
     "output_type": "stream",
     "text": [
      "[[0.83901435 0.08631649 0.06030122 0.00995299 0.00441505]]\n",
      "[[0.83812326 0.088031   0.05893015 0.01016396 0.00475165]]\n",
      "[[0.84109384 0.08715783 0.05780822 0.00913959 0.00480052]]\n"
     ]
    },
    {
     "name": "stderr",
     "output_type": "stream",
     "text": [
      "1541it [01:59, 12.29it/s]"
     ]
    },
    {
     "name": "stdout",
     "output_type": "stream",
     "text": [
      "[[0.83717835 0.0895869  0.05984594 0.00893613 0.0044528 ]]\n",
      "[[0.8509627  0.08407756 0.05199841 0.00878184 0.0041794 ]]\n",
      "[[0.8432487  0.08900627 0.05350773 0.0095696  0.00466774]]\n",
      "[[0.83295876 0.08751079 0.06515715 0.00959762 0.00477554]]\n"
     ]
    },
    {
     "name": "stderr",
     "output_type": "stream",
     "text": [
      "1543it [01:59, 10.82it/s]"
     ]
    },
    {
     "name": "stdout",
     "output_type": "stream",
     "text": [
      "[[0.84923023 0.08327513 0.05541602 0.00786185 0.0042168 ]]\n",
      "[[0.8481057  0.0839495  0.0540296  0.0093182  0.00459689]]\n"
     ]
    },
    {
     "name": "stderr",
     "output_type": "stream",
     "text": [
      "1545it [01:59, 10.38it/s]"
     ]
    },
    {
     "name": "stdout",
     "output_type": "stream",
     "text": [
      "[[0.85139304 0.08113863 0.05393776 0.00836902 0.00516158]]\n",
      "[[0.8428816  0.08932429 0.05346985 0.0095787  0.00474558]]\n"
     ]
    },
    {
     "name": "stderr",
     "output_type": "stream",
     "text": [
      "1548it [01:59, 11.22it/s]"
     ]
    },
    {
     "name": "stdout",
     "output_type": "stream",
     "text": [
      "[[0.8473112  0.08609011 0.05323174 0.0091269  0.00424004]]\n",
      "[[0.8398599  0.09036814 0.055679   0.00950084 0.00459211]]\n",
      "[[0.8380167  0.08831009 0.05803529 0.01029451 0.00534347]]\n"
     ]
    },
    {
     "name": "stderr",
     "output_type": "stream",
     "text": [
      "1550it [01:59, 10.84it/s]"
     ]
    },
    {
     "name": "stdout",
     "output_type": "stream",
     "text": [
      "[[0.8362456  0.08899704 0.06044973 0.00930921 0.00499835]]\n",
      "[[0.8374788  0.08846074 0.06103689 0.00913518 0.00388835]]\n"
     ]
    },
    {
     "name": "stderr",
     "output_type": "stream",
     "text": [
      "1552it [02:00, 11.71it/s]"
     ]
    },
    {
     "name": "stdout",
     "output_type": "stream",
     "text": [
      "[[0.84351856 0.07775241 0.06880838 0.00658137 0.00333926]]\n",
      "[[0.8375266  0.094526   0.05366899 0.00954981 0.00472861]]\n",
      "[[0.85293585 0.08158919 0.05306851 0.00803848 0.00436796]]\n"
     ]
    },
    {
     "name": "stderr",
     "output_type": "stream",
     "text": [
      "1557it [02:00, 14.11it/s]"
     ]
    },
    {
     "name": "stdout",
     "output_type": "stream",
     "text": [
      "[[0.8138242  0.09966963 0.06905324 0.01191706 0.00553593]]\n",
      "[[0.8506864  0.07874055 0.05582846 0.01005398 0.00469058]]\n",
      "[[0.8486958  0.08366984 0.05384007 0.00896347 0.00483074]]\n",
      "[[0.84345657 0.08964048 0.05279286 0.00947034 0.00463977]]\n",
      "[[0.84934205 0.08251381 0.05523891 0.00856452 0.00434065]]\n"
     ]
    },
    {
     "name": "stderr",
     "output_type": "stream",
     "text": [
      "1561it [02:00, 14.55it/s]"
     ]
    },
    {
     "name": "stdout",
     "output_type": "stream",
     "text": [
      "[[0.8364999  0.08841871 0.06167337 0.00849424 0.00491376]]\n",
      "[[0.84592044 0.08782358 0.05263481 0.00912671 0.00449449]]\n",
      "[[0.84987104 0.08564644 0.05028884 0.00925793 0.00493578]]\n",
      "[[0.8485872  0.08516904 0.05196759 0.00953713 0.00473899]]\n"
     ]
    },
    {
     "name": "stderr",
     "output_type": "stream",
     "text": [
      "1565it [02:01,  9.37it/s]"
     ]
    },
    {
     "name": "stdout",
     "output_type": "stream",
     "text": [
      "[[0.8323713  0.08983392 0.0618608  0.01090719 0.00502685]]\n",
      "[[0.854079   0.08191651 0.05167232 0.00844528 0.00388689]]\n",
      "[[0.8301999  0.09122984 0.06368515 0.0100347  0.00485038]]\n",
      "[[0.85007465 0.08319057 0.05269502 0.00938585 0.00465391]]\n"
     ]
    },
    {
     "name": "stderr",
     "output_type": "stream",
     "text": [
      "1569it [02:01, 12.49it/s]"
     ]
    },
    {
     "name": "stdout",
     "output_type": "stream",
     "text": [
      "[[0.8443974  0.08347457 0.05750858 0.00984172 0.0047777 ]]\n",
      "[[0.854435   0.0848553  0.04800769 0.00830399 0.00439797]]\n",
      "[[0.8440158  0.08991984 0.05292488 0.00880019 0.00433929]]\n",
      "[[0.8497216  0.08463404 0.05237899 0.00896079 0.00430447]]\n"
     ]
    },
    {
     "name": "stderr",
     "output_type": "stream",
     "text": [
      "1571it [02:01, 11.91it/s]"
     ]
    },
    {
     "name": "stdout",
     "output_type": "stream",
     "text": [
      "[[0.83651197 0.08617473 0.06210607 0.01052837 0.00467889]]\n",
      "[[0.8331921  0.0901577  0.06421529 0.00816698 0.00426797]]\n"
     ]
    },
    {
     "name": "stderr",
     "output_type": "stream",
     "text": [
      "1576it [02:02, 13.40it/s]"
     ]
    },
    {
     "name": "stdout",
     "output_type": "stream",
     "text": [
      "[[0.8454262  0.08266247 0.05817499 0.00960208 0.00413434]]\n",
      "[[0.84827304 0.08274856 0.05444648 0.00918358 0.00534835]]\n",
      "[[0.8460139  0.09171568 0.04915928 0.00869702 0.00441414]]\n",
      "[[0.85372204 0.08291482 0.05105652 0.00825004 0.0040565 ]]\n",
      "[[0.8458063  0.0889043  0.05256078 0.00877659 0.00395207]]\n"
     ]
    },
    {
     "name": "stderr",
     "output_type": "stream",
     "text": [
      "1582it [02:02, 17.13it/s]"
     ]
    },
    {
     "name": "stdout",
     "output_type": "stream",
     "text": [
      "[[0.84444404 0.08840545 0.05361051 0.00884333 0.00469678]]\n",
      "[[0.84885556 0.08388709 0.0533641  0.00896238 0.00493085]]\n",
      "[[0.84157884 0.09001028 0.05431831 0.0095581  0.00453449]]\n",
      "[[0.83842283 0.09322835 0.05404815 0.00944288 0.00485782]]\n",
      "[[0.8397259  0.08705018 0.05843611 0.00974045 0.00504742]]\n"
     ]
    },
    {
     "name": "stderr",
     "output_type": "stream",
     "text": [
      "1585it [02:02, 18.18it/s]"
     ]
    },
    {
     "name": "stdout",
     "output_type": "stream",
     "text": [
      "[[0.8454084  0.08791086 0.05280485 0.00929388 0.00458194]]\n",
      "[[0.84640455 0.08721254 0.05278362 0.00892105 0.0046783 ]]\n",
      "[[0.8585131  0.07930595 0.05009637 0.00794533 0.00413922]]\n"
     ]
    },
    {
     "name": "stderr",
     "output_type": "stream",
     "text": [
      "1590it [02:02, 16.51it/s]"
     ]
    },
    {
     "name": "stdout",
     "output_type": "stream",
     "text": [
      "[[0.8579701  0.08067976 0.04997102 0.00791905 0.00346006]]\n",
      "[[0.84622926 0.08640807 0.05391591 0.00869343 0.00475329]]\n",
      "[[0.84564346 0.08657952 0.05454004 0.00865319 0.00458378]]\n",
      "[[0.84034836 0.09010322 0.05579711 0.00897288 0.00477847]]\n",
      "[[0.83838344 0.09144182 0.0557402  0.00972354 0.00471106]]\n",
      "[[0.851499   0.08384576 0.0515663  0.00887496 0.00421397]]\n",
      "[[0.8465389  0.08764895 0.05180743 0.00966397 0.00434076]]\n"
     ]
    },
    {
     "name": "stderr",
     "output_type": "stream",
     "text": [
      "1595it [02:03, 13.29it/s]"
     ]
    },
    {
     "name": "stdout",
     "output_type": "stream",
     "text": [
      "[[0.8502089  0.08334277 0.05262775 0.0092766  0.00454398]]\n",
      "[[0.8392294  0.08390265 0.06168311 0.01028128 0.00490351]]\n",
      "[[0.85247594 0.08218028 0.05267312 0.00859322 0.0040774 ]]\n"
     ]
    },
    {
     "name": "stderr",
     "output_type": "stream",
     "text": [
      "1597it [02:03, 12.33it/s]"
     ]
    },
    {
     "name": "stdout",
     "output_type": "stream",
     "text": [
      "[[0.8415525  0.0863192  0.05721659 0.01002924 0.00488247]]\n",
      "[[0.8521359  0.07917459 0.05553119 0.00881106 0.00434721]]\n",
      "[[0.8463503  0.0829122  0.05693686 0.00967569 0.00412491]]\n"
     ]
    },
    {
     "name": "stderr",
     "output_type": "stream",
     "text": [
      "1602it [02:03, 13.98it/s]"
     ]
    },
    {
     "name": "stdout",
     "output_type": "stream",
     "text": [
      "[[0.8525449  0.08216648 0.0529132  0.00845937 0.00391603]]\n",
      "[[0.8468588  0.08805396 0.0527132  0.00827844 0.00409562]]\n",
      "[[0.84246206 0.09081686 0.05250999 0.00952752 0.00468363]]\n",
      "[[0.8421139  0.09056828 0.05351289 0.00928951 0.00451544]]\n",
      "[[0.8449038  0.08694004 0.05529359 0.00860304 0.0042596 ]]\n"
     ]
    },
    {
     "name": "stderr",
     "output_type": "stream",
     "text": [
      "1607it [02:04, 15.86it/s]"
     ]
    },
    {
     "name": "stdout",
     "output_type": "stream",
     "text": [
      "[[0.8457491  0.08536451 0.05446075 0.00938285 0.00504283]]\n",
      "[[0.8463355  0.08564308 0.05409513 0.00928759 0.00463881]]\n",
      "[[0.8559753  0.078802   0.05129361 0.0087893  0.00513991]]\n",
      "[[0.82366645 0.09736158 0.06446061 0.00983923 0.00467209]]\n"
     ]
    },
    {
     "name": "stderr",
     "output_type": "stream",
     "text": [
      "1609it [02:04, 13.89it/s]"
     ]
    },
    {
     "name": "stdout",
     "output_type": "stream",
     "text": [
      "[[0.8500147  0.0862158  0.05106634 0.00843453 0.00426859]]\n",
      "[[0.8416159  0.08757728 0.05733825 0.00917953 0.00428908]]\n",
      "[[0.8490966  0.08503684 0.05177727 0.00934448 0.00474493]]\n"
     ]
    },
    {
     "name": "stderr",
     "output_type": "stream",
     "text": [
      "1613it [02:04, 14.70it/s]"
     ]
    },
    {
     "name": "stdout",
     "output_type": "stream",
     "text": [
      "[[0.8272453  0.0823016  0.07515231 0.01103331 0.00426751]]\n",
      "[[0.83194536 0.09520878 0.05762431 0.0098724  0.00534912]]\n",
      "[[0.85188556 0.0839446  0.05136853 0.00844119 0.00436003]]\n"
     ]
    },
    {
     "name": "stderr",
     "output_type": "stream",
     "text": [
      "1615it [02:04, 11.89it/s]"
     ]
    },
    {
     "name": "stdout",
     "output_type": "stream",
     "text": [
      "[[0.8528689  0.08118876 0.05199101 0.00923233 0.00471894]]\n",
      "[[0.86176485 0.07914107 0.04904715 0.00654043 0.00350645]]\n",
      "[[0.8490965  0.08450206 0.05413904 0.00826305 0.00399944]]\n"
     ]
    },
    {
     "name": "stderr",
     "output_type": "stream",
     "text": [
      "1619it [02:05, 11.07it/s]"
     ]
    },
    {
     "name": "stdout",
     "output_type": "stream",
     "text": [
      "[[0.8208194  0.09352548 0.06852838 0.01130219 0.00582461]]\n",
      "[[0.8503604  0.07854032 0.05721258 0.00915251 0.00473421]]\n",
      "[[0.8351482  0.08879549 0.06070885 0.01033822 0.00500926]]\n"
     ]
    },
    {
     "name": "stderr",
     "output_type": "stream",
     "text": [
      "1621it [02:05, 10.63it/s]"
     ]
    },
    {
     "name": "stdout",
     "output_type": "stream",
     "text": [
      "[[0.85054535 0.08098744 0.05480178 0.0087544  0.00491102]]\n",
      "[[0.84277815 0.08664251 0.05641452 0.00950733 0.00465756]]\n"
     ]
    },
    {
     "name": "stderr",
     "output_type": "stream",
     "text": [
      "1623it [02:05,  9.19it/s]"
     ]
    },
    {
     "name": "stdout",
     "output_type": "stream",
     "text": [
      "[[0.8407686  0.08459672 0.05973248 0.01045325 0.00444894]]\n",
      "[[0.83357733 0.09036548 0.06120813 0.01013495 0.00471415]]\n"
     ]
    },
    {
     "name": "stderr",
     "output_type": "stream",
     "text": [
      "1625it [02:05, 10.86it/s]"
     ]
    },
    {
     "name": "stdout",
     "output_type": "stream",
     "text": [
      "[[0.8430908  0.082711   0.05810753 0.01074902 0.0053417 ]]\n",
      "[[0.85240006 0.08153025 0.05453981 0.00804434 0.00348561]]\n"
     ]
    },
    {
     "name": "stderr",
     "output_type": "stream",
     "text": [
      "1627it [02:06,  9.80it/s]"
     ]
    },
    {
     "name": "stdout",
     "output_type": "stream",
     "text": [
      "[[0.8458055  0.08077405 0.05952614 0.00917823 0.00471602]]\n",
      "[[0.8435158  0.08545576 0.05678017 0.00913768 0.00511052]]\n",
      "[[0.8528494  0.08040828 0.05275426 0.00930226 0.00468576]]\n"
     ]
    },
    {
     "name": "stderr",
     "output_type": "stream",
     "text": [
      "1629it [02:06, 10.98it/s]"
     ]
    },
    {
     "name": "stdout",
     "output_type": "stream",
     "text": [
      "[[0.84088403 0.09182803 0.05303728 0.00940135 0.00484927]]\n"
     ]
    },
    {
     "name": "stderr",
     "output_type": "stream",
     "text": [
      "1631it [02:06,  9.45it/s]"
     ]
    },
    {
     "name": "stdout",
     "output_type": "stream",
     "text": [
      "[[0.8385203  0.08469665 0.06128304 0.01048505 0.00501511]]\n",
      "[[0.84900635 0.08496953 0.05241976 0.00920728 0.004397  ]]\n",
      "[[0.8438924  0.08722807 0.0563064  0.0084165  0.00415657]]\n"
     ]
    },
    {
     "name": "stderr",
     "output_type": "stream",
     "text": [
      "1633it [02:06, 10.46it/s]"
     ]
    },
    {
     "name": "stdout",
     "output_type": "stream",
     "text": [
      "[[0.8494441  0.08331887 0.05352971 0.00901945 0.00468776]]\n",
      "[[0.856457   0.07957551 0.05161123 0.008404   0.00395231]]\n"
     ]
    },
    {
     "name": "stderr",
     "output_type": "stream",
     "text": [
      "1637it [02:07, 10.38it/s]"
     ]
    },
    {
     "name": "stdout",
     "output_type": "stream",
     "text": [
      "[[0.8351415  0.08804253 0.061179   0.01074362 0.00489342]]\n",
      "[[0.85909796 0.07622769 0.05234396 0.00844664 0.00388379]]\n",
      "[[0.8512204  0.0818638  0.05317951 0.00923585 0.00450045]]\n",
      "[[0.84980845 0.08315448 0.05313671 0.00925184 0.00464854]]\n"
     ]
    },
    {
     "name": "stderr",
     "output_type": "stream",
     "text": [
      "1641it [02:07, 10.14it/s]"
     ]
    },
    {
     "name": "stdout",
     "output_type": "stream",
     "text": [
      "[[0.848461   0.08124219 0.05517903 0.01031517 0.00480253]]\n",
      "[[0.8495582  0.08444405 0.05196277 0.00926521 0.00476975]]\n",
      "[[0.8082847  0.10569785 0.06921053 0.01131152 0.00549538]]\n"
     ]
    },
    {
     "name": "stderr",
     "output_type": "stream",
     "text": [
      "1643it [02:07, 11.12it/s]"
     ]
    },
    {
     "name": "stdout",
     "output_type": "stream",
     "text": [
      "[[0.8495415  0.08323792 0.05383561 0.00927109 0.00411387]]\n",
      "[[0.84892154 0.08688376 0.0518631  0.00856032 0.00377134]]\n"
     ]
    },
    {
     "name": "stderr",
     "output_type": "stream",
     "text": [
      "1645it [02:07,  8.79it/s]"
     ]
    },
    {
     "name": "stdout",
     "output_type": "stream",
     "text": [
      "[[0.8396343  0.0933395  0.05268908 0.00945937 0.00487781]]\n",
      "[[0.8475221  0.08357907 0.056382   0.00863385 0.00388309]]\n",
      "[[0.8508836  0.08528427 0.05056336 0.00881427 0.00445456]]\n",
      "[[0.84467494 0.08657213 0.05483033 0.00954808 0.00437455]]\n"
     ]
    },
    {
     "name": "stderr",
     "output_type": "stream",
     "text": [
      "1651it [02:08, 13.45it/s]"
     ]
    },
    {
     "name": "stdout",
     "output_type": "stream",
     "text": [
      "[[0.8416226  0.09290888 0.05221472 0.00906601 0.00418781]]\n",
      "[[0.8350726  0.09850643 0.05133374 0.00990775 0.00517949]]\n",
      "[[0.8522876  0.08086622 0.05252519 0.00948681 0.00483414]]\n",
      "[[0.85045266 0.08387604 0.05305691 0.00842409 0.00419033]]\n",
      "[[0.8556851  0.07894544 0.05245037 0.0087436  0.00417552]]\n"
     ]
    },
    {
     "name": "stderr",
     "output_type": "stream",
     "text": [
      "1656it [02:08, 16.23it/s]"
     ]
    },
    {
     "name": "stdout",
     "output_type": "stream",
     "text": [
      "[[0.8404648  0.09103742 0.05440324 0.00939763 0.00469698]]\n",
      "[[0.84720045 0.08313939 0.05640314 0.00868408 0.00457292]]\n",
      "[[0.8447018  0.08429338 0.05748896 0.00905633 0.00445956]]\n",
      "[[0.85445166 0.08387161 0.04901787 0.00838071 0.00427818]]\n"
     ]
    },
    {
     "name": "stderr",
     "output_type": "stream",
     "text": [
      "1661it [02:08, 14.85it/s]"
     ]
    },
    {
     "name": "stdout",
     "output_type": "stream",
     "text": [
      "[[0.8517646  0.08097155 0.05434428 0.00839817 0.00452142]]\n",
      "[[0.8434223  0.09024362 0.05217155 0.00956167 0.00460081]]\n",
      "[[0.8631756  0.08028573 0.04517297 0.00767182 0.00369381]]\n",
      "[[0.85190207 0.07970519 0.05563688 0.00872673 0.00402923]]\n",
      "[[0.8620414  0.07685893 0.04906493 0.00777389 0.0042608 ]]\n"
     ]
    },
    {
     "name": "stderr",
     "output_type": "stream",
     "text": [
      "1666it [02:09, 17.03it/s]"
     ]
    },
    {
     "name": "stdout",
     "output_type": "stream",
     "text": [
      "[[0.8492671  0.08580185 0.05237766 0.00837751 0.00417588]]\n",
      "[[0.8356419  0.09050499 0.0584364  0.01024393 0.00517273]]\n",
      "[[0.84465945 0.08745513 0.05413996 0.00888731 0.00485811]]\n",
      "[[0.84978056 0.08235409 0.0544394  0.00903679 0.00438919]]\n",
      "[[0.84938234 0.08584075 0.05079956 0.00951159 0.00446567]]\n"
     ]
    },
    {
     "name": "stderr",
     "output_type": "stream",
     "text": [
      "1668it [02:09, 13.13it/s]"
     ]
    },
    {
     "name": "stdout",
     "output_type": "stream",
     "text": [
      "[[0.83777356 0.08719206 0.06004924 0.01045254 0.00453262]]\n",
      "[[0.85480785 0.07876398 0.05347279 0.00862341 0.00433193]]\n"
     ]
    },
    {
     "name": "stderr",
     "output_type": "stream",
     "text": [
      "1670it [02:09, 10.69it/s]"
     ]
    },
    {
     "name": "stdout",
     "output_type": "stream",
     "text": [
      "[[0.83579034 0.0881683  0.06076536 0.01061178 0.00466414]]\n",
      "[[0.8490152  0.08490901 0.05334587 0.00831508 0.00441477]]\n",
      "[[0.8477785  0.08500312 0.05284254 0.01000271 0.00437314]]\n"
     ]
    },
    {
     "name": "stderr",
     "output_type": "stream",
     "text": [
      "1674it [02:09, 12.58it/s]"
     ]
    },
    {
     "name": "stdout",
     "output_type": "stream",
     "text": [
      "[[0.8360189  0.09115724 0.05911519 0.00931744 0.00439119]]\n",
      "[[0.8522704  0.08186272 0.05378961 0.00807141 0.00400582]]\n",
      "[[0.84705657 0.08518473 0.05511382 0.00842627 0.00421863]]\n",
      "[[0.8481439  0.08317699 0.05431132 0.00953402 0.00483376]]\n"
     ]
    },
    {
     "name": "stderr",
     "output_type": "stream",
     "text": [
      "1676it [02:10, 13.21it/s]"
     ]
    },
    {
     "name": "stdout",
     "output_type": "stream",
     "text": [
      "[[0.86244094 0.07523328 0.05108437 0.00738145 0.00385996]]\n",
      "[[0.84153426 0.09258038 0.05257082 0.00901115 0.00430338]]\n"
     ]
    },
    {
     "name": "stderr",
     "output_type": "stream",
     "text": [
      "1678it [02:10, 11.52it/s]"
     ]
    },
    {
     "name": "stdout",
     "output_type": "stream",
     "text": [
      "[[0.83733135 0.07887156 0.06977475 0.01012419 0.0038982 ]]\n",
      "[[0.8539249  0.08070312 0.05207592 0.00876931 0.0045268 ]]\n"
     ]
    },
    {
     "name": "stderr",
     "output_type": "stream",
     "text": [
      "1680it [02:10,  8.27it/s]"
     ]
    },
    {
     "name": "stdout",
     "output_type": "stream",
     "text": [
      "[[0.8538197  0.08122149 0.05251184 0.008537   0.00390988]]\n",
      "[[0.8392432  0.0883101  0.05826722 0.00948103 0.00469849]]\n"
     ]
    },
    {
     "name": "stderr",
     "output_type": "stream",
     "text": [
      "1684it [02:11, 10.15it/s]"
     ]
    },
    {
     "name": "stdout",
     "output_type": "stream",
     "text": [
      "[[0.85247415 0.08221648 0.05169206 0.00895053 0.00466677]]\n",
      "[[0.85425454 0.08179925 0.05113653 0.00882972 0.00398007]]\n",
      "[[0.84288204 0.08483719 0.05779647 0.00982894 0.00465542]]\n",
      "[[0.85371363 0.08194873 0.05097128 0.00897447 0.00439186]]\n"
     ]
    },
    {
     "name": "stderr",
     "output_type": "stream",
     "text": [
      "1688it [02:11,  9.52it/s]"
     ]
    },
    {
     "name": "stdout",
     "output_type": "stream",
     "text": [
      "[[0.84907156 0.08498869 0.05178937 0.00943662 0.00471378]]\n",
      "[[0.8415829  0.0895701  0.05442226 0.0103853  0.00403942]]\n",
      "[[0.8429801  0.08865467 0.05380757 0.00958802 0.00496967]]\n"
     ]
    },
    {
     "name": "stderr",
     "output_type": "stream",
     "text": [
      "1691it [02:11, 11.58it/s]"
     ]
    },
    {
     "name": "stdout",
     "output_type": "stream",
     "text": [
      "[[0.8484866  0.08319913 0.0547239  0.00905578 0.00453452]]\n",
      "[[0.849898   0.08067305 0.05675984 0.00851905 0.00415013]]\n",
      "[[0.8493882  0.08435714 0.05358545 0.00849294 0.00417626]]\n"
     ]
    },
    {
     "name": "stderr",
     "output_type": "stream",
     "text": [
      "1693it [02:11, 11.96it/s]"
     ]
    },
    {
     "name": "stdout",
     "output_type": "stream",
     "text": [
      "[[0.8318058  0.09568401 0.05770147 0.00993999 0.00486864]]\n",
      "[[0.8384723  0.08859716 0.05842137 0.00963386 0.00487528]]\n"
     ]
    },
    {
     "name": "stderr",
     "output_type": "stream",
     "text": [
      "1695it [02:12,  9.11it/s]"
     ]
    },
    {
     "name": "stdout",
     "output_type": "stream",
     "text": [
      "[[0.84824705 0.08561719 0.05208759 0.00930362 0.00474448]]\n",
      "[[0.8540104  0.08235809 0.0515848  0.00803159 0.00401517]]\n",
      "[[0.85303307 0.08203836 0.0527142  0.00844283 0.00377151]]\n",
      "[[0.84513766 0.0847116  0.05631649 0.00931242 0.00452188]]\n"
     ]
    },
    {
     "name": "stderr",
     "output_type": "stream",
     "text": [
      "1698it [02:12, 11.40it/s]"
     ]
    },
    {
     "name": "stdout",
     "output_type": "stream",
     "text": [
      "[[0.85048836 0.08305    0.05280953 0.00915518 0.00449686]]\n",
      "[[0.8421859  0.08909323 0.05473189 0.00940963 0.00457925]]\n"
     ]
    },
    {
     "name": "stderr",
     "output_type": "stream",
     "text": [
      "1700it [02:12, 10.83it/s]"
     ]
    },
    {
     "name": "stdout",
     "output_type": "stream",
     "text": [
      "[[0.84856576 0.08519466 0.05189689 0.00962999 0.00471269]]\n",
      "[[0.8482503  0.08593512 0.05253722 0.0089953  0.00428195]]\n"
     ]
    },
    {
     "name": "stderr",
     "output_type": "stream",
     "text": [
      "1705it [02:12, 12.61it/s]"
     ]
    },
    {
     "name": "stdout",
     "output_type": "stream",
     "text": [
      "[[0.8542437  0.08145294 0.05096107 0.00895078 0.00439152]]\n",
      "[[0.8504979  0.08478158 0.0516538  0.00850652 0.00456023]]\n",
      "[[0.85415006 0.0824092  0.04998352 0.00886975 0.00458739]]\n",
      "[[0.85301125 0.07897888 0.05365705 0.00951932 0.00483352]]\n"
     ]
    },
    {
     "name": "stderr",
     "output_type": "stream",
     "text": [
      "1707it [02:13, 11.86it/s]"
     ]
    },
    {
     "name": "stdout",
     "output_type": "stream",
     "text": [
      "[[0.8489061  0.08056919 0.05705206 0.0092915  0.00418118]]\n",
      "[[0.84378785 0.08930191 0.05304013 0.00914751 0.0047226 ]]\n",
      "[[0.8366443  0.09081324 0.05793928 0.00982978 0.0047735 ]]\n"
     ]
    },
    {
     "name": "stderr",
     "output_type": "stream",
     "text": [
      "1711it [02:13, 12.71it/s]"
     ]
    },
    {
     "name": "stdout",
     "output_type": "stream",
     "text": [
      "[[0.8460287  0.083427   0.05631785 0.00974021 0.00448618]]\n",
      "[[0.85039395 0.0831396  0.05176626 0.00966214 0.00503809]]\n",
      "[[0.85223216 0.0818515  0.05335008 0.00818243 0.00438377]]\n",
      "[[0.84474987 0.08805902 0.05269998 0.00986516 0.00462594]]\n"
     ]
    },
    {
     "name": "stderr",
     "output_type": "stream",
     "text": [
      "1715it [02:13, 12.10it/s]"
     ]
    },
    {
     "name": "stdout",
     "output_type": "stream",
     "text": [
      "[[0.849327   0.0848861  0.05168859 0.00942158 0.00467675]]\n",
      "[[0.8444896  0.0874584  0.05462851 0.00904947 0.0043741 ]]\n",
      "[[0.8334391  0.08515465 0.06581305 0.01055968 0.0050336 ]]\n",
      "[[0.8480219  0.08368298 0.05435482 0.00926954 0.0046708 ]]\n"
     ]
    },
    {
     "name": "stderr",
     "output_type": "stream",
     "text": [
      "1720it [02:14, 15.54it/s]"
     ]
    },
    {
     "name": "stdout",
     "output_type": "stream",
     "text": [
      "[[0.8477037  0.08625203 0.05218832 0.00916271 0.00469323]]\n",
      "[[0.8475725  0.08601759 0.05239169 0.00929033 0.00472791]]\n",
      "[[0.854499   0.07992708 0.05334481 0.00814481 0.0040843 ]]\n",
      "[[0.85076606 0.08492134 0.05109428 0.00845209 0.00476624]]\n"
     ]
    },
    {
     "name": "stderr",
     "output_type": "stream",
     "text": [
      "1722it [02:14,  9.10it/s]"
     ]
    },
    {
     "name": "stdout",
     "output_type": "stream",
     "text": [
      "[[0.8607546  0.07801912 0.04954536 0.00788875 0.0037922 ]]\n",
      "[[0.84832764 0.08486076 0.05261178 0.00951231 0.00468755]]\n"
     ]
    },
    {
     "name": "stderr",
     "output_type": "stream",
     "text": [
      "1726it [02:14, 12.25it/s]"
     ]
    },
    {
     "name": "stdout",
     "output_type": "stream",
     "text": [
      "[[0.8674401  0.07019965 0.04958152 0.00822906 0.00454972]]\n",
      "[[0.8400794  0.08817888 0.05783111 0.00914218 0.00476846]]\n",
      "[[0.83913505 0.08474268 0.06120775 0.00981845 0.00509611]]\n",
      "[[0.851882   0.08189543 0.05421109 0.00776674 0.00424477]]\n"
     ]
    },
    {
     "name": "stderr",
     "output_type": "stream",
     "text": [
      "1729it [02:14, 14.35it/s]"
     ]
    },
    {
     "name": "stdout",
     "output_type": "stream",
     "text": [
      "[[0.8459499  0.0877841  0.05199097 0.0093281  0.00494699]]\n",
      "[[0.8532839  0.0814761  0.05267001 0.00823641 0.00433366]]\n",
      "[[0.8576838  0.07873596 0.05068369 0.00865379 0.00424276]]\n",
      "[[0.85126406 0.08516635 0.05012608 0.00900324 0.00444032]]\n",
      "[[0.8544995  0.07832356 0.0536129  0.0088771  0.00468701]]\n"
     ]
    },
    {
     "name": "stderr",
     "output_type": "stream",
     "text": [
      "1735it [02:15, 15.08it/s]"
     ]
    },
    {
     "name": "stdout",
     "output_type": "stream",
     "text": [
      "[[0.845653   0.0833568  0.05603337 0.00987484 0.00508188]]\n",
      "[[0.85256153 0.08092814 0.05409102 0.00826828 0.00415105]]\n",
      "[[0.847281   0.08695963 0.05224088 0.00927116 0.00424744]]\n",
      "[[0.8339648  0.08267281 0.06848952 0.01042531 0.00444754]]\n"
     ]
    },
    {
     "name": "stderr",
     "output_type": "stream",
     "text": [
      "1739it [02:15, 14.85it/s]"
     ]
    },
    {
     "name": "stdout",
     "output_type": "stream",
     "text": [
      "[[0.83413935 0.09088838 0.05934684 0.01068451 0.00494104]]\n",
      "[[0.849194   0.08448924 0.05219112 0.00927938 0.00484629]]\n",
      "[[0.85277355 0.08277442 0.0521227  0.00826758 0.00406179]]\n",
      "[[0.8413291  0.0872191  0.05777445 0.00916114 0.00451628]]\n",
      "[[0.8404927  0.08824246 0.05737571 0.00939982 0.00448933]]\n"
     ]
    },
    {
     "name": "stderr",
     "output_type": "stream",
     "text": [
      "1744it [02:15, 17.18it/s]"
     ]
    },
    {
     "name": "stdout",
     "output_type": "stream",
     "text": [
      "[[0.8489968  0.08299687 0.05352687 0.00987495 0.00460446]]\n",
      "[[0.84994847 0.0828588  0.05358483 0.00924728 0.0043606 ]]\n",
      "[[0.8493881  0.08496074 0.052983   0.00862871 0.0040395 ]]\n",
      "[[0.8423273  0.09204496 0.05259894 0.00849448 0.00453424]]\n",
      "[[0.84616184 0.08799752 0.05222342 0.00938861 0.00422872]]\n"
     ]
    },
    {
     "name": "stderr",
     "output_type": "stream",
     "text": [
      "1747it [02:15, 18.14it/s]"
     ]
    },
    {
     "name": "stdout",
     "output_type": "stream",
     "text": [
      "[[0.84983486 0.08498645 0.05217366 0.00854195 0.00446306]]\n",
      "[[0.83778316 0.09013385 0.05769969 0.00949161 0.00489175]]\n",
      "[[0.82953626 0.0958671  0.05988682 0.00962296 0.00508691]]\n",
      "[[0.8517079  0.08508944 0.05024499 0.00861394 0.00434367]]\n"
     ]
    },
    {
     "name": "stderr",
     "output_type": "stream",
     "text": [
      "1752it [02:16, 13.89it/s]"
     ]
    },
    {
     "name": "stdout",
     "output_type": "stream",
     "text": [
      "[[0.84620064 0.08223008 0.05755226 0.00944549 0.00457151]]\n",
      "[[0.8403852  0.08921525 0.05574054 0.01001104 0.00464801]]\n",
      "[[0.856284   0.0758647  0.05476335 0.00839491 0.00469297]]\n"
     ]
    },
    {
     "name": "stderr",
     "output_type": "stream",
     "text": [
      "1754it [02:16, 11.79it/s]"
     ]
    },
    {
     "name": "stdout",
     "output_type": "stream",
     "text": [
      "[[0.85388213 0.0809418  0.05178885 0.00889435 0.00449281]]\n",
      "[[0.8511212  0.08188631 0.05355605 0.00903494 0.00440153]]\n",
      "[[0.8596835  0.0755702  0.05200505 0.008436   0.00430515]]\n"
     ]
    },
    {
     "name": "stderr",
     "output_type": "stream",
     "text": [
      "1758it [02:16, 12.54it/s]"
     ]
    },
    {
     "name": "stdout",
     "output_type": "stream",
     "text": [
      "[[0.8256755  0.09813225 0.06047658 0.01063524 0.0050805 ]]\n",
      "[[0.8501153  0.08062702 0.0551006  0.0094012  0.00475584]]\n",
      "[[0.8400412  0.09055017 0.0556539  0.00932377 0.00443093]]\n"
     ]
    },
    {
     "name": "stderr",
     "output_type": "stream",
     "text": [
      "1760it [02:17, 11.30it/s]"
     ]
    },
    {
     "name": "stdout",
     "output_type": "stream",
     "text": [
      "[[0.8560506  0.07866744 0.05229937 0.00881777 0.00416468]]\n",
      "[[0.85159576 0.0794375  0.05543006 0.00914904 0.00438759]]\n",
      "[[0.8203518  0.08841912 0.07521211 0.01126138 0.00475556]]\n"
     ]
    },
    {
     "name": "stderr",
     "output_type": "stream",
     "text": [
      "1762it [02:17, 11.56it/s]"
     ]
    },
    {
     "name": "stdout",
     "output_type": "stream",
     "text": [
      "[[0.84284085 0.09045006 0.05193486 0.01021814 0.00455609]]\n",
      "[[0.84999216 0.08435677 0.05184627 0.00920104 0.0046039 ]]\n"
     ]
    },
    {
     "name": "stderr",
     "output_type": "stream",
     "text": [
      "1764it [02:17, 10.90it/s]"
     ]
    },
    {
     "name": "stdout",
     "output_type": "stream",
     "text": [
      "[[0.86414737 0.07471284 0.04846692 0.00845518 0.00421767]]\n",
      "[[0.8423293  0.08541327 0.05796587 0.00984233 0.00444907]]\n"
     ]
    },
    {
     "name": "stderr",
     "output_type": "stream",
     "text": [
      "1768it [02:17, 10.42it/s]"
     ]
    },
    {
     "name": "stdout",
     "output_type": "stream",
     "text": [
      "[[0.8419304  0.08390068 0.05928529 0.01024075 0.00464278]]\n",
      "[[0.84855944 0.08562952 0.05150655 0.00951977 0.00478481]]\n",
      "[[0.84680504 0.0843006  0.05565896 0.00877182 0.00446369]]\n",
      "[[0.84447056 0.08831965 0.05325214 0.00934071 0.00461696]]\n"
     ]
    },
    {
     "name": "stderr",
     "output_type": "stream",
     "text": [
      "1773it [02:18, 14.30it/s]"
     ]
    },
    {
     "name": "stdout",
     "output_type": "stream",
     "text": [
      "[[0.84899855 0.08188985 0.05543221 0.00908657 0.0045928 ]]\n",
      "[[0.84335774 0.09166622 0.05147718 0.00891726 0.00458164]]\n",
      "[[0.8430305  0.08739627 0.05561412 0.00924495 0.00471414]]\n",
      "[[0.84571415 0.0760229  0.06293944 0.0106234  0.0047002 ]]\n"
     ]
    },
    {
     "name": "stderr",
     "output_type": "stream",
     "text": [
      "1778it [02:18, 17.04it/s]"
     ]
    },
    {
     "name": "stdout",
     "output_type": "stream",
     "text": [
      "[[0.84037894 0.09106062 0.05471337 0.009107   0.00474009]]\n",
      "[[0.8571428  0.08131766 0.04903362 0.00840516 0.00410076]]\n",
      "[[0.84961283 0.08407634 0.05268833 0.00886612 0.00475638]]\n",
      "[[0.853629   0.07640924 0.05637838 0.00896432 0.00461913]]\n",
      "[[0.86218125 0.0757075  0.04965837 0.00857437 0.00387861]]\n"
     ]
    },
    {
     "name": "stderr",
     "output_type": "stream",
     "text": [
      "1781it [02:18, 17.92it/s]"
     ]
    },
    {
     "name": "stdout",
     "output_type": "stream",
     "text": [
      "[[0.8620102  0.07857288 0.04923096 0.00660633 0.00357963]]\n",
      "[[0.84746385 0.08831895 0.05130355 0.0083039  0.00460966]]\n",
      "[[0.8500824  0.08105789 0.0561472  0.00854535 0.00416715]]\n"
     ]
    },
    {
     "name": "stderr",
     "output_type": "stream",
     "text": [
      "1783it [02:18, 12.87it/s]"
     ]
    },
    {
     "name": "stdout",
     "output_type": "stream",
     "text": [
      "[[0.8464073  0.08452292 0.05484744 0.00962237 0.00460005]]\n",
      "[[0.83110046 0.08394618 0.07025085 0.01022914 0.0044733 ]]\n",
      "[[0.8603092  0.07808842 0.04960785 0.00781046 0.00418411]]\n"
     ]
    },
    {
     "name": "stderr",
     "output_type": "stream",
     "text": [
      "1789it [02:19, 16.41it/s]"
     ]
    },
    {
     "name": "stdout",
     "output_type": "stream",
     "text": [
      "[[0.8492709  0.08650004 0.05203544 0.0080185  0.00417504]]\n",
      "[[0.84844244 0.08275253 0.05593907 0.00866938 0.00419657]]\n",
      "[[0.85019916 0.0855355  0.05199675 0.00810936 0.0041593 ]]\n",
      "[[0.8241468  0.09893144 0.06187113 0.00988519 0.00516545]]\n",
      "[[0.84082246 0.08954309 0.05529812 0.00958416 0.00475223]]\n"
     ]
    },
    {
     "name": "stderr",
     "output_type": "stream",
     "text": [
      "1793it [02:19, 15.43it/s]"
     ]
    },
    {
     "name": "stdout",
     "output_type": "stream",
     "text": [
      "[[0.84307086 0.08357876 0.0572829  0.01067067 0.00539684]]\n",
      "[[0.8466827  0.08594324 0.05394524 0.0089738  0.00445495]]\n",
      "[[0.84542304 0.08520867 0.05617305 0.00898142 0.00421383]]\n",
      "[[0.8528292  0.0827013  0.05220259 0.00839064 0.00387627]]\n"
     ]
    },
    {
     "name": "stderr",
     "output_type": "stream",
     "text": [
      "1798it [02:19, 15.36it/s]"
     ]
    },
    {
     "name": "stdout",
     "output_type": "stream",
     "text": [
      "[[0.84822124 0.08135616 0.0558219  0.00998491 0.00461575]]\n",
      "[[0.8449566  0.09089711 0.05019166 0.00930606 0.0046486 ]]\n",
      "[[0.86167157 0.07914072 0.04880865 0.00707019 0.00330894]]\n",
      "[[0.84668714 0.08641923 0.05281905 0.00938157 0.004693  ]]\n",
      "[[0.8429923  0.08667859 0.05665284 0.00902207 0.00465421]]\n"
     ]
    },
    {
     "name": "stderr",
     "output_type": "stream",
     "text": [
      "1800it [02:20, 12.65it/s]"
     ]
    },
    {
     "name": "stdout",
     "output_type": "stream",
     "text": [
      "[[0.85506696 0.07720565 0.05440455 0.00871051 0.00461229]]\n",
      "[[0.84994596 0.0839137  0.05230845 0.00924232 0.00458952]]\n"
     ]
    },
    {
     "name": "stderr",
     "output_type": "stream",
     "text": [
      "1802it [02:20, 11.03it/s]"
     ]
    },
    {
     "name": "stdout",
     "output_type": "stream",
     "text": [
      "[[0.83915406 0.08929491 0.05752569 0.0093271  0.00469826]]\n",
      "[[0.8497455  0.08163441 0.05524014 0.0087361  0.00464391]]\n",
      "[[0.8372969  0.08875192 0.05936705 0.01008226 0.00450186]]\n"
     ]
    },
    {
     "name": "stderr",
     "output_type": "stream",
     "text": [
      "1804it [02:20, 10.71it/s]"
     ]
    },
    {
     "name": "stdout",
     "output_type": "stream",
     "text": [
      "[[0.8460646  0.09081073 0.05019157 0.00875362 0.00417949]]\n"
     ]
    },
    {
     "name": "stderr",
     "output_type": "stream",
     "text": [
      "1806it [02:20,  8.33it/s]"
     ]
    },
    {
     "name": "stdout",
     "output_type": "stream",
     "text": [
      "[[0.85264754 0.08303113 0.05114412 0.00881383 0.00436332]]\n",
      "[[0.8348065  0.08589891 0.06501123 0.00993603 0.00434734]]\n"
     ]
    },
    {
     "name": "stderr",
     "output_type": "stream",
     "text": [
      "1808it [02:21,  8.90it/s]"
     ]
    },
    {
     "name": "stdout",
     "output_type": "stream",
     "text": [
      "[[0.8531332  0.08266918 0.05222512 0.00798857 0.00398385]]\n",
      "[[0.8455269  0.08587204 0.05521436 0.00915703 0.00422976]]\n"
     ]
    },
    {
     "name": "stderr",
     "output_type": "stream",
     "text": [
      "1810it [02:21,  9.57it/s]"
     ]
    },
    {
     "name": "stdout",
     "output_type": "stream",
     "text": [
      "[[0.82982165 0.08297397 0.07136162 0.01117969 0.00466315]]\n",
      "[[0.847057   0.08692238 0.05218684 0.00950884 0.00432498]]\n",
      "[[0.84814477 0.08440286 0.05375206 0.00927245 0.00442789]]\n"
     ]
    },
    {
     "name": "stderr",
     "output_type": "stream",
     "text": [
      "1814it [02:21, 11.43it/s]"
     ]
    },
    {
     "name": "stdout",
     "output_type": "stream",
     "text": [
      "[[0.83948547 0.08674517 0.05885907 0.01014672 0.00476366]]\n",
      "[[0.8333107  0.09321945 0.05891695 0.00987099 0.00468194]]\n",
      "[[0.8446265  0.08780342 0.05352426 0.00954768 0.00449819]]\n"
     ]
    },
    {
     "name": "stderr",
     "output_type": "stream",
     "text": [
      "1819it [02:21, 13.10it/s]"
     ]
    },
    {
     "name": "stdout",
     "output_type": "stream",
     "text": [
      "[[0.84875304 0.08521041 0.05188273 0.00940069 0.00475309]]\n",
      "[[0.8607654  0.07909274 0.04829506 0.00825781 0.00358899]]\n",
      "[[0.84792626 0.08507337 0.05306027 0.00941749 0.0045227 ]]\n",
      "[[0.86276346 0.07632379 0.04939179 0.00755591 0.00396491]]\n",
      "[[0.8544262  0.08063442 0.05075067 0.0093163  0.00487234]]\n"
     ]
    },
    {
     "name": "stderr",
     "output_type": "stream",
     "text": [
      "1822it [02:22, 12.92it/s]"
     ]
    },
    {
     "name": "stdout",
     "output_type": "stream",
     "text": [
      "[[0.85917294 0.07800619 0.05115723 0.00786969 0.00379395]]\n",
      "[[0.8451201  0.08653338 0.0545822  0.00908922 0.00467517]]\n",
      "[[0.8350058  0.08646432 0.06293221 0.01058467 0.00501297]]\n"
     ]
    },
    {
     "name": "stderr",
     "output_type": "stream",
     "text": [
      "1825it [02:22, 12.96it/s]"
     ]
    },
    {
     "name": "stdout",
     "output_type": "stream",
     "text": [
      "[[0.8520142  0.08264232 0.05313507 0.00817804 0.00403027]]\n",
      "[[0.8468155  0.08443141 0.05532487 0.00885403 0.00457416]]\n",
      "[[0.846459   0.08108038 0.05824683 0.00976285 0.00445098]]\n"
     ]
    },
    {
     "name": "stderr",
     "output_type": "stream",
     "text": [
      "1829it [02:22, 15.10it/s]"
     ]
    },
    {
     "name": "stdout",
     "output_type": "stream",
     "text": [
      "[[0.8477993  0.08287427 0.05606242 0.00903386 0.00423015]]\n",
      "[[0.8480036  0.0837406  0.05572533 0.00816123 0.00436918]]\n",
      "[[0.84366095 0.08930705 0.05384655 0.00886886 0.00431653]]\n",
      "[[0.8515062  0.08207943 0.05398581 0.00849574 0.00393278]]\n",
      "[[0.8440078  0.08200928 0.05954107 0.00960822 0.00483355]]\n"
     ]
    },
    {
     "name": "stderr",
     "output_type": "stream",
     "text": [
      "1831it [02:22, 11.41it/s]"
     ]
    },
    {
     "name": "stdout",
     "output_type": "stream",
     "text": [
      "[[0.8373404  0.08848206 0.05890476 0.01024502 0.00502773]]\n"
     ]
    },
    {
     "name": "stderr",
     "output_type": "stream",
     "text": [
      "1833it [02:23,  9.16it/s]"
     ]
    },
    {
     "name": "stdout",
     "output_type": "stream",
     "text": [
      "[[0.8343266  0.09087878 0.05992381 0.00985314 0.00501749]]\n",
      "[[0.8333506  0.09271406 0.05939182 0.009923   0.00462055]]\n",
      "[[0.8490776  0.08490813 0.05212567 0.0091395  0.00474918]]\n"
     ]
    },
    {
     "name": "stderr",
     "output_type": "stream",
     "text": [
      "1837it [02:23, 10.55it/s]"
     ]
    },
    {
     "name": "stdout",
     "output_type": "stream",
     "text": [
      "[[0.85028464 0.08435997 0.05133994 0.00935985 0.00465553]]\n",
      "[[0.8472407  0.08451767 0.05465592 0.00916618 0.00441953]]\n",
      "[[0.84187937 0.08878026 0.05572205 0.00873545 0.00488294]]\n",
      "[[0.8430587  0.08682655 0.05609176 0.00954838 0.00447462]]\n",
      "[[0.84820247 0.08548079 0.05263576 0.00917206 0.00450889]]\n"
     ]
    },
    {
     "name": "stderr",
     "output_type": "stream",
     "text": [
      "1840it [02:23, 12.99it/s]"
     ]
    },
    {
     "name": "stdout",
     "output_type": "stream",
     "text": [
      "[[0.84867203 0.08589042 0.05176952 0.00925822 0.00440978]]\n",
      "[[0.83239114 0.09533925 0.05777579 0.00969695 0.00479681]]\n"
     ]
    },
    {
     "name": "stderr",
     "output_type": "stream",
     "text": [
      "1845it [02:24, 12.72it/s]"
     ]
    },
    {
     "name": "stdout",
     "output_type": "stream",
     "text": [
      "[[0.8343646  0.08737735 0.06272113 0.01062271 0.00491419]]\n",
      "[[0.8487993  0.08728617 0.05056757 0.00886444 0.00448263]]\n",
      "[[0.8538876  0.08421022 0.04925743 0.00814697 0.00449772]]\n",
      "[[0.8367113  0.09553903 0.053902   0.0092642  0.00458341]]\n"
     ]
    },
    {
     "name": "stderr",
     "output_type": "stream",
     "text": [
      "1847it [02:24, 13.33it/s]"
     ]
    },
    {
     "name": "stdout",
     "output_type": "stream",
     "text": [
      "[[0.8461659  0.08389015 0.05658044 0.00891907 0.00444445]]\n",
      "[[0.8449138  0.08688691 0.05429598 0.00973244 0.00417103]]\n",
      "[[0.8539901  0.08261391 0.05087567 0.00854585 0.00397452]]\n"
     ]
    },
    {
     "name": "stderr",
     "output_type": "stream",
     "text": [
      "1851it [02:24, 13.76it/s]"
     ]
    },
    {
     "name": "stdout",
     "output_type": "stream",
     "text": [
      "[[0.8287213  0.09284814 0.06303247 0.01068223 0.00471576]]\n",
      "[[0.8459128  0.08710942 0.05412164 0.00871197 0.00414418]]\n",
      "[[0.8463521  0.08792854 0.05263687 0.00851936 0.00456313]]\n",
      "[[0.8107642  0.10119744 0.07135867 0.01155998 0.00511964]]\n"
     ]
    },
    {
     "name": "stderr",
     "output_type": "stream",
     "text": [
      "1856it [02:24, 16.60it/s]"
     ]
    },
    {
     "name": "stdout",
     "output_type": "stream",
     "text": [
      "[[0.856517   0.07721502 0.05387662 0.00845823 0.0039331 ]]\n",
      "[[0.8484742  0.07935019 0.05659497 0.01024988 0.00533083]]\n",
      "[[0.84243536 0.09008989 0.05403294 0.0088371  0.00460472]]\n",
      "[[0.8349696  0.09531137 0.05446799 0.01021929 0.00503167]]\n",
      "[[0.8503538  0.08561123 0.05114304 0.00816931 0.00472264]]\n"
     ]
    },
    {
     "name": "stderr",
     "output_type": "stream",
     "text": [
      "1860it [02:25, 15.27it/s]"
     ]
    },
    {
     "name": "stdout",
     "output_type": "stream",
     "text": [
      "[[0.84550935 0.08369713 0.05602333 0.00991981 0.00485032]]\n",
      "[[0.8497747  0.0848338  0.05220181 0.00876697 0.00442266]]\n",
      "[[0.847212   0.08415865 0.0549924  0.00916873 0.00446812]]\n",
      "[[0.8476816  0.08720047 0.05193669 0.00866985 0.00451133]]\n"
     ]
    },
    {
     "name": "stderr",
     "output_type": "stream",
     "text": [
      "1865it [02:25, 16.79it/s]"
     ]
    },
    {
     "name": "stdout",
     "output_type": "stream",
     "text": [
      "[[0.8339245  0.08812959 0.06382281 0.00948859 0.00463448]]\n",
      "[[0.8436779  0.08660486 0.05638305 0.0090477  0.00428643]]\n",
      "[[0.852854   0.08220347 0.05243339 0.00848603 0.00402315]]\n",
      "[[0.8555945  0.07920135 0.05225222 0.00845309 0.00449891]]\n",
      "[[0.83983797 0.08895159 0.05686359 0.00973989 0.00460696]]\n"
     ]
    },
    {
     "name": "stderr",
     "output_type": "stream",
     "text": [
      "1869it [02:25, 13.00it/s]"
     ]
    },
    {
     "name": "stdout",
     "output_type": "stream",
     "text": [
      "[[0.84731865 0.08488353 0.0539621  0.0090969  0.00473884]]\n",
      "[[0.84717304 0.08242948 0.0564821  0.00899953 0.00491596]]\n",
      "[[0.82309926 0.09676073 0.06622434 0.00927572 0.00463993]]\n",
      "[[0.8514585  0.08034231 0.05562976 0.00867114 0.00389826]]\n"
     ]
    },
    {
     "name": "stderr",
     "output_type": "stream",
     "text": [
      "1871it [02:26, 12.26it/s]"
     ]
    },
    {
     "name": "stdout",
     "output_type": "stream",
     "text": [
      "[[0.8432521  0.08386204 0.0583326  0.0100741  0.00447914]]\n",
      "[[0.840069   0.08536885 0.05957611 0.01026245 0.00472364]]\n"
     ]
    },
    {
     "name": "stderr",
     "output_type": "stream",
     "text": [
      "1875it [02:26, 12.88it/s]"
     ]
    },
    {
     "name": "stdout",
     "output_type": "stream",
     "text": [
      "[[0.8436579  0.08479992 0.05747928 0.00916549 0.00489746]]\n",
      "[[0.8504712  0.08332777 0.05263686 0.0090181  0.00454603]]\n",
      "[[0.8348006  0.09430917 0.05684265 0.00959619 0.00445134]]\n"
     ]
    },
    {
     "name": "stderr",
     "output_type": "stream",
     "text": [
      "1877it [02:26, 11.38it/s]"
     ]
    },
    {
     "name": "stdout",
     "output_type": "stream",
     "text": [
      "[[0.849562   0.08475853 0.05156058 0.00936912 0.00474984]]\n",
      "[[0.8534193  0.07964597 0.05412536 0.00874523 0.00406415]]\n",
      "[[0.8481063  0.08377752 0.05462722 0.00887174 0.00461719]]\n"
     ]
    },
    {
     "name": "stderr",
     "output_type": "stream",
     "text": [
      "1881it [02:26, 10.59it/s]"
     ]
    },
    {
     "name": "stdout",
     "output_type": "stream",
     "text": [
      "[[0.84517586 0.0867796  0.05346918 0.00973284 0.00484244]]\n",
      "[[0.8465853  0.08519266 0.0544904  0.00920904 0.00452265]]\n",
      "[[0.835995   0.09051135 0.05817465 0.01031448 0.00500458]]\n"
     ]
    },
    {
     "name": "stderr",
     "output_type": "stream",
     "text": [
      "1883it [02:27, 12.19it/s]"
     ]
    },
    {
     "name": "stdout",
     "output_type": "stream",
     "text": [
      "[[0.8320122  0.08236296 0.07099658 0.009987   0.00464126]]\n",
      "[[0.8471491  0.08709044 0.05130448 0.01000946 0.00444651]]\n",
      "[[0.8407579  0.08459269 0.06199576 0.00854212 0.00411153]]\n"
     ]
    },
    {
     "name": "stderr",
     "output_type": "stream",
     "text": [
      "1887it [02:27, 12.97it/s]"
     ]
    },
    {
     "name": "stdout",
     "output_type": "stream",
     "text": [
      "[[0.8509418  0.08398618 0.05115959 0.00923006 0.00468237]]\n",
      "[[0.8483771  0.08595382 0.05291298 0.00895234 0.00380365]]\n",
      "[[0.8534777  0.08274647 0.05129349 0.00843696 0.00404536]]\n",
      "[[0.8410202  0.08909261 0.05575968 0.00927775 0.00484977]]\n"
     ]
    },
    {
     "name": "stderr",
     "output_type": "stream",
     "text": [
      "1891it [02:27, 15.36it/s]"
     ]
    },
    {
     "name": "stdout",
     "output_type": "stream",
     "text": [
      "[[0.8488964  0.08468203 0.05307037 0.00896354 0.00438776]]\n",
      "[[0.8553508  0.08220322 0.05015006 0.00826984 0.00402607]]\n",
      "[[0.82685065 0.09182932 0.06482126 0.01156626 0.00493241]]\n"
     ]
    },
    {
     "name": "stderr",
     "output_type": "stream",
     "text": [
      "1895it [02:27, 14.72it/s]"
     ]
    },
    {
     "name": "stdout",
     "output_type": "stream",
     "text": [
      "[[0.8434595  0.0836691  0.0591904  0.00947842 0.00420257]]\n",
      "[[0.8525934  0.08255791 0.05199318 0.00836927 0.00448617]]\n",
      "[[0.84057236 0.09215102 0.05422177 0.00844729 0.0046076 ]]\n",
      "[[0.8525659  0.08501164 0.05004506 0.00854397 0.00383343]]\n",
      "[[0.8569541  0.07722335 0.05235873 0.00903004 0.00443379]]\n"
     ]
    },
    {
     "name": "stderr",
     "output_type": "stream",
     "text": [
      "1900it [02:28, 17.42it/s]"
     ]
    },
    {
     "name": "stdout",
     "output_type": "stream",
     "text": [
      "[[0.851977   0.08146836 0.05354965 0.00850188 0.00450312]]\n",
      "[[0.8424348  0.08804346 0.0551283  0.00972365 0.0046698 ]]\n",
      "[[0.8486735  0.08325506 0.05396203 0.00901668 0.00509281]]\n",
      "[[0.8302871  0.08503833 0.06925044 0.01072506 0.00469907]]\n"
     ]
    },
    {
     "name": "stderr",
     "output_type": "stream",
     "text": [
      "1904it [02:28, 13.89it/s]"
     ]
    },
    {
     "name": "stdout",
     "output_type": "stream",
     "text": [
      "[[0.8492331  0.08271181 0.05502156 0.00835956 0.00467397]]\n",
      "[[0.8534032  0.07879674 0.05415381 0.00908056 0.00456574]]\n",
      "[[0.8507082  0.08217114 0.05420123 0.00857108 0.00434834]]\n",
      "[[0.8341189  0.09728752 0.05488265 0.009236   0.00447485]]\n"
     ]
    },
    {
     "name": "stderr",
     "output_type": "stream",
     "text": [
      "1906it [02:28, 10.72it/s]"
     ]
    },
    {
     "name": "stdout",
     "output_type": "stream",
     "text": [
      "[[0.84329927 0.08340657 0.05875718 0.0098082  0.00472884]]\n",
      "[[0.8395183  0.08357    0.06214283 0.00979886 0.00497004]]\n"
     ]
    },
    {
     "name": "stderr",
     "output_type": "stream",
     "text": [
      "1910it [02:29, 12.33it/s]"
     ]
    },
    {
     "name": "stdout",
     "output_type": "stream",
     "text": [
      "[[0.8425397  0.08375124 0.05985214 0.00939715 0.00445974]]\n",
      "[[0.85275185 0.08179379 0.05225387 0.00878434 0.00441617]]\n",
      "[[0.84988296 0.08302674 0.05391099 0.00869802 0.00448127]]\n",
      "[[0.8445082  0.08473075 0.05704924 0.00916237 0.00454954]]\n",
      "[[0.8652218  0.07427035 0.04784079 0.0081428  0.00452431]]\n"
     ]
    },
    {
     "name": "stderr",
     "output_type": "stream",
     "text": [
      "1915it [02:29, 14.02it/s]"
     ]
    },
    {
     "name": "stdout",
     "output_type": "stream",
     "text": [
      "[[0.843887   0.08256172 0.05846638 0.01033527 0.00474962]]\n",
      "[[0.8398316  0.08992263 0.05693825 0.00882421 0.00448342]]\n",
      "[[0.8478054  0.08710881 0.05210724 0.00869223 0.00428636]]\n",
      "[[0.8392352  0.08920535 0.05718303 0.00978713 0.00458922]]\n",
      "[[0.84463304 0.08328906 0.05800308 0.00928458 0.00479026]]\n"
     ]
    },
    {
     "name": "stderr",
     "output_type": "stream",
     "text": [
      "1918it [02:29, 15.56it/s]"
     ]
    },
    {
     "name": "stdout",
     "output_type": "stream",
     "text": [
      "[[0.8480489  0.08645723 0.05160805 0.00920244 0.00468342]]\n",
      "[[0.84925896 0.08502869 0.05299937 0.00870606 0.00400701]]\n",
      "[[0.8435917  0.09005916 0.05168322 0.00973981 0.0049261 ]]\n",
      "[[0.8460097  0.08911697 0.05144951 0.00902402 0.00439989]]\n"
     ]
    },
    {
     "name": "stderr",
     "output_type": "stream",
     "text": [
      "1924it [02:29, 18.04it/s]"
     ]
    },
    {
     "name": "stdout",
     "output_type": "stream",
     "text": [
      "[[0.84301096 0.08952072 0.05310059 0.00966258 0.00470512]]\n",
      "[[0.8488904  0.08715153 0.05084936 0.00881756 0.00429107]]\n",
      "[[0.8509533  0.08108965 0.05459454 0.0089758  0.00438677]]\n",
      "[[0.8495719  0.08538707 0.0513597  0.00880347 0.0048779 ]]\n"
     ]
    },
    {
     "name": "stderr",
     "output_type": "stream",
     "text": [
      "1926it [02:30, 13.78it/s]"
     ]
    },
    {
     "name": "stdout",
     "output_type": "stream",
     "text": [
      "[[0.83647585 0.09060217 0.05881663 0.00968244 0.0044229 ]]\n",
      "[[0.8482308  0.08351304 0.05562611 0.0085934  0.00403673]]\n"
     ]
    },
    {
     "name": "stderr",
     "output_type": "stream",
     "text": [
      "1928it [02:30, 12.82it/s]"
     ]
    },
    {
     "name": "stdout",
     "output_type": "stream",
     "text": [
      "[[0.84648997 0.08655566 0.0522999  0.00975384 0.00490053]]\n",
      "[[0.8248166  0.09316    0.06640652 0.01100543 0.00461149]]\n"
     ]
    },
    {
     "name": "stderr",
     "output_type": "stream",
     "text": [
      "\n"
     ]
    }
   ],
   "source": [
    "from tqdm import tqdm\n",
    "for i, name in tqdm(enumerate(submit['id_code'])):\n",
    "    path = os.path.join('/kaggle/input/aptos2019-blindness-detection/test_images/', name+'.png')\n",
    "    image = cv2.imread(path)\n",
    "    #print(path)\n",
    "    image = cv2.resize(image, (256, 256))\n",
    "    X = np.array((image[np.newaxis])/255)\n",
    "   # print(X[0][150])\n",
    "   # print(((model.predict(X).ravel()*model.predict(X[:, ::-1, :, :]).ravel()*model.predict(X[:, ::-1, ::-1, :]).ravel()*model.predict(X[:, :, ::-1, :]).ravel())**0.25).tolist())\n",
    "    score_predict=model.predict(X)\n",
    "    print(score_predict)\n",
    "    label_predict = np.argmax(score_predict)\n",
    "    predicted.append(str(label_predict))"
   ]
  },
  {
   "cell_type": "code",
   "execution_count": 12,
   "id": "7a7da3ce",
   "metadata": {
    "execution": {
     "iopub.execute_input": "2021-09-30T08:38:44.278350Z",
     "iopub.status.busy": "2021-09-30T08:38:44.277541Z",
     "iopub.status.idle": "2021-09-30T08:38:44.297872Z",
     "shell.execute_reply": "2021-09-30T08:38:44.298272Z",
     "shell.execute_reply.started": "2021-09-30T00:22:36.697434Z"
    },
    "papermill": {
     "duration": 1.277238,
     "end_time": "2021-09-30T08:38:44.298442",
     "exception": false,
     "start_time": "2021-09-30T08:38:43.021204",
     "status": "completed"
    },
    "tags": []
   },
   "outputs": [
    {
     "data": {
      "text/html": [
       "<div>\n",
       "<style scoped>\n",
       "    .dataframe tbody tr th:only-of-type {\n",
       "        vertical-align: middle;\n",
       "    }\n",
       "\n",
       "    .dataframe tbody tr th {\n",
       "        vertical-align: top;\n",
       "    }\n",
       "\n",
       "    .dataframe thead th {\n",
       "        text-align: right;\n",
       "    }\n",
       "</style>\n",
       "<table border=\"1\" class=\"dataframe\">\n",
       "  <thead>\n",
       "    <tr style=\"text-align: right;\">\n",
       "      <th></th>\n",
       "      <th>id_code</th>\n",
       "      <th>diagnosis</th>\n",
       "    </tr>\n",
       "  </thead>\n",
       "  <tbody>\n",
       "    <tr>\n",
       "      <th>0</th>\n",
       "      <td>0005cfc8afb6</td>\n",
       "      <td>0</td>\n",
       "    </tr>\n",
       "    <tr>\n",
       "      <th>1</th>\n",
       "      <td>003f0afdcd15</td>\n",
       "      <td>0</td>\n",
       "    </tr>\n",
       "    <tr>\n",
       "      <th>2</th>\n",
       "      <td>006efc72b638</td>\n",
       "      <td>0</td>\n",
       "    </tr>\n",
       "    <tr>\n",
       "      <th>3</th>\n",
       "      <td>00836aaacf06</td>\n",
       "      <td>0</td>\n",
       "    </tr>\n",
       "    <tr>\n",
       "      <th>4</th>\n",
       "      <td>009245722fa4</td>\n",
       "      <td>0</td>\n",
       "    </tr>\n",
       "  </tbody>\n",
       "</table>\n",
       "</div>"
      ],
      "text/plain": [
       "        id_code diagnosis\n",
       "0  0005cfc8afb6         0\n",
       "1  003f0afdcd15         0\n",
       "2  006efc72b638         0\n",
       "3  00836aaacf06         0\n",
       "4  009245722fa4         0"
      ]
     },
     "execution_count": 12,
     "metadata": {},
     "output_type": "execute_result"
    }
   ],
   "source": [
    "submit['diagnosis'] = predicted\n",
    "submit.to_csv('submission.csv', index=False)\n",
    "submit.head()"
   ]
  },
  {
   "cell_type": "code",
   "execution_count": 13,
   "id": "547ae47e",
   "metadata": {
    "execution": {
     "iopub.execute_input": "2021-09-30T08:38:47.070979Z",
     "iopub.status.busy": "2021-09-30T08:38:47.069197Z",
     "iopub.status.idle": "2021-09-30T08:38:47.073840Z",
     "shell.execute_reply": "2021-09-30T08:38:47.073408Z",
     "shell.execute_reply.started": "2021-09-30T00:19:20.313603Z"
    },
    "papermill": {
     "duration": 1.295266,
     "end_time": "2021-09-30T08:38:47.073951",
     "exception": false,
     "start_time": "2021-09-30T08:38:45.778685",
     "status": "completed"
    },
    "tags": []
   },
   "outputs": [
    {
     "name": "stdout",
     "output_type": "stream",
     "text": [
      "['0', '0', '0', '0', '0', '0', '0', '0', '0', '0', '0', '0', '0', '0', '0', '0', '0', '0', '0', '0', '0', '0', '0', '0', '0', '0', '0', '0', '0', '0', '0', '0', '0', '0', '0', '0', '0', '0', '0', '0', '0', '0', '0', '0', '0', '0', '0', '0', '0', '0', '0', '0', '0', '0', '0', '0', '0', '0', '0', '0', '0', '0', '0', '0', '0', '0', '0', '0', '0', '0', '0', '0', '0', '0', '0', '0', '0', '0', '0', '0', '0', '0', '0', '0', '0', '0', '0', '0', '0', '0', '0', '0', '0', '0', '0', '0', '0', '0', '0', '0', '0', '0', '0', '0', '0', '0', '0', '0', '0', '0', '0', '0', '0', '0', '0', '0', '0', '0', '0', '0', '0', '0', '0', '0', '0', '0', '0', '0', '0', '0', '0', '0', '0', '0', '0', '0', '0', '0', '0', '0', '0', '0', '0', '0', '0', '0', '0', '0', '0', '0', '0', '0', '0', '0', '0', '0', '0', '0', '0', '0', '0', '0', '0', '0', '0', '0', '0', '0', '0', '0', '0', '0', '0', '0', '0', '0', '0', '0', '0', '0', '0', '0', '0', '0', '0', '0', '0', '0', '0', '0', '0', '0', '0', '0', '0', '0', '0', '0', '0', '0', '0', '0', '0', '0', '0', '0', '0', '0', '0', '0', '0', '0', '0', '0', '0', '0', '0', '0', '0', '0', '0', '0', '0', '0', '0', '0', '0', '0', '0', '0', '0', '0', '0', '0', '0', '0', '0', '0', '0', '0', '0', '0', '0', '0', '0', '0', '0', '0', '0', '0', '0', '0', '0', '0', '0', '0', '0', '0', '0', '0', '0', '0', '0', '0', '0', '0', '0', '0', '0', '0', '0', '0', '0', '0', '0', '0', '0', '0', '0', '0', '0', '0', '0', '0', '0', '0', '0', '0', '0', '0', '0', '0', '0', '0', '0', '0', '0', '0', '0', '0', '0', '0', '0', '0', '0', '0', '0', '0', '0', '0', '0', '0', '0', '0', '0', '0', '0', '0', '0', '0', '0', '0', '0', '0', '0', '0', '0', '0', '0', '0', '0', '0', '0', '0', '0', '0', '0', '0', '0', '0', '0', '0', '0', '0', '0', '0', '0', '0', '0', '0', '0', '0', '0', '0', '0', '0', '0', '0', '0', '0', '0', '0', '0', '0', '0', '0', '0', '0', '0', '0', '0', '0', '0', '0', '0', '0', '0', '0', '0', '0', '0', '0', '0', '0', '0', '0', '0', '0', '0', '0', '0', '0', '0', '0', '0', '0', '0', '0', '0', '0', '0', '0', '0', '0', '0', '0', '0', '0', '0', '0', '0', '0', '0', '0', '0', '0', '0', '0', '0', '0', '0', '0', '0', '0', '0', '0', '0', '0', '0', '0', '0', '0', '0', '0', '0', '0', '0', '0', '0', '0', '0', '0', '0', '0', '0', '0', '0', '0', '0', '0', '0', '0', '0', '0', '0', '0', '0', '0', '0', '0', '0', '0', '0', '0', '0', '0', '0', '0', '0', '0', '0', '0', '0', '0', '0', '0', '0', '0', '0', '0', '0', '0', '0', '0', '0', '0', '0', '0', '0', '0', '0', '0', '0', '0', '0', '0', '0', '0', '0', '0', '0', '0', '0', '0', '0', '0', '0', '0', '0', '0', '0', '0', '0', '0', '0', '0', '0', '0', '0', '0', '0', '0', '0', '0', '0', '0', '0', '0', '0', '0', '0', '0', '0', '0', '0', '0', '0', '0', '0', '0', '0', '0', '0', '0', '0', '0', '0', '0', '0', '0', '0', '0', '0', '0', '0', '0', '0', '0', '0', '0', '0', '0', '0', '0', '0', '0', '0', '0', '0', '0', '0', '0', '0', '0', '0', '0', '0', '0', '0', '0', '0', '0', '0', '0', '0', '0', '0', '0', '0', '0', '0', '0', '0', '0', '0', '0', '0', '0', '0', '0', '0', '0', '0', '0', '0', '0', '0', '0', '0', '0', '0', '0', '0', '0', '0', '0', '0', '0', '0', '0', '0', '0', '0', '0', '0', '0', '0', '0', '0', '0', '0', '0', '0', '0', '0', '0', '0', '0', '0', '0', '0', '0', '0', '0', '0', '0', '0', '0', '0', '0', '0', '0', '0', '0', '0', '0', '0', '0', '0', '0', '0', '0', '0', '0', '0', '0', '0', '0', '0', '0', '0', '0', '0', '0', '0', '0', '0', '0', '0', '0', '0', '0', '0', '0', '0', '0', '0', '0', '0', '0', '0', '0', '0', '0', '0', '0', '0', '0', '0', '0', '0', '0', '0', '0', '0', '0', '0', '0', '0', '0', '0', '0', '0', '0', '0', '0', '0', '0', '0', '0', '0', '0', '0', '0', '0', '0', '0', '0', '0', '0', '0', '0', '0', '0', '0', '0', '0', '0', '0', '0', '0', '0', '0', '0', '0', '0', '0', '0', '0', '0', '0', '0', '0', '0', '0', '0', '0', '0', '0', '0', '0', '0', '0', '0', '0', '0', '0', '0', '0', '0', '0', '0', '0', '0', '0', '0', '0', '0', '0', '0', '0', '0', '0', '0', '0', '0', '0', '0', '0', '0', '0', '0', '0', '0', '0', '0', '0', '0', '0', '0', '0', '0', '0', '0', '0', '0', '0', '0', '0', '0', '0', '0', '0', '0', '0', '0', '0', '0', '0', '0', '0', '0', '0', '0', '0', '0', '0', '0', '0', '0', '0', '0', '0', '0', '0', '0', '0', '0', '0', '0', '0', '0', '0', '0', '0', '0', '0', '0', '0', '0', '0', '0', '0', '0', '0', '0', '0', '0', '0', '0', '0', '0', '0', '0', '0', '0', '0', '0', '0', '0', '0', '0', '0', '0', '0', '0', '0', '0', '0', '0', '0', '0', '0', '0', '0', '0', '0', '0', '0', '0', '0', '0', '0', '0', '0', '0', '0', '0', '0', '0', '0', '0', '0', '0', '0', '0', '0', '0', '0', '0', '0', '0', '0', '0', '0', '0', '0', '0', '0', '0', '0', '0', '0', '0', '0', '0', '0', '0', '0', '0', '0', '0', '0', '0', '0', '0', '0', '0', '0', '0', '0', '0', '0', '0', '0', '0', '0', '0', '0', '0', '0', '0', '0', '0', '0', '0', '0', '0', '0', '0', '0', '0', '0', '0', '0', '0', '0', '0', '0', '0', '0', '0', '0', '0', '0', '0', '0', '0', '0', '0', '0', '0', '0', '0', '0', '0', '0', '0', '0', '0', '0', '0', '0', '0', '0', '0', '0', '0', '0', '0', '0', '0', '0', '0', '0', '0', '0', '0', '0', '0', '0', '0', '0', '0', '0', '0', '0', '0', '0', '0', '0', '0', '0', '0', '0', '0', '0', '0', '0', '0', '0', '0', '0', '0', '0', '0', '0', '0', '0', '0', '0', '0', '0', '0', '0', '0', '0', '0', '0', '0', '0', '0', '0', '0', '0', '0', '0', '0', '0', '0', '0', '0', '0', '0', '0', '0', '0', '0', '0', '0', '0', '0', '0', '0', '0', '0', '0', '0', '0', '0', '0', '0', '0', '0', '0', '0', '0', '0', '0', '0', '0', '0', '0', '0', '0', '0', '0', '0', '0', '0', '0', '0', '0', '0', '0', '0', '0', '0', '0', '0', '0', '0', '0', '0', '0', '0', '0', '0', '0', '0', '0', '0', '0', '0', '0', '0', '0', '0', '0', '0', '0', '0', '0', '0', '0', '0', '0', '0', '0', '0', '0', '0', '0', '0', '0', '0', '0', '0', '0', '0', '0', '0', '0', '0', '0', '0', '0', '0', '0', '0', '0', '0', '0', '0', '0', '0', '0', '0', '0', '0', '0', '0', '0', '0', '0', '0', '0', '0', '0', '0', '0', '0', '0', '0', '0', '0', '0', '0', '0', '0', '0', '0', '0', '0', '0', '0', '0', '0', '0', '0', '0', '0', '0', '0', '0', '0', '0', '0', '0', '0', '0', '0', '0', '0', '0', '0', '0', '0', '0', '0', '0', '0', '0', '0', '0', '0', '0', '0', '0', '0', '0', '0', '0', '0', '0', '0', '0', '0', '0', '0', '0', '0', '0', '0', '0', '0', '0', '0', '0', '0', '0', '0', '0', '0', '0', '0', '0', '0', '0', '0', '0', '0', '0', '0', '0', '0', '0', '0', '0', '0', '0', '0', '0', '0', '0', '0', '0', '0', '0', '0', '0', '0', '0', '0', '0', '0', '0', '0', '0', '0', '0', '0', '0', '0', '0', '0', '0', '0', '0', '0', '0', '0', '0', '0', '0', '0', '0', '0', '0', '0', '0', '0', '0', '0', '0', '0', '0', '0', '0', '0', '0', '0', '0', '0', '0', '0', '0', '0', '0', '0', '0', '0', '0', '0', '0', '0', '0', '0', '0', '0', '0', '0', '0', '0', '0', '0', '0', '0', '0', '0', '0', '0', '0', '0', '0', '0', '0', '0', '0', '0', '0', '0', '0', '0', '0', '0', '0', '0', '0', '0', '0', '0', '0', '0', '0', '0', '0', '0', '0', '0', '0', '0', '0', '0', '0', '0', '0', '0', '0', '0', '0', '0', '0', '0', '0', '0', '0', '0', '0', '0', '0', '0', '0', '0', '0', '0', '0', '0', '0', '0', '0', '0', '0', '0', '0', '0', '0', '0', '0', '0', '0', '0', '0', '0', '0', '0', '0', '0', '0', '0', '0', '0', '0', '0', '0', '0', '0', '0', '0', '0', '0', '0', '0', '0', '0', '0', '0', '0', '0', '0', '0', '0', '0', '0', '0', '0', '0', '0', '0', '0', '0', '0', '0', '0', '0', '0', '0', '0', '0', '0', '0', '0', '0', '0', '0', '0', '0', '0', '0', '0', '0', '0', '0', '0', '0', '0', '0', '0', '0', '0', '0', '0', '0', '0', '0', '0', '0', '0', '0', '0', '0', '0', '0', '0', '0', '0', '0', '0', '0', '0', '0', '0', '0', '0', '0', '0', '0', '0', '0', '0', '0', '0', '0', '0', '0', '0', '0', '0', '0', '0', '0', '0', '0', '0', '0', '0', '0', '0', '0', '0', '0', '0', '0', '0', '0', '0', '0', '0', '0', '0', '0', '0', '0', '0', '0', '0', '0', '0', '0', '0', '0', '0', '0', '0', '0', '0', '0', '0', '0', '0', '0', '0', '0', '0', '0', '0', '0', '0', '0', '0', '0', '0', '0', '0', '0', '0', '0', '0', '0', '0', '0', '0', '0', '0', '0', '0', '0', '0', '0', '0', '0', '0', '0', '0', '0', '0', '0', '0', '0', '0', '0', '0', '0', '0', '0', '0', '0', '0', '0', '0', '0', '0', '0', '0', '0', '0', '0', '0', '0', '0', '0', '0', '0', '0', '0', '0', '0', '0', '0', '0', '0', '0', '0', '0', '0', '0', '0', '0', '0', '0', '0', '0', '0', '0', '0', '0', '0', '0', '0', '0', '0', '0', '0', '0', '0', '0', '0', '0', '0', '0', '0', '0', '0', '0', '0', '0', '0', '0', '0', '0', '0', '0', '0', '0', '0', '0', '0', '0', '0', '0', '0', '0', '0', '0', '0', '0', '0', '0', '0', '0', '0', '0', '0', '0', '0', '0', '0', '0', '0', '0', '0', '0', '0', '0', '0', '0', '0', '0', '0', '0', '0', '0', '0', '0', '0', '0', '0', '0', '0', '0', '0', '0', '0', '0', '0', '0', '0', '0', '0', '0', '0', '0', '0', '0', '0', '0', '0', '0', '0', '0', '0', '0', '0', '0', '0', '0', '0', '0', '0', '0', '0', '0', '0', '0', '0', '0', '0', '0', '0', '0', '0', '0', '0', '0', '0', '0', '0', '0', '0', '0', '0', '0', '0', '0', '0', '0', '0', '0', '0', '0', '0', '0', '0', '0', '0', '0', '0', '0', '0', '0', '0', '0', '0', '0', '0', '0', '0', '0', '0', '0', '0', '0', '0', '0', '0', '0', '0', '0', '0', '0', '0', '0', '0', '0', '0', '0', '0', '0', '0', '0', '0', '0', '0', '0', '0', '0', '0', '0', '0', '0', '0', '0', '0', '0', '0', '0', '0', '0', '0', '0', '0', '0', '0', '0', '0', '0', '0', '0', '0', '0', '0', '0', '0', '0', '0', '0', '0', '0', '0', '0', '0', '0', '0', '0', '0', '0', '0', '0', '0', '0', '0', '0', '0', '0', '0', '0', '0', '0', '0', '0', '0', '0', '0', '0', '0', '0', '0', '0', '0', '0', '0', '0', '0', '0', '0', '0', '0', '0', '0', '0', '0', '0', '0', '0', '0', '0', '0', '0', '0', '0', '0', '0', '0', '0', '0', '0', '0', '0']\n"
     ]
    }
   ],
   "source": [
    "print(predicted)"
   ]
  },
  {
   "cell_type": "code",
   "execution_count": null,
   "id": "690b3db5",
   "metadata": {
    "execution": {
     "iopub.status.busy": "2021-09-30T00:19:20.315033Z",
     "iopub.status.idle": "2021-09-30T00:19:20.315897Z",
     "shell.execute_reply": "2021-09-30T00:19:20.315567Z",
     "shell.execute_reply.started": "2021-09-30T00:19:20.315543Z"
    },
    "papermill": {
     "duration": 1.249336,
     "end_time": "2021-09-30T08:38:49.577600",
     "exception": false,
     "start_time": "2021-09-30T08:38:48.328264",
     "status": "completed"
    },
    "tags": []
   },
   "outputs": [],
   "source": []
  }
 ],
 "metadata": {
  "kernelspec": {
   "display_name": "Python 3",
   "language": "python",
   "name": "python3"
  },
  "language_info": {
   "codemirror_mode": {
    "name": "ipython",
    "version": 3
   },
   "file_extension": ".py",
   "mimetype": "text/x-python",
   "name": "python",
   "nbconvert_exporter": "python",
   "pygments_lexer": "ipython3",
   "version": "3.7.10"
  },
  "papermill": {
   "default_parameters": {},
   "duration": 801.134691,
   "end_time": "2021-09-30T08:38:54.455337",
   "environment_variables": {},
   "exception": null,
   "input_path": "__notebook__.ipynb",
   "output_path": "__notebook__.ipynb",
   "parameters": {},
   "start_time": "2021-09-30T08:25:33.320646",
   "version": "2.3.3"
  }
 },
 "nbformat": 4,
 "nbformat_minor": 5
}
